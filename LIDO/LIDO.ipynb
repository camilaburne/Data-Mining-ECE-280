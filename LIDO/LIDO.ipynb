{
 "cells": [
  {
   "cell_type": "markdown",
   "id": "f2767c35",
   "metadata": {},
   "source": [
    "Some links \n",
    "\n",
    "- og link https://data.black-holes.org/waveforms/index.html\n",
    "- some variable definition _maybe_ https://data.black-holes.org/waveforms/extcce_catalog.html \n",
    "- raw files (h5) at zenodo https://zenodo.org/record/3312723 \n",
    "- repo from catalog in github https://github.com/sxs-collaboration/catalog_tools \n",
    "- rit catalog https://ccrg.rit.edu/content/data/rit-waveform-catalog\n",
    "- lal simulation https://lscsoft.docs.ligo.org/lalsuite/lalsimulation/classlalsimulation_1_1nrfits_1_1_n_r_sur7dq4_remnant_1_1_n_r_sur7dq4_remnant.html\n",
    "- nasa data https://datasetsearch.research.google.com/search?query=gravitational&docid=L2cvMTFqbnptMHE1cg%3D%3D and description file:///Users/camilaburne/Downloads/TechPort%20Data%20Sheet%20Download%2009_26_2021%2008_14%20PM%20UTC.pdf \n",
    "- visualizations https://vijayvarma392.github.io/SurrogateMovie/\n",
    "\n"
   ]
  },
  {
   "cell_type": "code",
   "execution_count": 1,
   "id": "d0556745",
   "metadata": {},
   "outputs": [],
   "source": [
    "import pandas as pd\n",
    "import matplotlib.pyplot as plt\n",
    "import itertools\n",
    "import h5py\n",
    "import numpy as np\n",
    "import pandas as pd\n"
   ]
  },
  {
   "cell_type": "code",
   "execution_count": 2,
   "id": "50b77b89",
   "metadata": {},
   "outputs": [
    {
     "data": {
      "text/plain": [
       "['AhA.dir', 'AhB.dir', 'AhC.dir']"
      ]
     },
     "execution_count": 2,
     "metadata": {},
     "output_type": "execute_result"
    }
   ],
   "source": [
    "f = h5py.File('horizons.h5', 'r')\n",
    "list(f.keys())"
   ]
  },
  {
   "cell_type": "markdown",
   "id": "f652a638",
   "metadata": {},
   "source": [
    "#### Horizons.h5\n",
    "NOTE: This file contains raw output from SpEC simulations. Coordinates t,x,y,z and dimensionful quantities in this file are in \"code units\", which are related to the total mass of the corresponding SpEC simulation. We use geometrized units, where G=c=1.\n",
    "\n",
    "This HDF5 file contains information about the black holes' apparent horizons as a function of coordinate time t in code units (not retarded time). We call the individual apparent horizons AhA and AhB, and we call the common apparent horizon AhC. Horizons.h5 contains one h5-group for each apparent horizon: AhA.dir, AhB.dir, and AhC.dir. The following datasets are provided:\n",
    "\n",
    "``` \n",
    "# ArealMass.dat                   Cols (t,Mirr)\n",
    "  Mirr is the areal (irreducible) mass sqrt(A/16π), \n",
    "  where A is the horizon surface area.\n",
    "\n",
    "# ChristodoulouMass.dat           Cols (t,M)\n",
    "  Christodoulou mass M, where M2=M2irr+S2/4M2irr and S is the \n",
    "  magnitude of the spin angular momentum of the black hole \n",
    "  (as given in DimensionfulInertialSpinMag.dat).\n",
    "\n",
    "# CoordCenterInertial.dat         Cols (t,x,y,z)\n",
    "  x ,y,z are the Cartesian coordinates of the center of the apparent\n",
    "  horizon, in the \"inertial frame,\" the asymptotically inertial frame \n",
    "  in which the gravitational waves are measured.\n",
    "\n",
    "# DimensionfulInertialSpin.dat    Cols (t,Sx,Sy,Sz)\t\n",
    "  Si are the Cartesian vector components of the spin angular momentum \n",
    "  measured on the apparent horizon in the \"inertial frame\". The spin \n",
    "  is measured using approximate rotational Killing vectors (see \n",
    "  Appendix A in arXiv:0805.4192 for details of the method used to \n",
    "  measure the spin).\n",
    "\n",
    "# DimensionfulInertialSpinMag.dat Cols (t,S)\n",
    "  S is the Euclidean magnitude of the black-hole spin angular \n",
    "  momentum given in DimensionfulInertialSpin.dat, S2=S2x+S2y+S2z.\n",
    "\n",
    "# chiInertial.dat                 Cols (t,χx,χy,χz)\n",
    "  χi=Si/M2, i.e., the Cartesian components of the spin angular\n",
    "  momentum measured in the \"inertial frame\", made dimensionless\n",
    "  by dividing by the square of the Christodoulou mass.\n",
    "  \n",
    "# chiMagInertial.dat              Cols (t,χ)\n",
    "  χ is the Euclidean magnitude of the dimensionless spin angular\n",
    "  momentum measured on the apparent horizon, χ2=χ2x+χ2y+χ2z.\n",
    "  \n",
    "```"
   ]
  },
  {
   "cell_type": "markdown",
   "id": "478796b8",
   "metadata": {},
   "source": [
    "#### My notes\n",
    "- AhB and AhA have the same Time T \n",
    "- AhC has different T \n",
    "\n",
    "- AhA AhB agujeros iniciales\n",
    "- AhC agujero final "
   ]
  },
  {
   "cell_type": "markdown",
   "id": "15793329",
   "metadata": {},
   "source": [
    "### 1. Create an empty dataframe in which we will put ALL info:\n",
    "- Columns: time and all variables measured. \n",
    "- Rows: all rows from AhA, then all rows from AhB, etc. \n"
   ]
  },
  {
   "cell_type": "code",
   "execution_count": 3,
   "id": "72d85b04",
   "metadata": {},
   "outputs": [],
   "source": [
    "aha = ['AhA']*9622\n",
    "ahb = ['AhB']*9622\n",
    "ahc = ['AhC']*2202\n",
    "my_index = list(itertools.chain(aha,ahb,ahc))"
   ]
  },
  {
   "cell_type": "code",
   "execution_count": 4,
   "id": "fb569845",
   "metadata": {},
   "outputs": [],
   "source": [
    "big_df = pd.DataFrame(columns=['time','ArealMass','ChristodoulouMass','chiMagInertial'],\n",
    "                     index = my_index)"
   ]
  },
  {
   "cell_type": "code",
   "execution_count": 5,
   "id": "f2d4687f",
   "metadata": {},
   "outputs": [
    {
     "data": {
      "text/plain": [
       "(21446, 4)"
      ]
     },
     "execution_count": 5,
     "metadata": {},
     "output_type": "execute_result"
    }
   ],
   "source": [
    "big_df.shape "
   ]
  },
  {
   "cell_type": "markdown",
   "id": "da8ce135",
   "metadata": {},
   "source": [
    "### 2. Add variables: Time, ArealMass, Chris etc, Chi etc. \n"
   ]
  },
  {
   "cell_type": "code",
   "execution_count": 6,
   "id": "bef0229a",
   "metadata": {},
   "outputs": [],
   "source": [
    "# Extracting Time from each file \n",
    "a = np.array(f['AhA.dir']['ArealMass.dat'])[:,0]\n",
    "b = np.array(f['AhB.dir']['ArealMass.dat'])[:,0]\n",
    "c = np.array(f['AhC.dir']['ArealMass.dat'])[:,0]\n",
    "\n",
    "time = np.concatenate((a,b,c), axis=0)"
   ]
  },
  {
   "cell_type": "code",
   "execution_count": 7,
   "id": "62c7d1d7",
   "metadata": {},
   "outputs": [],
   "source": [
    "# Extracting ArealMass from each file \n",
    "a = np.array(f['AhA.dir']['ArealMass.dat'])[:,1]\n",
    "b = np.array(f['AhB.dir']['ArealMass.dat'])[:,1]\n",
    "c = np.array(f['AhC.dir']['ArealMass.dat'])[:,1]\n",
    "\n",
    "areal = np.concatenate((a,b,c), axis=0)"
   ]
  },
  {
   "cell_type": "code",
   "execution_count": 8,
   "id": "68614bb5",
   "metadata": {},
   "outputs": [],
   "source": [
    "# Extracting ChristodoulouMass from each file \n",
    "a = np.array(f['AhA.dir']['ChristodoulouMass.dat'])[:,1]\n",
    "b = np.array(f['AhB.dir']['ChristodoulouMass.dat'])[:,1]\n",
    "c = np.array(f['AhC.dir']['ChristodoulouMass.dat'])[:,1]\n",
    "\n",
    "chris = np.concatenate((a,b,c), axis=0)"
   ]
  },
  {
   "cell_type": "code",
   "execution_count": 9,
   "id": "3b93143c",
   "metadata": {},
   "outputs": [],
   "source": [
    "# Extracting chiMagInertial from each file \n",
    "a = np.array(f['AhA.dir']['chiMagInertial.dat'])[:,1]\n",
    "b = np.array(f['AhB.dir']['chiMagInertial.dat'])[:,1]\n",
    "c = np.array(f['AhC.dir']['chiMagInertial.dat'])[:,1]\n",
    "\n",
    "chi = np.concatenate((a,b,c), axis=0)"
   ]
  },
  {
   "cell_type": "code",
   "execution_count": 10,
   "id": "5eb719c5",
   "metadata": {},
   "outputs": [
    {
     "data": {
      "text/plain": [
       "21446"
      ]
     },
     "execution_count": 10,
     "metadata": {},
     "output_type": "execute_result"
    }
   ],
   "source": [
    "len(time)"
   ]
  },
  {
   "cell_type": "code",
   "execution_count": 11,
   "id": "24151227",
   "metadata": {},
   "outputs": [],
   "source": [
    "big_df['time'] = time\n",
    "big_df['ArealMass'] = areal\n",
    "big_df['ChristodoulouMass'] = chris\n",
    "big_df['chiMagInertial'] = chi"
   ]
  },
  {
   "cell_type": "markdown",
   "id": "c00d61cc",
   "metadata": {},
   "source": [
    "### 3. Now the DF has some variables :) we should keep adding the rest and start building models\n"
   ]
  },
  {
   "cell_type": "code",
   "execution_count": 12,
   "id": "5ee3b6c1",
   "metadata": {},
   "outputs": [
    {
     "data": {
      "text/html": [
       "<div>\n",
       "<style scoped>\n",
       "    .dataframe tbody tr th:only-of-type {\n",
       "        vertical-align: middle;\n",
       "    }\n",
       "\n",
       "    .dataframe tbody tr th {\n",
       "        vertical-align: top;\n",
       "    }\n",
       "\n",
       "    .dataframe thead th {\n",
       "        text-align: right;\n",
       "    }\n",
       "</style>\n",
       "<table border=\"1\" class=\"dataframe\">\n",
       "  <thead>\n",
       "    <tr style=\"text-align: right;\">\n",
       "      <th></th>\n",
       "      <th>time</th>\n",
       "      <th>ArealMass</th>\n",
       "      <th>ChristodoulouMass</th>\n",
       "      <th>chiMagInertial</th>\n",
       "    </tr>\n",
       "  </thead>\n",
       "  <tbody>\n",
       "    <tr>\n",
       "      <th>AhA</th>\n",
       "      <td>0.000000</td>\n",
       "      <td>0.500000</td>\n",
       "      <td>0.500000</td>\n",
       "      <td>1.933490e-09</td>\n",
       "    </tr>\n",
       "    <tr>\n",
       "      <th>AhA</th>\n",
       "      <td>1.000000</td>\n",
       "      <td>0.500000</td>\n",
       "      <td>0.500000</td>\n",
       "      <td>2.064500e-09</td>\n",
       "    </tr>\n",
       "    <tr>\n",
       "      <th>AhA</th>\n",
       "      <td>2.000000</td>\n",
       "      <td>0.500000</td>\n",
       "      <td>0.500000</td>\n",
       "      <td>1.164660e-09</td>\n",
       "    </tr>\n",
       "    <tr>\n",
       "      <th>AhA</th>\n",
       "      <td>3.000000</td>\n",
       "      <td>0.500000</td>\n",
       "      <td>0.500000</td>\n",
       "      <td>1.066200e-08</td>\n",
       "    </tr>\n",
       "    <tr>\n",
       "      <th>AhA</th>\n",
       "      <td>4.000000</td>\n",
       "      <td>0.500000</td>\n",
       "      <td>0.500000</td>\n",
       "      <td>2.704310e-08</td>\n",
       "    </tr>\n",
       "    <tr>\n",
       "      <th>...</th>\n",
       "      <td>...</td>\n",
       "      <td>...</td>\n",
       "      <td>...</td>\n",
       "      <td>...</td>\n",
       "    </tr>\n",
       "    <tr>\n",
       "      <th>AhC</th>\n",
       "      <td>10298.881733</td>\n",
       "      <td>0.884295</td>\n",
       "      <td>0.951588</td>\n",
       "      <td>6.864943e-01</td>\n",
       "    </tr>\n",
       "    <tr>\n",
       "      <th>AhC</th>\n",
       "      <td>10304.881733</td>\n",
       "      <td>0.884295</td>\n",
       "      <td>0.951588</td>\n",
       "      <td>6.864946e-01</td>\n",
       "    </tr>\n",
       "    <tr>\n",
       "      <th>AhC</th>\n",
       "      <td>10310.881733</td>\n",
       "      <td>0.884294</td>\n",
       "      <td>0.951588</td>\n",
       "      <td>6.864949e-01</td>\n",
       "    </tr>\n",
       "    <tr>\n",
       "      <th>AhC</th>\n",
       "      <td>10316.881733</td>\n",
       "      <td>0.884294</td>\n",
       "      <td>0.951587</td>\n",
       "      <td>6.864952e-01</td>\n",
       "    </tr>\n",
       "    <tr>\n",
       "      <th>AhC</th>\n",
       "      <td>10322.881733</td>\n",
       "      <td>0.884294</td>\n",
       "      <td>0.951587</td>\n",
       "      <td>6.864955e-01</td>\n",
       "    </tr>\n",
       "  </tbody>\n",
       "</table>\n",
       "<p>21446 rows × 4 columns</p>\n",
       "</div>"
      ],
      "text/plain": [
       "             time  ArealMass  ChristodoulouMass  chiMagInertial\n",
       "AhA      0.000000   0.500000           0.500000    1.933490e-09\n",
       "AhA      1.000000   0.500000           0.500000    2.064500e-09\n",
       "AhA      2.000000   0.500000           0.500000    1.164660e-09\n",
       "AhA      3.000000   0.500000           0.500000    1.066200e-08\n",
       "AhA      4.000000   0.500000           0.500000    2.704310e-08\n",
       "..            ...        ...                ...             ...\n",
       "AhC  10298.881733   0.884295           0.951588    6.864943e-01\n",
       "AhC  10304.881733   0.884295           0.951588    6.864946e-01\n",
       "AhC  10310.881733   0.884294           0.951588    6.864949e-01\n",
       "AhC  10316.881733   0.884294           0.951587    6.864952e-01\n",
       "AhC  10322.881733   0.884294           0.951587    6.864955e-01\n",
       "\n",
       "[21446 rows x 4 columns]"
      ]
     },
     "execution_count": 12,
     "metadata": {},
     "output_type": "execute_result"
    }
   ],
   "source": [
    "big_df"
   ]
  },
  {
   "cell_type": "code",
   "execution_count": null,
   "id": "0f5096c1",
   "metadata": {},
   "outputs": [],
   "source": []
  }
 ],
 "metadata": {
  "kernelspec": {
   "display_name": "Python 3",
   "language": "python",
   "name": "python3"
  },
  "language_info": {
   "codemirror_mode": {
    "name": "ipython",
    "version": 3
   },
   "file_extension": ".py",
   "mimetype": "text/x-python",
   "name": "python",
   "nbconvert_exporter": "python",
   "pygments_lexer": "ipython3",
   "version": "3.8.8"
  }
 },
 "nbformat": 4,
 "nbformat_minor": 5
}
