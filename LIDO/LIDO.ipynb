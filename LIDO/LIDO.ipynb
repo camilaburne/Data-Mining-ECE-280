{
 "cells": [
  {
   "cell_type": "markdown",
   "id": "f2767c35",
   "metadata": {},
   "source": [
    "Some links \n",
    "\n",
    "- predicting w deep learning https://arxiv.org/abs/1911.01496 \n",
    "- og link https://data.black-holes.org/waveforms/index.html\n",
    "- some variable definition _maybe_ https://data.black-holes.org/waveforms/extcce_catalog.html \n",
    "- raw files (h5) at zenodo https://zenodo.org/record/3312723 \n",
    "- repo from catalog in github https://github.com/sxs-collaboration/catalog_tools \n",
    "- rit catalog https://ccrg.rit.edu/content/data/rit-waveform-catalog\n",
    "- lal simulation https://lscsoft.docs.ligo.org/lalsuite/lalsimulation/classlalsimulation_1_1nrfits_1_1_n_r_sur7dq4_remnant_1_1_n_r_sur7dq4_remnant.html\n",
    "- nasa data https://datasetsearch.research.google.com/search?query=gravitational&docid=L2cvMTFqbnptMHE1cg%3D%3D and description file:///Users/camilaburne/Downloads/TechPort%20Data%20Sheet%20Download%2009_26_2021%2008_14%20PM%20UTC.pdf \n",
    "- visualizations https://vijayvarma392.github.io/SurrogateMovie/\n",
    "\n"
   ]
  },
  {
   "cell_type": "code",
   "execution_count": 1,
   "id": "aa8041a4",
   "metadata": {},
   "outputs": [],
   "source": [
    "import numpy as np\n",
    "import pandas as pd\n",
    "import random\n",
    "from sklearn import linear_model\n",
    "from sklearn.metrics import mean_absolute_error, mean_squared_error\n",
    "from sklearn.linear_model import LogisticRegression\n",
    "from sklearn.model_selection import train_test_split\n",
    "from sklearn import preprocessing\n",
    "from sklearn.model_selection import KFold\n",
    "import matplotlib.pyplot as plt\n",
    "import itertools\n",
    "import h5py\n"
   ]
  },
  {
   "cell_type": "code",
   "execution_count": 2,
   "id": "031118c4",
   "metadata": {},
   "outputs": [],
   "source": [
    "pd.set_option('display.max_columns', None)"
   ]
  },
  {
   "cell_type": "markdown",
   "id": "d494ef4e",
   "metadata": {},
   "source": [
    "### Input data: Catalog.json"
   ]
  },
  {
   "cell_type": "code",
   "execution_count": 3,
   "id": "762b2c97",
   "metadata": {},
   "outputs": [],
   "source": [
    "df = pd.read_json('catalog.json')"
   ]
  },
  {
   "cell_type": "code",
   "execution_count": 4,
   "id": "e2b2113a",
   "metadata": {},
   "outputs": [
    {
     "data": {
      "text/plain": [
       "BBH_SKS     1810\n",
       "BBH_CFMS     209\n",
       "BHNS           7\n",
       "NSNS           2\n",
       "Name: initial_data_type, dtype: int64"
      ]
     },
     "execution_count": 4,
     "metadata": {},
     "output_type": "execute_result"
    }
   ],
   "source": [
    "df.initial_data_type.value_counts()"
   ]
  },
  {
   "cell_type": "code",
   "execution_count": 5,
   "id": "4127ac59",
   "metadata": {},
   "outputs": [
    {
     "data": {
      "text/html": [
       "<div>\n",
       "<style scoped>\n",
       "    .dataframe tbody tr th:only-of-type {\n",
       "        vertical-align: middle;\n",
       "    }\n",
       "\n",
       "    .dataframe tbody tr th {\n",
       "        vertical-align: top;\n",
       "    }\n",
       "\n",
       "    .dataframe thead th {\n",
       "        text-align: right;\n",
       "    }\n",
       "</style>\n",
       "<table border=\"1\" class=\"dataframe\">\n",
       "  <thead>\n",
       "    <tr style=\"text-align: right;\">\n",
       "      <th></th>\n",
       "      <th>url</th>\n",
       "      <th>simulation_name</th>\n",
       "      <th>alternative_names</th>\n",
       "      <th>initial_data_type</th>\n",
       "      <th>object_types</th>\n",
       "      <th>number_of_orbits</th>\n",
       "      <th>reference_mass_ratio</th>\n",
       "      <th>reference_chi_eff</th>\n",
       "      <th>reference_chi1_perp</th>\n",
       "      <th>reference_chi2_perp</th>\n",
       "      <th>reference_eccentricity</th>\n",
       "      <th>reference_dimensionless_spin1</th>\n",
       "      <th>reference_dimensionless_spin2</th>\n",
       "      <th>reference_orbital_frequency</th>\n",
       "      <th>reference_mass1</th>\n",
       "      <th>reference_mass2</th>\n",
       "      <th>reference_time</th>\n",
       "      <th>reference_position1</th>\n",
       "      <th>reference_position2</th>\n",
       "      <th>reference_mean_anomaly</th>\n",
       "      <th>keywords</th>\n",
       "      <th>point_of_contact_email</th>\n",
       "      <th>authors_emails</th>\n",
       "      <th>simulation_bibtex_keys</th>\n",
       "      <th>code_bibtex_keys</th>\n",
       "      <th>initial_data_bibtex_keys</th>\n",
       "      <th>quasicircular_bibtex_keys</th>\n",
       "      <th>initial_separation</th>\n",
       "      <th>initial_orbital_frequency</th>\n",
       "      <th>initial_adot</th>\n",
       "      <th>object1</th>\n",
       "      <th>object2</th>\n",
       "      <th>initial_ADM_energy</th>\n",
       "      <th>initial_ADM_linear_momentum</th>\n",
       "      <th>initial_ADM_angular_momentum</th>\n",
       "      <th>initial_mass1</th>\n",
       "      <th>initial_mass2</th>\n",
       "      <th>initial_dimensionless_spin1</th>\n",
       "      <th>initial_dimensionless_spin2</th>\n",
       "      <th>initial_position1</th>\n",
       "      <th>initial_position2</th>\n",
       "      <th>relaxation_time</th>\n",
       "      <th>common_horizon_time</th>\n",
       "      <th>remnant_mass</th>\n",
       "      <th>remnant_dimensionless_spin</th>\n",
       "      <th>remnant_velocity</th>\n",
       "      <th>metadata_version</th>\n",
       "      <th>spec_revisions</th>\n",
       "      <th>spells_revision</th>\n",
       "      <th>com_parameters</th>\n",
       "      <th>initial_mass_ratio</th>\n",
       "      <th>metadata_path</th>\n",
       "      <th>name</th>\n",
       "      <th>eos</th>\n",
       "      <th>merger_time</th>\n",
       "      <th>final_time</th>\n",
       "      <th>disk_mass</th>\n",
       "      <th>ejecta_mass</th>\n",
       "      <th>reference_spin1</th>\n",
       "      <th>reference_spin2</th>\n",
       "      <th>nitial_spin1</th>\n",
       "      <th>initial_spin2</th>\n",
       "      <th>remnant_spin</th>\n",
       "      <th>initial_mass_withspin2</th>\n",
       "    </tr>\n",
       "  </thead>\n",
       "  <tbody>\n",
       "    <tr>\n",
       "      <th>0</th>\n",
       "      <td>https://doi.org/10.5281/zenodo.1212426</td>\n",
       "      <td>d18.0_q1.0_s0_0_0_s0_0_0/Lev5</td>\n",
       "      <td>SXS:BBH:0001</td>\n",
       "      <td>BBH_CFMS</td>\n",
       "      <td>BHBH</td>\n",
       "      <td>28.119083</td>\n",
       "      <td>1.0</td>\n",
       "      <td>1.215639e-07</td>\n",
       "      <td>9.733309e-10</td>\n",
       "      <td>1.429939e-09</td>\n",
       "      <td>0.000257</td>\n",
       "      <td>[7.09752141352e-10, -6.66051760901e-10, 1.2093...</td>\n",
       "      <td>[5.84453420303e-10, 1.3050444511300001e-09, 1....</td>\n",
       "      <td>[2.8280852361099996e-13, -8.251591712050001e-1...</td>\n",
       "      <td>0.5</td>\n",
       "      <td>0.5</td>\n",
       "      <td>320.0</td>\n",
       "      <td>[-6.4605628809799995, -6.21953367941, -3.37886...</td>\n",
       "      <td>[6.46056317772, 6.21953399104, 2.00589477099e-10]</td>\n",
       "      <td>3.083240</td>\n",
       "      <td>[Non-Spinning, ManyMergers-QuasiCircular]</td>\n",
       "      <td>mroue@cita.utoronto.ca</td>\n",
       "      <td>[Mike Boyle &lt;boyle@astro.cornell.edu&gt;, Dan Hem...</td>\n",
       "      <td>[Mroue:2013xna, Boyle:2019kee, SXSCatalogWebsite]</td>\n",
       "      <td>[Ossokine:2013zga, Hemberger:2012jz, Szilagyi:...</td>\n",
       "      <td>[Buchman:2012dw, Lovelace:2008tw, Pfeiffer:200...</td>\n",
       "      <td>[Mroue:2012kv, Buonanno:2010yk, Mroue:2010re, ...</td>\n",
       "      <td>18.0</td>\n",
       "      <td>0.012203</td>\n",
       "      <td>-0.000025</td>\n",
       "      <td>bh</td>\n",
       "      <td>bh</td>\n",
       "      <td>0.993736</td>\n",
       "      <td>[7.5160071e-09, 2.4389069e-09, -5.798632e-10]</td>\n",
       "      <td>[4.27581822e-08, -2.3426250729999996e-07, 1.18...</td>\n",
       "      <td>0.5</td>\n",
       "      <td>0.5</td>\n",
       "      <td>[-6.35700000002e-13, 4.72400000001e-13, 1.0250...</td>\n",
       "      <td>[4.4999999999800006e-15, -2.8e-15, 1.559379999...</td>\n",
       "      <td>[9.000000125802465, -2.8664642100000002e-08, 0]</td>\n",
       "      <td>[-8.999999874197535, -2.8664642100000002e-08, 0]</td>\n",
       "      <td>320.0</td>\n",
       "      <td>9524.085983</td>\n",
       "      <td>0.951609</td>\n",
       "      <td>[-7.29520687012e-10, 7.40468371215e-10, 0.6864...</td>\n",
       "      <td>[1.45734870604e-09, 7.51603528474e-10, 3.72053...</td>\n",
       "      <td>1</td>\n",
       "      <td>[InitialCommit-20603-g8a2e9b6, InitialCommit-2...</td>\n",
       "      <td>InitialCommit-21848-g8d8a7d7</td>\n",
       "      <td>{'space_translation': [3.6668214400000003e-08,...</td>\n",
       "      <td>1.0</td>\n",
       "      <td>SXS:BBH:0001v6/Lev5/metadata.json</td>\n",
       "      <td>SXS:BBH:0001</td>\n",
       "      <td>NaN</td>\n",
       "      <td>NaN</td>\n",
       "      <td>NaN</td>\n",
       "      <td>NaN</td>\n",
       "      <td>NaN</td>\n",
       "      <td>NaN</td>\n",
       "      <td>NaN</td>\n",
       "      <td>NaN</td>\n",
       "      <td>NaN</td>\n",
       "      <td>NaN</td>\n",
       "      <td>NaN</td>\n",
       "    </tr>\n",
       "    <tr>\n",
       "      <th>1</th>\n",
       "      <td>https://doi.org/10.5281/zenodo.1210580</td>\n",
       "      <td>d19.0_q1.0_s0_0_0_s0_0_0/Lev6</td>\n",
       "      <td>SXS:BBH:0002</td>\n",
       "      <td>BBH_CFMS</td>\n",
       "      <td>BHBH</td>\n",
       "      <td>32.421068</td>\n",
       "      <td>1.0</td>\n",
       "      <td>9.399402e-08</td>\n",
       "      <td>7.181763e-10</td>\n",
       "      <td>1.473155e-09</td>\n",
       "      <td>0.000175</td>\n",
       "      <td>[6.50756283834e-10, -3.03798339473e-10, 9.4840...</td>\n",
       "      <td>[1.0426889812e-09, 1.04066536466e-09, 9.314798...</td>\n",
       "      <td>[2.20978373119e-13, -7.93686620079e-13, 0.0113...</td>\n",
       "      <td>0.5</td>\n",
       "      <td>0.5</td>\n",
       "      <td>310.0</td>\n",
       "      <td>[-8.87345009522, -3.32815913214, 1.74403931592...</td>\n",
       "      <td>[8.87345005146, 3.32815888263, 2.94462584419e-10]</td>\n",
       "      <td>2.514884</td>\n",
       "      <td>[Non-Spinning, ManyMergers-QuasiCircular]</td>\n",
       "      <td>mroue@cita.utoronto.ca</td>\n",
       "      <td>[Mike Boyle &lt;boyle@astro.cornell.edu&gt;, Dan Hem...</td>\n",
       "      <td>[Mroue:2013xna, Boyle:2019kee, SXSCatalogWebsite]</td>\n",
       "      <td>[Ossokine:2013zga, Hemberger:2012jz, Szilagyi:...</td>\n",
       "      <td>[Buchman:2012dw, Lovelace:2008tw, Pfeiffer:200...</td>\n",
       "      <td>[Mroue:2012kv, Buonanno:2010yk, Mroue:2010re, ...</td>\n",
       "      <td>19.0</td>\n",
       "      <td>0.011292</td>\n",
       "      <td>-0.000021</td>\n",
       "      <td>bh</td>\n",
       "      <td>bh</td>\n",
       "      <td>0.994031</td>\n",
       "      <td>[1.6810827e-09, 1.4244131e-09, -1.148397590000...</td>\n",
       "      <td>[2.7620419800000002e-06, -2.428793193e-06, 1.2...</td>\n",
       "      <td>0.5</td>\n",
       "      <td>0.5</td>\n",
       "      <td>[5.319329999989999e-11, -6.31285000002e-11, -1...</td>\n",
       "      <td>[-3.268359e-10, 2.252065e-10, -1.44598159e-08]</td>\n",
       "      <td>[9.50000028134381, 2.0830027e-07, 0]</td>\n",
       "      <td>[-9.49999971865619, 2.0830027e-07, 0]</td>\n",
       "      <td>310.0</td>\n",
       "      <td>11804.749017</td>\n",
       "      <td>0.95161</td>\n",
       "      <td>[3.7521879808300004e-10, 1.3261440201800001e-0...</td>\n",
       "      <td>[3.5996348603100005e-09, 7.181410030280001e-09...</td>\n",
       "      <td>1</td>\n",
       "      <td>[InitialCommit-20603-g8a2e9b6, InitialCommit-2...</td>\n",
       "      <td>InitialCommit-21848-g8d8a7d7</td>\n",
       "      <td>{'space_translation': [-4.66496816e-08, 2.4388...</td>\n",
       "      <td>1.0</td>\n",
       "      <td>SXS:BBH:0002v7/Lev6/metadata.json</td>\n",
       "      <td>SXS:BBH:0002</td>\n",
       "      <td>NaN</td>\n",
       "      <td>NaN</td>\n",
       "      <td>NaN</td>\n",
       "      <td>NaN</td>\n",
       "      <td>NaN</td>\n",
       "      <td>NaN</td>\n",
       "      <td>NaN</td>\n",
       "      <td>NaN</td>\n",
       "      <td>NaN</td>\n",
       "      <td>NaN</td>\n",
       "      <td>NaN</td>\n",
       "    </tr>\n",
       "  </tbody>\n",
       "</table>\n",
       "</div>"
      ],
      "text/plain": [
       "                                      url                simulation_name  \\\n",
       "0  https://doi.org/10.5281/zenodo.1212426  d18.0_q1.0_s0_0_0_s0_0_0/Lev5   \n",
       "1  https://doi.org/10.5281/zenodo.1210580  d19.0_q1.0_s0_0_0_s0_0_0/Lev6   \n",
       "\n",
       "  alternative_names initial_data_type object_types  number_of_orbits  \\\n",
       "0      SXS:BBH:0001          BBH_CFMS         BHBH         28.119083   \n",
       "1      SXS:BBH:0002          BBH_CFMS         BHBH         32.421068   \n",
       "\n",
       "   reference_mass_ratio  reference_chi_eff  reference_chi1_perp  \\\n",
       "0                   1.0       1.215639e-07         9.733309e-10   \n",
       "1                   1.0       9.399402e-08         7.181763e-10   \n",
       "\n",
       "   reference_chi2_perp reference_eccentricity  \\\n",
       "0         1.429939e-09               0.000257   \n",
       "1         1.473155e-09               0.000175   \n",
       "\n",
       "                       reference_dimensionless_spin1  \\\n",
       "0  [7.09752141352e-10, -6.66051760901e-10, 1.2093...   \n",
       "1  [6.50756283834e-10, -3.03798339473e-10, 9.4840...   \n",
       "\n",
       "                       reference_dimensionless_spin2  \\\n",
       "0  [5.84453420303e-10, 1.3050444511300001e-09, 1....   \n",
       "1  [1.0426889812e-09, 1.04066536466e-09, 9.314798...   \n",
       "\n",
       "                         reference_orbital_frequency  reference_mass1  \\\n",
       "0  [2.8280852361099996e-13, -8.251591712050001e-1...              0.5   \n",
       "1  [2.20978373119e-13, -7.93686620079e-13, 0.0113...              0.5   \n",
       "\n",
       "   reference_mass2  reference_time  \\\n",
       "0              0.5           320.0   \n",
       "1              0.5           310.0   \n",
       "\n",
       "                                 reference_position1  \\\n",
       "0  [-6.4605628809799995, -6.21953367941, -3.37886...   \n",
       "1  [-8.87345009522, -3.32815913214, 1.74403931592...   \n",
       "\n",
       "                                 reference_position2  reference_mean_anomaly  \\\n",
       "0  [6.46056317772, 6.21953399104, 2.00589477099e-10]                3.083240   \n",
       "1  [8.87345005146, 3.32815888263, 2.94462584419e-10]                2.514884   \n",
       "\n",
       "                                    keywords  point_of_contact_email  \\\n",
       "0  [Non-Spinning, ManyMergers-QuasiCircular]  mroue@cita.utoronto.ca   \n",
       "1  [Non-Spinning, ManyMergers-QuasiCircular]  mroue@cita.utoronto.ca   \n",
       "\n",
       "                                      authors_emails  \\\n",
       "0  [Mike Boyle <boyle@astro.cornell.edu>, Dan Hem...   \n",
       "1  [Mike Boyle <boyle@astro.cornell.edu>, Dan Hem...   \n",
       "\n",
       "                              simulation_bibtex_keys  \\\n",
       "0  [Mroue:2013xna, Boyle:2019kee, SXSCatalogWebsite]   \n",
       "1  [Mroue:2013xna, Boyle:2019kee, SXSCatalogWebsite]   \n",
       "\n",
       "                                    code_bibtex_keys  \\\n",
       "0  [Ossokine:2013zga, Hemberger:2012jz, Szilagyi:...   \n",
       "1  [Ossokine:2013zga, Hemberger:2012jz, Szilagyi:...   \n",
       "\n",
       "                            initial_data_bibtex_keys  \\\n",
       "0  [Buchman:2012dw, Lovelace:2008tw, Pfeiffer:200...   \n",
       "1  [Buchman:2012dw, Lovelace:2008tw, Pfeiffer:200...   \n",
       "\n",
       "                           quasicircular_bibtex_keys  initial_separation  \\\n",
       "0  [Mroue:2012kv, Buonanno:2010yk, Mroue:2010re, ...                18.0   \n",
       "1  [Mroue:2012kv, Buonanno:2010yk, Mroue:2010re, ...                19.0   \n",
       "\n",
       "   initial_orbital_frequency  initial_adot object1 object2  \\\n",
       "0                   0.012203     -0.000025      bh      bh   \n",
       "1                   0.011292     -0.000021      bh      bh   \n",
       "\n",
       "   initial_ADM_energy                        initial_ADM_linear_momentum  \\\n",
       "0            0.993736      [7.5160071e-09, 2.4389069e-09, -5.798632e-10]   \n",
       "1            0.994031  [1.6810827e-09, 1.4244131e-09, -1.148397590000...   \n",
       "\n",
       "                        initial_ADM_angular_momentum  initial_mass1  \\\n",
       "0  [4.27581822e-08, -2.3426250729999996e-07, 1.18...            0.5   \n",
       "1  [2.7620419800000002e-06, -2.428793193e-06, 1.2...            0.5   \n",
       "\n",
       "   initial_mass2                        initial_dimensionless_spin1  \\\n",
       "0            0.5  [-6.35700000002e-13, 4.72400000001e-13, 1.0250...   \n",
       "1            0.5  [5.319329999989999e-11, -6.31285000002e-11, -1...   \n",
       "\n",
       "                         initial_dimensionless_spin2  \\\n",
       "0  [4.4999999999800006e-15, -2.8e-15, 1.559379999...   \n",
       "1     [-3.268359e-10, 2.252065e-10, -1.44598159e-08]   \n",
       "\n",
       "                                 initial_position1  \\\n",
       "0  [9.000000125802465, -2.8664642100000002e-08, 0]   \n",
       "1             [9.50000028134381, 2.0830027e-07, 0]   \n",
       "\n",
       "                                  initial_position2  relaxation_time  \\\n",
       "0  [-8.999999874197535, -2.8664642100000002e-08, 0]            320.0   \n",
       "1             [-9.49999971865619, 2.0830027e-07, 0]            310.0   \n",
       "\n",
       "   common_horizon_time remnant_mass  \\\n",
       "0          9524.085983     0.951609   \n",
       "1         11804.749017      0.95161   \n",
       "\n",
       "                          remnant_dimensionless_spin  \\\n",
       "0  [-7.29520687012e-10, 7.40468371215e-10, 0.6864...   \n",
       "1  [3.7521879808300004e-10, 1.3261440201800001e-0...   \n",
       "\n",
       "                                    remnant_velocity  metadata_version  \\\n",
       "0  [1.45734870604e-09, 7.51603528474e-10, 3.72053...                 1   \n",
       "1  [3.5996348603100005e-09, 7.181410030280001e-09...                 1   \n",
       "\n",
       "                                      spec_revisions  \\\n",
       "0  [InitialCommit-20603-g8a2e9b6, InitialCommit-2...   \n",
       "1  [InitialCommit-20603-g8a2e9b6, InitialCommit-2...   \n",
       "\n",
       "                spells_revision  \\\n",
       "0  InitialCommit-21848-g8d8a7d7   \n",
       "1  InitialCommit-21848-g8d8a7d7   \n",
       "\n",
       "                                      com_parameters  initial_mass_ratio  \\\n",
       "0  {'space_translation': [3.6668214400000003e-08,...                 1.0   \n",
       "1  {'space_translation': [-4.66496816e-08, 2.4388...                 1.0   \n",
       "\n",
       "                       metadata_path          name  eos  merger_time  \\\n",
       "0  SXS:BBH:0001v6/Lev5/metadata.json  SXS:BBH:0001  NaN          NaN   \n",
       "1  SXS:BBH:0002v7/Lev6/metadata.json  SXS:BBH:0002  NaN          NaN   \n",
       "\n",
       "  final_time disk_mass ejecta_mass reference_spin1 reference_spin2  \\\n",
       "0        NaN       NaN         NaN             NaN             NaN   \n",
       "1        NaN       NaN         NaN             NaN             NaN   \n",
       "\n",
       "  nitial_spin1 initial_spin2 remnant_spin  initial_mass_withspin2  \n",
       "0          NaN           NaN          NaN                     NaN  \n",
       "1          NaN           NaN          NaN                     NaN  "
      ]
     },
     "execution_count": 5,
     "metadata": {},
     "output_type": "execute_result"
    }
   ],
   "source": [
    "df.head(2)"
   ]
  },
  {
   "cell_type": "code",
   "execution_count": 6,
   "id": "324b9bae",
   "metadata": {},
   "outputs": [],
   "source": [
    "## Exploring Keywords in DF ## \n",
    "\n",
    "#df['keywords']\n",
    "#df.loc[df.keyword1!='Precessing-Spins',]\n",
    "df[['keyword1','keyword2','keyword3']] = pd.DataFrame(df.keywords.tolist(), index= df.index)"
   ]
  },
  {
   "cell_type": "code",
   "execution_count": 7,
   "id": "9126cdb0",
   "metadata": {},
   "outputs": [
    {
     "data": {
      "text/plain": [
       "NaN                 1845\n",
       "Precessing-Spins      91\n",
       "Aligned-Spins         51\n",
       "Non-Spinning          35\n",
       "NonSpinning            4\n",
       "SpinningNS             2\n",
       "Name: keyword1, dtype: int64"
      ]
     },
     "execution_count": 7,
     "metadata": {},
     "output_type": "execute_result"
    }
   ],
   "source": [
    "df.keyword1.value_counts(dropna=False)"
   ]
  },
  {
   "cell_type": "code",
   "execution_count": 8,
   "id": "e2e86e73",
   "metadata": {},
   "outputs": [
    {
     "data": {
      "text/plain": [
       "NaN                          1845\n",
       "ManyMergers-QuasiCircular      80\n",
       "ManyMergers-Eccentric          43\n",
       "ManyMergers-Random32           32\n",
       "ManyMergers-SKS                19\n",
       "Polytrope                       8\n",
       "PiecewisePolytrope              1\n",
       "Name: keyword2, dtype: int64"
      ]
     },
     "execution_count": 8,
     "metadata": {},
     "output_type": "execute_result"
    }
   ],
   "source": [
    "df.keyword2.value_counts(dropna=False)"
   ]
  },
  {
   "cell_type": "code",
   "execution_count": 9,
   "id": "bbfa2a33",
   "metadata": {},
   "outputs": [],
   "source": [
    "predictors = ['alternative_names','reference_mass_ratio', 'reference_dimensionless_spin1',\n",
    "              'reference_dimensionless_spin2','remnant_mass','keyword1','keyword2','keyword3']"
   ]
  },
  {
   "cell_type": "code",
   "execution_count": 10,
   "id": "e465e9f9",
   "metadata": {},
   "outputs": [
    {
     "data": {
      "text/plain": [
       "Index(['url', 'simulation_name', 'alternative_names', 'initial_data_type',\n",
       "       'object_types', 'number_of_orbits', 'reference_mass_ratio',\n",
       "       'reference_chi_eff', 'reference_chi1_perp', 'reference_chi2_perp',\n",
       "       'reference_eccentricity', 'reference_dimensionless_spin1',\n",
       "       'reference_dimensionless_spin2', 'reference_orbital_frequency',\n",
       "       'reference_mass1', 'reference_mass2', 'reference_time',\n",
       "       'reference_position1', 'reference_position2', 'reference_mean_anomaly',\n",
       "       'keywords', 'point_of_contact_email', 'authors_emails',\n",
       "       'simulation_bibtex_keys', 'code_bibtex_keys',\n",
       "       'initial_data_bibtex_keys', 'quasicircular_bibtex_keys',\n",
       "       'initial_separation', 'initial_orbital_frequency', 'initial_adot',\n",
       "       'object1', 'object2', 'initial_ADM_energy',\n",
       "       'initial_ADM_linear_momentum', 'initial_ADM_angular_momentum',\n",
       "       'initial_mass1', 'initial_mass2', 'initial_dimensionless_spin1',\n",
       "       'initial_dimensionless_spin2', 'initial_position1', 'initial_position2',\n",
       "       'relaxation_time', 'common_horizon_time', 'remnant_mass',\n",
       "       'remnant_dimensionless_spin', 'remnant_velocity', 'metadata_version',\n",
       "       'spec_revisions', 'spells_revision', 'com_parameters',\n",
       "       'initial_mass_ratio', 'metadata_path', 'name', 'eos', 'merger_time',\n",
       "       'final_time', 'disk_mass', 'ejecta_mass', 'reference_spin1',\n",
       "       'reference_spin2', 'nitial_spin1', 'initial_spin2', 'remnant_spin',\n",
       "       'initial_mass_withspin2', 'keyword1', 'keyword2', 'keyword3'],\n",
       "      dtype='object')"
      ]
     },
     "execution_count": 10,
     "metadata": {},
     "output_type": "execute_result"
    }
   ],
   "source": [
    "df.columns"
   ]
  },
  {
   "cell_type": "code",
   "execution_count": 11,
   "id": "8b7a52f2",
   "metadata": {},
   "outputs": [],
   "source": [
    "# Removing rows with NA values\n",
    "df_ok = df.loc[0:2018, predictors]"
   ]
  },
  {
   "cell_type": "code",
   "execution_count": 12,
   "id": "b4bfa6be",
   "metadata": {},
   "outputs": [],
   "source": [
    "# Removing rows with outliers on remnant_mass\n",
    "df_ok = df_ok.loc[df_ok.remnant_mass < 1.5,]"
   ]
  },
  {
   "cell_type": "code",
   "execution_count": 13,
   "id": "c4d1ec11",
   "metadata": {},
   "outputs": [],
   "source": [
    "df_ok[['reference_dimensionless_spin1_1','reference_dimensionless_spin1_2','reference_dimensionless_spin1_3']] = pd.DataFrame(df_ok.reference_dimensionless_spin1.tolist(), index= df_ok.index)\n",
    "df_ok[['reference_dimensionless_spin2_1','reference_dimensionless_spin2_2','reference_dimensionless_spin2_3']] = pd.DataFrame(df_ok.reference_dimensionless_spin2.tolist(), index= df_ok.index)"
   ]
  },
  {
   "cell_type": "markdown",
   "id": "d19db717",
   "metadata": {},
   "source": [
    "### Adding Flags: Precessing, Not Spinning"
   ]
  },
  {
   "cell_type": "code",
   "execution_count": 14,
   "id": "53bb7400",
   "metadata": {},
   "outputs": [],
   "source": [
    "df_ok['precessing'] = 1\n",
    "df_ok.loc[abs(df_ok.reference_dimensionless_spin1_1) < 0.000001, 'precessing'] = 0\n",
    "\n",
    "\n",
    "df_ok['notspinning'] = 0\n",
    "df_ok.loc[(abs(df_ok.reference_dimensionless_spin1_1) < 0.0001) &\n",
    "          (abs(df_ok.reference_dimensionless_spin1_2) < 0.0001) &\n",
    "          (abs(df_ok.reference_dimensionless_spin1_3) < 0.0001) &\n",
    "          (abs(df_ok.reference_dimensionless_spin2_1) < 0.0001) &\n",
    "          (abs(df_ok.reference_dimensionless_spin2_2) < 0.0001) &\n",
    "          (abs(df_ok.reference_dimensionless_spin2_3) < 0.0001) \n",
    "          , 'notspinning'] = 1\n"
   ]
  },
  {
   "cell_type": "code",
   "execution_count": 15,
   "id": "c8f36a69",
   "metadata": {},
   "outputs": [
    {
     "data": {
      "text/plain": [
       "0    1912\n",
       "1     104\n",
       "Name: notspinning, dtype: int64"
      ]
     },
     "execution_count": 15,
     "metadata": {},
     "output_type": "execute_result"
    }
   ],
   "source": [
    "df_ok['notspinning'].value_counts()"
   ]
  },
  {
   "cell_type": "code",
   "execution_count": 16,
   "id": "a04b61e5",
   "metadata": {},
   "outputs": [
    {
     "data": {
      "text/plain": [
       "1    1421\n",
       "0     595\n",
       "Name: precessing, dtype: int64"
      ]
     },
     "execution_count": 16,
     "metadata": {},
     "output_type": "execute_result"
    }
   ],
   "source": [
    "df_ok['precessing'].value_counts()"
   ]
  },
  {
   "cell_type": "markdown",
   "id": "b0fe7ec5",
   "metadata": {},
   "source": [
    "### Variables into the model: \n",
    "\n",
    "#### X Variables\n",
    "For hole 1: \n",
    "- $\\chi_{1.1}$ = reference_dimensionless_spin1_1\n",
    "- $\\chi_{1.2}$ = reference_dimensionless_spin1_2\n",
    "- $\\chi_{1.2}$ = reference_dimensionless_spin1_3\n",
    "\n",
    "\n",
    "For hole 2: \n",
    "- $\\chi_{2.1}$ = reference_dimensionless_spin2_1\n",
    "- $\\chi_{2.2}$ = reference_dimensionless_spin2_2\n",
    "- $\\chi_{2.2}$ = reference_dimensionless_spin2_3\n",
    "\n",
    "\n",
    "For ????: \n",
    "- $q$ = reference_mass_ratio\n",
    "\n",
    "#### Y (Target) Variable \n",
    "- $m_f$ = remnant_mass\n",
    "\n",
    "\n"
   ]
  },
  {
   "cell_type": "code",
   "execution_count": 17,
   "id": "20af0804",
   "metadata": {},
   "outputs": [],
   "source": [
    "df_ok['s1'] = df_ok['reference_dimensionless_spin1_1']**2 +  df_ok['reference_dimensionless_spin1_2']**2 +  df_ok['reference_dimensionless_spin1_3']**2\n",
    "df_ok['s1'] = np.sqrt(df_ok['s1'])\n",
    "\n",
    "df_ok['s2'] = df_ok['reference_dimensionless_spin2_1']**2 +  df_ok['reference_dimensionless_spin2_2']**2 +  df_ok['reference_dimensionless_spin2_3']**2\n",
    "df_ok['s2'] = np.sqrt(df_ok['s2'])"
   ]
  },
  {
   "cell_type": "code",
   "execution_count": 18,
   "id": "26130311",
   "metadata": {},
   "outputs": [],
   "source": [
    "df_ok['eta'] = df_ok['reference_mass_ratio'] / (df_ok['reference_mass_ratio']+1)**2"
   ]
  },
  {
   "cell_type": "code",
   "execution_count": 19,
   "id": "173f5096",
   "metadata": {},
   "outputs": [],
   "source": [
    "df_ok.to_csv('/Users/camilaburne/UT/Data Mining/Data-Mining-ECE-280/LIDO/df_linear_regression.csv')"
   ]
  },
  {
   "cell_type": "code",
   "execution_count": null,
   "id": "9f5a5919",
   "metadata": {},
   "outputs": [],
   "source": [
    "df_ok"
   ]
  },
  {
   "cell_type": "code",
   "execution_count": null,
   "id": "34dcbf82",
   "metadata": {},
   "outputs": [],
   "source": [
    "X = df_ok[['reference_dimensionless_spin1_1','reference_dimensionless_spin1_2','reference_dimensionless_spin1_3',\n",
    "     'reference_dimensionless_spin2_1','reference_dimensionless_spin2_2','reference_dimensionless_spin2_3',\n",
    "     'reference_mass_ratio','precessing']]\n",
    "\n",
    "y = df_ok['remnant_mass']\n"
   ]
  },
  {
   "cell_type": "markdown",
   "id": "455fa906",
   "metadata": {},
   "source": [
    "### Statictis used for visualization, after the model: \n",
    "- $\\eta$ = reference_mass_ratio / (1+reference_mass_ratio **2)\n",
    "- $S1 = |\\chi_{1}|$\n",
    "- $S2 = |\\chi_{2}|$\n",
    "- $S_{eff} = (S1+S2)/(1−2 η M2)$"
   ]
  },
  {
   "cell_type": "code",
   "execution_count": null,
   "id": "8ef0b229",
   "metadata": {},
   "outputs": [],
   "source": [
    "eta = X['reference_mass_ratio'] / (X['reference_mass_ratio']+1)**2"
   ]
  },
  {
   "cell_type": "code",
   "execution_count": null,
   "id": "57f48aa7",
   "metadata": {},
   "outputs": [],
   "source": [
    "S1 = X['reference_dimensionless_spin1_1']**2 + X['reference_dimensionless_spin1_2']**2 + X['reference_dimensionless_spin1_3']**2\n",
    "S1 = np.sqrt(S1)"
   ]
  },
  {
   "cell_type": "code",
   "execution_count": null,
   "id": "bd7ddb23",
   "metadata": {},
   "outputs": [],
   "source": [
    "S2 = X['reference_dimensionless_spin2_1']**2 + X['reference_dimensionless_spin2_2']**2 + X['reference_dimensionless_spin2_3']**2\n",
    "S2 = np.sqrt(S2)"
   ]
  },
  {
   "cell_type": "code",
   "execution_count": null,
   "id": "7fb17fe3",
   "metadata": {},
   "outputs": [],
   "source": [
    "# Seff = (S1+S2)/(1 − (2*eta) * M2)"
   ]
  },
  {
   "cell_type": "markdown",
   "id": "3710128f",
   "metadata": {},
   "source": [
    "### Exploratory Data Analysis "
   ]
  },
  {
   "cell_type": "code",
   "execution_count": null,
   "id": "d6e23b40",
   "metadata": {},
   "outputs": [],
   "source": [
    "for i in X.columns:\n",
    "    plt.scatter(X[i], y, alpha = 0.5)\n",
    "    plt.title(i + ' vs remnant_mass')\n",
    "    plt.show()"
   ]
  },
  {
   "cell_type": "markdown",
   "id": "03d2c9b0",
   "metadata": {},
   "source": [
    "This is just a test to implement the following model\n",
    "$$m_f=\\omega_0+\\omega_1 q+\\omega_2 \\chi^1_x+\\omega_3 \\chi^1_y+\\omega_4 \\chi^1_z+\\omega_5 \\chi^2_x+\\omega_6 \\chi^2_y+\\omega_7 \\chi^2_z$$"
   ]
  },
  {
   "cell_type": "code",
   "execution_count": null,
   "id": "794a5f40",
   "metadata": {},
   "outputs": [],
   "source": [
    "X_train, X_test, y_train, y_test = train_test_split(X, y, test_size=0.25, random_state=50)"
   ]
  },
  {
   "cell_type": "code",
   "execution_count": null,
   "id": "3410811f",
   "metadata": {},
   "outputs": [],
   "source": [
    "Reg_Linear = linear_model.LinearRegression()\n",
    "Linear_fit = Reg_Linear.fit(X_train,y_train)\n",
    "Linear_predict = Linear_fit.predict(X_test)\n",
    "mse_Linear = mean_squared_error(y_test,Linear_predict)\n",
    "#Rsquared_Linear=Linear_fit.score(X_test,y_test)\n",
    "#Rsquared_Linear_2=Linear_fit.score(X_train,y_train)"
   ]
  },
  {
   "cell_type": "code",
   "execution_count": null,
   "id": "222573a7",
   "metadata": {},
   "outputs": [],
   "source": [
    "Linear_fit"
   ]
  },
  {
   "cell_type": "code",
   "execution_count": null,
   "id": "e311b597",
   "metadata": {},
   "outputs": [],
   "source": [
    "mse_Linear"
   ]
  },
  {
   "cell_type": "code",
   "execution_count": null,
   "id": "84f89974",
   "metadata": {},
   "outputs": [],
   "source": [
    "plt.scatter(X_test['reference_mass_ratio'],y_test)\n",
    "plt.title('reference_mass_ratio vs remnant_mass')\n",
    "plt.show()"
   ]
  },
  {
   "cell_type": "code",
   "execution_count": null,
   "id": "20aedaba",
   "metadata": {},
   "outputs": [],
   "source": [
    "plt.scatter(S1,y_test)\n",
    "plt.title('S1 vs remnant_mass')\n",
    "plt.show()"
   ]
  },
  {
   "cell_type": "code",
   "execution_count": null,
   "id": "79d2c3dd",
   "metadata": {},
   "outputs": [],
   "source": [
    "plt.scatter(S2,y_test)\n",
    "plt.title('S2 vs remnant_mass')\n",
    "plt.show()"
   ]
  },
  {
   "cell_type": "code",
   "execution_count": null,
   "id": "14c43994",
   "metadata": {},
   "outputs": [],
   "source": [
    "plt.scatter(eta,y_test)\n",
    "plt.title('eta vs remnant_mass')\n",
    "plt.show()"
   ]
  },
  {
   "cell_type": "code",
   "execution_count": null,
   "id": "5844da8e",
   "metadata": {},
   "outputs": [],
   "source": []
  },
  {
   "cell_type": "code",
   "execution_count": null,
   "id": "22086d30",
   "metadata": {},
   "outputs": [],
   "source": [
    "\n",
    "\n",
    "\n",
    "\n",
    "\n",
    "\n",
    "\n",
    "\n",
    "\n",
    "\n",
    "\n",
    "\n",
    "\n",
    "\n",
    "\n",
    "\n",
    "\n",
    "\n",
    "\n",
    "\n",
    "\n"
   ]
  },
  {
   "cell_type": "markdown",
   "id": "f652a638",
   "metadata": {},
   "source": [
    "#### Horizons.h5\n",
    "NOTE: This file contains raw output from SpEC simulations. Coordinates t,x,y,z and dimensionful quantities in this file are in \"code units\", which are related to the total mass of the corresponding SpEC simulation. We use geometrized units, where G=c=1.\n",
    "\n",
    "This HDF5 file contains information about the black holes' apparent horizons as a function of coordinate time t in code units (not retarded time). We call the individual apparent horizons AhA and AhB, and we call the common apparent horizon AhC. Horizons.h5 contains one h5-group for each apparent horizon: AhA.dir, AhB.dir, and AhC.dir. The following datasets are provided:\n",
    "\n",
    "``` \n",
    "# ArealMass.dat                   Cols (t,Mirr)\n",
    "  Mirr is the areal (irreducible) mass sqrt(A/16π), \n",
    "  where A is the horizon surface area.\n",
    "\n",
    "# ChristodoulouMass.dat           Cols (t,M)\n",
    "  Christodoulou mass M, where M2=M2irr+S2/4M2irr and S is the \n",
    "  magnitude of the spin angular momentum of the black hole \n",
    "  (as given in DimensionfulInertialSpinMag.dat).\n",
    "\n",
    "# CoordCenterInertial.dat         Cols (t,x,y,z)\n",
    "  x ,y,z are the Cartesian coordinates of the center of the apparent\n",
    "  horizon, in the \"inertial frame,\" the asymptotically inertial frame \n",
    "  in which the gravitational waves are measured.\n",
    "\n",
    "# DimensionfulInertialSpin.dat    Cols (t,Sx,Sy,Sz)\t\n",
    "  Si are the Cartesian vector components of the spin angular momentum \n",
    "  measured on the apparent horizon in the \"inertial frame\". The spin \n",
    "  is measured using approximate rotational Killing vectors (see \n",
    "  Appendix A in arXiv:0805.4192 for details of the method used to \n",
    "  measure the spin).\n",
    "\n",
    "# DimensionfulInertialSpinMag.dat Cols (t,S)\n",
    "  S is the Euclidean magnitude of the black-hole spin angular \n",
    "  momentum given in DimensionfulInertialSpin.dat, S2=S2x+S2y+S2z.\n",
    "\n",
    "# chiInertial.dat                 Cols (t,χx,χy,χz)\n",
    "  χi=Si/M2, i.e., the Cartesian components of the spin angular\n",
    "  momentum measured in the \"inertial frame\", made dimensionless\n",
    "  by dividing by the square of the Christodoulou mass.\n",
    "  \n",
    "# chiMagInertial.dat              Cols (t,χ)\n",
    "  χ is the Euclidean magnitude of the dimensionless spin angular\n",
    "  momentum measured on the apparent horizon, χ2=χ2x+χ2y+χ2z.\n",
    "  \n",
    "```"
   ]
  },
  {
   "cell_type": "code",
   "execution_count": null,
   "id": "0f5096c1",
   "metadata": {},
   "outputs": [],
   "source": []
  }
 ],
 "metadata": {
  "kernelspec": {
   "display_name": "Python 3",
   "language": "python",
   "name": "python3"
  },
  "language_info": {
   "codemirror_mode": {
    "name": "ipython",
    "version": 3
   },
   "file_extension": ".py",
   "mimetype": "text/x-python",
   "name": "python",
   "nbconvert_exporter": "python",
   "pygments_lexer": "ipython3",
   "version": "3.8.8"
  }
 },
 "nbformat": 4,
 "nbformat_minor": 5
}
