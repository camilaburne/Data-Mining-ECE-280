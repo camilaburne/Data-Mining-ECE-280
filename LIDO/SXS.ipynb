{
 "cells": [
  {
   "cell_type": "code",
   "execution_count": 1,
   "id": "baf2ad26",
   "metadata": {},
   "outputs": [],
   "source": [
    "import sxs\n"
   ]
  },
  {
   "cell_type": "code",
   "execution_count": 4,
   "id": "61b94523",
   "metadata": {},
   "outputs": [
    {
     "name": "stdout",
     "output_type": "stream",
     "text": [
      "Found the following files to load from the SXS catalog:\n",
      "    SXS:BBH:0123v5/Lev5/metadata.json\n",
      "Downloading to /Users/camilaburne/.sxs/cache/SXS:BBH:0123v5/Lev5/metadata.json:\n"
     ]
    },
    {
     "data": {
      "application/vnd.jupyter.widget-view+json": {
       "model_id": "c3c69f75989d428baff206d7f62962c6",
       "version_major": 2,
       "version_minor": 0
      },
      "text/plain": [
       "  0%|          | 0/4327 [00:00<?, ?it/s]"
      ]
     },
     "metadata": {},
     "output_type": "display_data"
    },
    {
     "name": "stdout",
     "output_type": "stream",
     "text": [
      "Found the following files to load from the SXS catalog:\n",
      "    SXS:BBH:0123v5/Lev5/Horizons.h5\n",
      "Downloading to /Users/camilaburne/.sxs/cache/SXS:BBH:0123v1/Lev5/Horizons.h5:\n"
     ]
    },
    {
     "data": {
      "application/vnd.jupyter.widget-view+json": {
       "model_id": "0b1b6f7a374a49e694277d39e7662d58",
       "version_major": 2,
       "version_minor": 0
      },
      "text/plain": [
       "  0%|          | 0/1943792 [00:00<?, ?it/s]"
      ]
     },
     "metadata": {},
     "output_type": "display_data"
    },
    {
     "name": "stdout",
     "output_type": "stream",
     "text": [
      "Found the following files to load from the SXS catalog:\n",
      "    SXS:BBH:0123v5/Lev5/rhOverM_Asymptotic_GeometricUnits_CoM.h5\n",
      "Downloading to /Users/camilaburne/.sxs/cache/SXS:BBH:0123v2/Lev5/rhOverM_Asymptotic_GeometricUnits_CoM.h5:\n"
     ]
    },
    {
     "data": {
      "application/vnd.jupyter.widget-view+json": {
       "model_id": "1f4f2390ca8d4f8aa104c1156d99083f",
       "version_major": 2,
       "version_minor": 0
      },
      "text/plain": [
       "  0%|          | 0/93567755 [00:00<?, ?it/s]"
      ]
     },
     "metadata": {},
     "output_type": "display_data"
    }
   ],
   "source": [
    "#catalog = sxs.load(\"catalog\") # This one wasn't working for me\n",
    "metadata = sxs.load(\"SXS:BBH:0123/Lev/metadata.json\")\n",
    "horizons = sxs.load(\"SXS:BBH:0123/Lev/Horizons.h5\")\n",
    "waveform = sxs.load(\"SXS:BBH:0123/Lev/rhOverM\", extrapolation_order=2)"
   ]
  },
  {
   "cell_type": "markdown",
   "id": "3365decd",
   "metadata": {},
   "source": [
    "### Try to download several at the same time :) got 100 so far "
   ]
  },
  {
   "cell_type": "code",
   "execution_count": null,
   "id": "a08953c2",
   "metadata": {},
   "outputs": [
    {
     "name": "stdout",
     "output_type": "stream",
     "text": [
      "loading  SXS:BBH:001/Lev/metadata.json ... \n",
      "Skipping download from 'https://data.black-holes.org/catalog.json' because local file is newer\n",
      "Found the following files to load from the SXS catalog:\n",
      "    SXS:BBH:0019v5/Lev5/metadata.json\n",
      "Downloading to /Users/camilaburne/.sxs/cache/SXS:BBH:0019v5/Lev5/metadata.json:\n"
     ]
    },
    {
     "data": {
      "application/vnd.jupyter.widget-view+json": {
       "model_id": "28235aba9d0f448baf913c25c80adcbe",
       "version_major": 2,
       "version_minor": 0
      },
      "text/plain": [
       "  0%|          | 0/4299 [00:00<?, ?it/s]"
      ]
     },
     "metadata": {},
     "output_type": "display_data"
    },
    {
     "name": "stdout",
     "output_type": "stream",
     "text": [
      "loading  SXS:BBH:002/Lev/metadata.json ... \n",
      "Found the following files to load from the SXS catalog:\n",
      "    SXS:BBH:0029v5/Lev5/metadata.json\n",
      "Downloading to /Users/camilaburne/.sxs/cache/SXS:BBH:0029v5/Lev5/metadata.json:\n"
     ]
    },
    {
     "data": {
      "application/vnd.jupyter.widget-view+json": {
       "model_id": "fffd7ed609e04f8e9cf1a0773dff5062",
       "version_major": 2,
       "version_minor": 0
      },
      "text/plain": [
       "  0%|          | 0/4310 [00:00<?, ?it/s]"
      ]
     },
     "metadata": {},
     "output_type": "display_data"
    },
    {
     "name": "stdout",
     "output_type": "stream",
     "text": [
      "loading  SXS:BBH:003/Lev/metadata.json ... \n",
      "Found the following files to load from the SXS catalog:\n",
      "    SXS:BBH:0039v5/Lev4/metadata.json\n",
      "Downloading to /Users/camilaburne/.sxs/cache/SXS:BBH:0039v5/Lev4/metadata.json:\n"
     ]
    },
    {
     "data": {
      "application/vnd.jupyter.widget-view+json": {
       "model_id": "51b7bf5929294e8cad9afbcaae39bede",
       "version_major": 2,
       "version_minor": 0
      },
      "text/plain": [
       "  0%|          | 0/4365 [00:00<?, ?it/s]"
      ]
     },
     "metadata": {},
     "output_type": "display_data"
    },
    {
     "name": "stdout",
     "output_type": "stream",
     "text": [
      "loading  SXS:BBH:004/Lev/metadata.json ... \n",
      "Found the following files to load from the SXS catalog:\n",
      "    SXS:BBH:0049v5/Lev5/metadata.json\n",
      "Downloading to /Users/camilaburne/.sxs/cache/SXS:BBH:0049v5/Lev5/metadata.json:\n"
     ]
    },
    {
     "data": {
      "application/vnd.jupyter.widget-view+json": {
       "model_id": "2fbcc7ad94904051adc1ee105e3139af",
       "version_major": 2,
       "version_minor": 0
      },
      "text/plain": [
       "  0%|          | 0/4348 [00:00<?, ?it/s]"
      ]
     },
     "metadata": {},
     "output_type": "display_data"
    },
    {
     "name": "stdout",
     "output_type": "stream",
     "text": [
      "loading  SXS:BBH:005/Lev/metadata.json ... \n",
      "Found the following files to load from the SXS catalog:\n",
      "    SXS:BBH:0059v5/Lev3/metadata.json\n",
      "Downloading to /Users/camilaburne/.sxs/cache/SXS:BBH:0059v5/Lev3/metadata.json:\n"
     ]
    },
    {
     "data": {
      "application/vnd.jupyter.widget-view+json": {
       "model_id": "94d28e01989e4e908ec3f4c2c2012743",
       "version_major": 2,
       "version_minor": 0
      },
      "text/plain": [
       "  0%|          | 0/4318 [00:00<?, ?it/s]"
      ]
     },
     "metadata": {},
     "output_type": "display_data"
    },
    {
     "name": "stdout",
     "output_type": "stream",
     "text": [
      "loading  SXS:BBH:006/Lev/metadata.json ... \n",
      "Found the following files to load from the SXS catalog:\n",
      "    SXS:BBH:0069v5/Lev5/metadata.json\n",
      "Downloading to /Users/camilaburne/.sxs/cache/SXS:BBH:0069v5/Lev5/metadata.json:\n"
     ]
    },
    {
     "data": {
      "application/vnd.jupyter.widget-view+json": {
       "model_id": "09d5ad52196a46c980c8c2dbde89c9d9",
       "version_major": 2,
       "version_minor": 0
      },
      "text/plain": [
       "  0%|          | 0/4296 [00:00<?, ?it/s]"
      ]
     },
     "metadata": {},
     "output_type": "display_data"
    },
    {
     "name": "stdout",
     "output_type": "stream",
     "text": [
      "loading  SXS:BBH:007/Lev/metadata.json ... \n",
      "Found the following files to load from the SXS catalog:\n",
      "    SXS:BBH:0079v5/Lev5/metadata.json\n",
      "Downloading to /Users/camilaburne/.sxs/cache/SXS:BBH:0079v5/Lev5/metadata.json:\n"
     ]
    },
    {
     "data": {
      "application/vnd.jupyter.widget-view+json": {
       "model_id": "741b34fc846b4e56ab837afc80159b5b",
       "version_major": 2,
       "version_minor": 0
      },
      "text/plain": [
       "  0%|          | 0/4315 [00:00<?, ?it/s]"
      ]
     },
     "metadata": {},
     "output_type": "display_data"
    },
    {
     "name": "stdout",
     "output_type": "stream",
     "text": [
      "loading  SXS:BBH:008/Lev/metadata.json ... \n",
      "Found the following files to load from the SXS catalog:\n",
      "    SXS:BBH:0089v5/Lev5/metadata.json\n",
      "Downloading to /Users/camilaburne/.sxs/cache/SXS:BBH:0089v5/Lev5/metadata.json:\n"
     ]
    },
    {
     "data": {
      "application/vnd.jupyter.widget-view+json": {
       "model_id": "cbc5c447d3e84979aa6074059cdbee2d",
       "version_major": 2,
       "version_minor": 0
      },
      "text/plain": [
       "  0%|          | 0/4325 [00:00<?, ?it/s]"
      ]
     },
     "metadata": {},
     "output_type": "display_data"
    },
    {
     "name": "stdout",
     "output_type": "stream",
     "text": [
      "loading  SXS:BBH:009/Lev/metadata.json ... \n",
      "Found the following files to load from the SXS catalog:\n",
      "    SXS:BBH:0099v5/Lev5/metadata.json\n",
      "Downloading to /Users/camilaburne/.sxs/cache/SXS:BBH:0099v5/Lev5/metadata.json:\n"
     ]
    },
    {
     "data": {
      "application/vnd.jupyter.widget-view+json": {
       "model_id": "e6e14eb877c94ba0b89c832149a7a7f6",
       "version_major": 2,
       "version_minor": 0
      },
      "text/plain": [
       "  0%|          | 0/4314 [00:00<?, ?it/s]"
      ]
     },
     "metadata": {},
     "output_type": "display_data"
    },
    {
     "name": "stdout",
     "output_type": "stream",
     "text": [
      "loading  SXS:BBH:0010/Lev/metadata.json ... \n",
      "Found the following files to load from the SXS catalog:\n",
      "    SXS:BBH:0010v5/Lev5/metadata.json\n",
      "Downloading to /Users/camilaburne/.sxs/cache/SXS:BBH:0010v5/Lev5/metadata.json:\n"
     ]
    },
    {
     "data": {
      "application/vnd.jupyter.widget-view+json": {
       "model_id": "8abe05208f0b478fb3a6740e66504247",
       "version_major": 2,
       "version_minor": 0
      },
      "text/plain": [
       "  0%|          | 0/4298 [00:00<?, ?it/s]"
      ]
     },
     "metadata": {},
     "output_type": "display_data"
    },
    {
     "name": "stdout",
     "output_type": "stream",
     "text": [
      "loading  SXS:BBH:0011/Lev/metadata.json ... \n",
      "Found the following files to load from the SXS catalog:\n",
      "    SXS:BBH:0011v5/Lev6/metadata.json\n",
      "Downloading to /Users/camilaburne/.sxs/cache/SXS:BBH:0011v5/Lev6/metadata.json:\n"
     ]
    },
    {
     "data": {
      "application/vnd.jupyter.widget-view+json": {
       "model_id": "abaf51228f47406ab0a760e45e96caeb",
       "version_major": 2,
       "version_minor": 0
      },
      "text/plain": [
       "  0%|          | 0/4308 [00:00<?, ?it/s]"
      ]
     },
     "metadata": {},
     "output_type": "display_data"
    },
    {
     "name": "stdout",
     "output_type": "stream",
     "text": [
      "loading  SXS:BBH:0012/Lev/metadata.json ... \n",
      "Found the following files to load from the SXS catalog:\n",
      "    SXS:BBH:0012v5/Lev5/metadata.json\n",
      "Downloading to /Users/camilaburne/.sxs/cache/SXS:BBH:0012v5/Lev5/metadata.json:\n"
     ]
    },
    {
     "data": {
      "application/vnd.jupyter.widget-view+json": {
       "model_id": "a683fe59c52b480eb675d2abd42d73a0",
       "version_major": 2,
       "version_minor": 0
      },
      "text/plain": [
       "  0%|          | 0/4296 [00:00<?, ?it/s]"
      ]
     },
     "metadata": {},
     "output_type": "display_data"
    },
    {
     "name": "stdout",
     "output_type": "stream",
     "text": [
      "loading  SXS:BBH:0013/Lev/metadata.json ... \n",
      "Found the following files to load from the SXS catalog:\n",
      "    SXS:BBH:0013v5/Lev5/metadata.json\n",
      "Downloading to /Users/camilaburne/.sxs/cache/SXS:BBH:0013v5/Lev5/metadata.json:\n"
     ]
    },
    {
     "data": {
      "application/vnd.jupyter.widget-view+json": {
       "model_id": "098d293bc8974f67b50d51e6a8eb2d79",
       "version_major": 2,
       "version_minor": 0
      },
      "text/plain": [
       "  0%|          | 0/4310 [00:00<?, ?it/s]"
      ]
     },
     "metadata": {},
     "output_type": "display_data"
    },
    {
     "name": "stdout",
     "output_type": "stream",
     "text": [
      "loading  SXS:BBH:0014/Lev/metadata.json ... \n",
      "Found the following files to load from the SXS catalog:\n",
      "    SXS:BBH:0014v5/Lev5/metadata.json\n",
      "Downloading to /Users/camilaburne/.sxs/cache/SXS:BBH:0014v5/Lev5/metadata.json:\n"
     ]
    },
    {
     "data": {
      "application/vnd.jupyter.widget-view+json": {
       "model_id": "4e4e723575d04c5aa9daf7b50b3c02eb",
       "version_major": 2,
       "version_minor": 0
      },
      "text/plain": [
       "  0%|          | 0/4353 [00:00<?, ?it/s]"
      ]
     },
     "metadata": {},
     "output_type": "display_data"
    },
    {
     "name": "stdout",
     "output_type": "stream",
     "text": [
      "loading  SXS:BBH:0015/Lev/metadata.json ... \n",
      "Found the following files to load from the SXS catalog:\n",
      "    SXS:BBH:0015v5/Lev6/metadata.json\n",
      "Downloading to /Users/camilaburne/.sxs/cache/SXS:BBH:0015v5/Lev6/metadata.json:\n"
     ]
    },
    {
     "data": {
      "application/vnd.jupyter.widget-view+json": {
       "model_id": "0857fc803dc147a4b81868f54564a57f",
       "version_major": 2,
       "version_minor": 0
      },
      "text/plain": [
       "  0%|          | 0/4293 [00:00<?, ?it/s]"
      ]
     },
     "metadata": {},
     "output_type": "display_data"
    },
    {
     "name": "stdout",
     "output_type": "stream",
     "text": [
      "loading  SXS:BBH:0016/Lev/metadata.json ... \n",
      "Found the following files to load from the SXS catalog:\n",
      "    SXS:BBH:0016v5/Lev6/metadata.json\n",
      "Downloading to /Users/camilaburne/.sxs/cache/SXS:BBH:0016v5/Lev6/metadata.json:\n"
     ]
    },
    {
     "data": {
      "application/vnd.jupyter.widget-view+json": {
       "model_id": "b6ccff479f4a4f87bed0283df2054d0b",
       "version_major": 2,
       "version_minor": 0
      },
      "text/plain": [
       "  0%|          | 0/4297 [00:00<?, ?it/s]"
      ]
     },
     "metadata": {},
     "output_type": "display_data"
    },
    {
     "name": "stdout",
     "output_type": "stream",
     "text": [
      "loading  SXS:BBH:0017/Lev/metadata.json ... \n",
      "Found the following files to load from the SXS catalog:\n",
      "    SXS:BBH:0017v5/Lev5/metadata.json\n",
      "Downloading to /Users/camilaburne/.sxs/cache/SXS:BBH:0017v5/Lev5/metadata.json:\n"
     ]
    },
    {
     "data": {
      "application/vnd.jupyter.widget-view+json": {
       "model_id": "baedcb13b6b54e7cb098fa8c13ffaa08",
       "version_major": 2,
       "version_minor": 0
      },
      "text/plain": [
       "  0%|          | 0/4355 [00:00<?, ?it/s]"
      ]
     },
     "metadata": {},
     "output_type": "display_data"
    },
    {
     "name": "stdout",
     "output_type": "stream",
     "text": [
      "loading  SXS:BBH:0018/Lev/metadata.json ... \n",
      "Found the following files to load from the SXS catalog:\n",
      "    SXS:BBH:0018v5/Lev6/metadata.json\n",
      "Downloading to /Users/camilaburne/.sxs/cache/SXS:BBH:0018v5/Lev6/metadata.json:\n"
     ]
    },
    {
     "data": {
      "application/vnd.jupyter.widget-view+json": {
       "model_id": "11ba7832abff4fa7b3d5d74f80f75aed",
       "version_major": 2,
       "version_minor": 0
      },
      "text/plain": [
       "  0%|          | 0/4244 [00:00<?, ?it/s]"
      ]
     },
     "metadata": {},
     "output_type": "display_data"
    },
    {
     "name": "stdout",
     "output_type": "stream",
     "text": [
      "loading  SXS:BBH:0019/Lev/metadata.json ... \n",
      "Found the following files to load from the SXS catalog:\n",
      "    SXS:BBH:0019v5/Lev5/metadata.json\n",
      "loading  SXS:BBH:0020/Lev/metadata.json ... \n",
      "Found the following files to load from the SXS catalog:\n",
      "    SXS:BBH:0020v5/Lev5/metadata.json\n",
      "Downloading to /Users/camilaburne/.sxs/cache/SXS:BBH:0020v5/Lev5/metadata.json:\n"
     ]
    },
    {
     "data": {
      "application/vnd.jupyter.widget-view+json": {
       "model_id": "67dccaeefbee4590a5ff96b1b2661e1c",
       "version_major": 2,
       "version_minor": 0
      },
      "text/plain": [
       "  0%|          | 0/4294 [00:00<?, ?it/s]"
      ]
     },
     "metadata": {},
     "output_type": "display_data"
    },
    {
     "name": "stdout",
     "output_type": "stream",
     "text": [
      "loading  SXS:BBH:0021/Lev/metadata.json ... \n",
      "Found the following files to load from the SXS catalog:\n",
      "    SXS:BBH:0021v5/Lev5/metadata.json\n",
      "Downloading to /Users/camilaburne/.sxs/cache/SXS:BBH:0021v5/Lev5/metadata.json:\n"
     ]
    },
    {
     "data": {
      "application/vnd.jupyter.widget-view+json": {
       "model_id": "920d280785f24aacbb6b78fef14218b3",
       "version_major": 2,
       "version_minor": 0
      },
      "text/plain": [
       "  0%|          | 0/4301 [00:00<?, ?it/s]"
      ]
     },
     "metadata": {},
     "output_type": "display_data"
    },
    {
     "name": "stdout",
     "output_type": "stream",
     "text": [
      "loading  SXS:BBH:0022/Lev/metadata.json ... \n",
      "Found the following files to load from the SXS catalog:\n",
      "    SXS:BBH:0022v5/Lev5/metadata.json\n",
      "Downloading to /Users/camilaburne/.sxs/cache/SXS:BBH:0022v5/Lev5/metadata.json:\n"
     ]
    },
    {
     "data": {
      "application/vnd.jupyter.widget-view+json": {
       "model_id": "46db296cab55488b9f6b4db260ee1b3d",
       "version_major": 2,
       "version_minor": 0
      },
      "text/plain": [
       "  0%|          | 0/4300 [00:00<?, ?it/s]"
      ]
     },
     "metadata": {},
     "output_type": "display_data"
    },
    {
     "name": "stdout",
     "output_type": "stream",
     "text": [
      "loading  SXS:BBH:0023/Lev/metadata.json ... \n",
      "Found the following files to load from the SXS catalog:\n",
      "    SXS:BBH:0023v5/Lev5/metadata.json\n",
      "Downloading to /Users/camilaburne/.sxs/cache/SXS:BBH:0023v5/Lev5/metadata.json:\n"
     ]
    },
    {
     "data": {
      "application/vnd.jupyter.widget-view+json": {
       "model_id": "185f4dc3c1a44f1c8e44e549c1896533",
       "version_major": 2,
       "version_minor": 0
      },
      "text/plain": [
       "  0%|          | 0/4304 [00:00<?, ?it/s]"
      ]
     },
     "metadata": {},
     "output_type": "display_data"
    },
    {
     "name": "stdout",
     "output_type": "stream",
     "text": [
      "loading  SXS:BBH:0024/Lev/metadata.json ... \n",
      "Found the following files to load from the SXS catalog:\n",
      "    SXS:BBH:0024v5/Lev5/metadata.json\n",
      "Downloading to /Users/camilaburne/.sxs/cache/SXS:BBH:0024v5/Lev5/metadata.json:\n"
     ]
    },
    {
     "data": {
      "application/vnd.jupyter.widget-view+json": {
       "model_id": "1b94cdc5cff24353bd475a9df578b475",
       "version_major": 2,
       "version_minor": 0
      },
      "text/plain": [
       "  0%|          | 0/4300 [00:00<?, ?it/s]"
      ]
     },
     "metadata": {},
     "output_type": "display_data"
    },
    {
     "name": "stdout",
     "output_type": "stream",
     "text": [
      "loading  SXS:BBH:0025/Lev/metadata.json ... \n",
      "Found the following files to load from the SXS catalog:\n",
      "    SXS:BBH:0025v5/Lev5/metadata.json\n",
      "Downloading to /Users/camilaburne/.sxs/cache/SXS:BBH:0025v5/Lev5/metadata.json:\n"
     ]
    },
    {
     "data": {
      "application/vnd.jupyter.widget-view+json": {
       "model_id": "6767cc2681374ae5b9411ef1e2e5d125",
       "version_major": 2,
       "version_minor": 0
      },
      "text/plain": [
       "  0%|          | 0/4361 [00:00<?, ?it/s]"
      ]
     },
     "metadata": {},
     "output_type": "display_data"
    },
    {
     "name": "stdout",
     "output_type": "stream",
     "text": [
      "loading  SXS:BBH:0026/Lev/metadata.json ... \n",
      "Found the following files to load from the SXS catalog:\n",
      "    SXS:BBH:0026v5/Lev6/metadata.json\n",
      "Downloading to /Users/camilaburne/.sxs/cache/SXS:BBH:0026v5/Lev6/metadata.json:\n"
     ]
    },
    {
     "data": {
      "application/vnd.jupyter.widget-view+json": {
       "model_id": "feee63c1ce5e493ab5eb2a00d9706604",
       "version_major": 2,
       "version_minor": 0
      },
      "text/plain": [
       "  0%|          | 0/4355 [00:00<?, ?it/s]"
      ]
     },
     "metadata": {},
     "output_type": "display_data"
    },
    {
     "name": "stdout",
     "output_type": "stream",
     "text": [
      "loading  SXS:BBH:0027/Lev/metadata.json ... \n",
      "Found the following files to load from the SXS catalog:\n",
      "    SXS:BBH:0027v5/Lev6/metadata.json\n",
      "Downloading to /Users/camilaburne/.sxs/cache/SXS:BBH:0027v5/Lev6/metadata.json:\n"
     ]
    },
    {
     "data": {
      "application/vnd.jupyter.widget-view+json": {
       "model_id": "4272090419354df3b7ef2278d73ee30c",
       "version_major": 2,
       "version_minor": 0
      },
      "text/plain": [
       "  0%|          | 0/4298 [00:00<?, ?it/s]"
      ]
     },
     "metadata": {},
     "output_type": "display_data"
    },
    {
     "name": "stdout",
     "output_type": "stream",
     "text": [
      "loading  SXS:BBH:0028/Lev/metadata.json ... \n",
      "Found the following files to load from the SXS catalog:\n",
      "    SXS:BBH:0028v5/Lev5/metadata.json\n",
      "Downloading to /Users/camilaburne/.sxs/cache/SXS:BBH:0028v5/Lev5/metadata.json:\n"
     ]
    },
    {
     "data": {
      "application/vnd.jupyter.widget-view+json": {
       "model_id": "1ef664f290874fa88a127b988ef32aa2",
       "version_major": 2,
       "version_minor": 0
      },
      "text/plain": [
       "  0%|          | 0/4314 [00:00<?, ?it/s]"
      ]
     },
     "metadata": {},
     "output_type": "display_data"
    },
    {
     "name": "stdout",
     "output_type": "stream",
     "text": [
      "loading  SXS:BBH:0029/Lev/metadata.json ... \n",
      "Found the following files to load from the SXS catalog:\n",
      "    SXS:BBH:0029v5/Lev5/metadata.json\n",
      "loading  SXS:BBH:0030/Lev/metadata.json ... \n",
      "Found the following files to load from the SXS catalog:\n",
      "    SXS:BBH:0030v6/Lev5/metadata.json\n",
      "Downloading to /Users/camilaburne/.sxs/cache/SXS:BBH:0030v6/Lev5/metadata.json:\n"
     ]
    },
    {
     "data": {
      "application/vnd.jupyter.widget-view+json": {
       "model_id": "7ebcf58eda644c4d92e078fa8110e4c1",
       "version_major": 2,
       "version_minor": 0
      },
      "text/plain": [
       "  0%|          | 0/4324 [00:00<?, ?it/s]"
      ]
     },
     "metadata": {},
     "output_type": "display_data"
    },
    {
     "name": "stdout",
     "output_type": "stream",
     "text": [
      "loading  SXS:BBH:0031/Lev/metadata.json ... \n",
      "Found the following files to load from the SXS catalog:\n",
      "    SXS:BBH:0031v5/Lev5/metadata.json\n",
      "Downloading to /Users/camilaburne/.sxs/cache/SXS:BBH:0031v5/Lev5/metadata.json:\n"
     ]
    },
    {
     "data": {
      "application/vnd.jupyter.widget-view+json": {
       "model_id": "200b9b95745f4f328a2ab00cda93528e",
       "version_major": 2,
       "version_minor": 0
      },
      "text/plain": [
       "  0%|          | 0/4291 [00:00<?, ?it/s]"
      ]
     },
     "metadata": {},
     "output_type": "display_data"
    },
    {
     "name": "stdout",
     "output_type": "stream",
     "text": [
      "loading  SXS:BBH:0032/Lev/metadata.json ... \n",
      "Found the following files to load from the SXS catalog:\n",
      "    SXS:BBH:0032v5/Lev5/metadata.json\n",
      "Downloading to /Users/camilaburne/.sxs/cache/SXS:BBH:0032v5/Lev5/metadata.json:\n"
     ]
    },
    {
     "data": {
      "application/vnd.jupyter.widget-view+json": {
       "model_id": "eedcbf747ba34e23b7e6b0cbebb82db1",
       "version_major": 2,
       "version_minor": 0
      },
      "text/plain": [
       "  0%|          | 0/4321 [00:00<?, ?it/s]"
      ]
     },
     "metadata": {},
     "output_type": "display_data"
    },
    {
     "name": "stdout",
     "output_type": "stream",
     "text": [
      "loading  SXS:BBH:0033/Lev/metadata.json ... \n",
      "Found the following files to load from the SXS catalog:\n",
      "    SXS:BBH:0033v5/Lev6/metadata.json\n",
      "Downloading to /Users/camilaburne/.sxs/cache/SXS:BBH:0033v5/Lev6/metadata.json:\n"
     ]
    },
    {
     "data": {
      "application/vnd.jupyter.widget-view+json": {
       "model_id": "32a92ea8a1b24c9eb8bc04a604e879fa",
       "version_major": 2,
       "version_minor": 0
      },
      "text/plain": [
       "  0%|          | 0/4311 [00:00<?, ?it/s]"
      ]
     },
     "metadata": {},
     "output_type": "display_data"
    },
    {
     "name": "stdout",
     "output_type": "stream",
     "text": [
      "loading  SXS:BBH:0034/Lev/metadata.json ... \n",
      "Found the following files to load from the SXS catalog:\n",
      "    SXS:BBH:0034v5/Lev5/metadata.json\n",
      "Downloading to /Users/camilaburne/.sxs/cache/SXS:BBH:0034v5/Lev5/metadata.json:\n"
     ]
    },
    {
     "data": {
      "application/vnd.jupyter.widget-view+json": {
       "model_id": "9a90cd4b3e5447c78d171c358bf834a4",
       "version_major": 2,
       "version_minor": 0
      },
      "text/plain": [
       "  0%|          | 0/4311 [00:00<?, ?it/s]"
      ]
     },
     "metadata": {},
     "output_type": "display_data"
    },
    {
     "name": "stdout",
     "output_type": "stream",
     "text": [
      "loading  SXS:BBH:0035/Lev/metadata.json ... \n",
      "Found the following files to load from the SXS catalog:\n",
      "    SXS:BBH:0035v5/Lev6/metadata.json\n",
      "Downloading to /Users/camilaburne/.sxs/cache/SXS:BBH:0035v5/Lev6/metadata.json:\n"
     ]
    },
    {
     "data": {
      "application/vnd.jupyter.widget-view+json": {
       "model_id": "0d1306800eff4e5091811b9dc233061d",
       "version_major": 2,
       "version_minor": 0
      },
      "text/plain": [
       "  0%|          | 0/4366 [00:00<?, ?it/s]"
      ]
     },
     "metadata": {},
     "output_type": "display_data"
    },
    {
     "name": "stdout",
     "output_type": "stream",
     "text": [
      "loading  SXS:BBH:0036/Lev/metadata.json ... \n",
      "Found the following files to load from the SXS catalog:\n",
      "    SXS:BBH:0036v5/Lev6/metadata.json\n",
      "Downloading to /Users/camilaburne/.sxs/cache/SXS:BBH:0036v5/Lev6/metadata.json:\n"
     ]
    },
    {
     "data": {
      "application/vnd.jupyter.widget-view+json": {
       "model_id": "f868ca0c549a4920bfe7b0592bfcdafd",
       "version_major": 2,
       "version_minor": 0
      },
      "text/plain": [
       "  0%|          | 0/4298 [00:00<?, ?it/s]"
      ]
     },
     "metadata": {},
     "output_type": "display_data"
    },
    {
     "name": "stdout",
     "output_type": "stream",
     "text": [
      "loading  SXS:BBH:0037/Lev/metadata.json ... \n",
      "Found the following files to load from the SXS catalog:\n",
      "    SXS:BBH:0037v5/Lev5/metadata.json\n",
      "Downloading to /Users/camilaburne/.sxs/cache/SXS:BBH:0037v5/Lev5/metadata.json:\n"
     ]
    },
    {
     "data": {
      "application/vnd.jupyter.widget-view+json": {
       "model_id": "0c271cb5c9b647bea82d84d83640758f",
       "version_major": 2,
       "version_minor": 0
      },
      "text/plain": [
       "  0%|          | 0/4304 [00:00<?, ?it/s]"
      ]
     },
     "metadata": {},
     "output_type": "display_data"
    },
    {
     "name": "stdout",
     "output_type": "stream",
     "text": [
      "loading  SXS:BBH:0038/Lev/metadata.json ... \n",
      "Found the following files to load from the SXS catalog:\n",
      "    SXS:BBH:0038v5/Lev5/metadata.json\n",
      "Downloading to /Users/camilaburne/.sxs/cache/SXS:BBH:0038v5/Lev5/metadata.json:\n"
     ]
    },
    {
     "data": {
      "application/vnd.jupyter.widget-view+json": {
       "model_id": "cc7cc000a86f41918a551fcfdb6cfc4b",
       "version_major": 2,
       "version_minor": 0
      },
      "text/plain": [
       "  0%|          | 0/4380 [00:00<?, ?it/s]"
      ]
     },
     "metadata": {},
     "output_type": "display_data"
    },
    {
     "name": "stdout",
     "output_type": "stream",
     "text": [
      "loading  SXS:BBH:0039/Lev/metadata.json ... \n",
      "Found the following files to load from the SXS catalog:\n",
      "    SXS:BBH:0039v5/Lev4/metadata.json\n",
      "loading  SXS:BBH:0040/Lev/metadata.json ... \n",
      "Found the following files to load from the SXS catalog:\n",
      "    SXS:BBH:0040v5/Lev4/metadata.json\n",
      "Downloading to /Users/camilaburne/.sxs/cache/SXS:BBH:0040v5/Lev4/metadata.json:\n"
     ]
    },
    {
     "data": {
      "application/vnd.jupyter.widget-view+json": {
       "model_id": "b951b2412d6f4595b347d92c7c6c615c",
       "version_major": 2,
       "version_minor": 0
      },
      "text/plain": [
       "  0%|          | 0/4364 [00:00<?, ?it/s]"
      ]
     },
     "metadata": {},
     "output_type": "display_data"
    },
    {
     "name": "stdout",
     "output_type": "stream",
     "text": [
      "loading  SXS:BBH:0041/Lev/metadata.json ... \n",
      "Found the following files to load from the SXS catalog:\n",
      "    SXS:BBH:0041v5/Lev4/metadata.json\n",
      "Downloading to /Users/camilaburne/.sxs/cache/SXS:BBH:0041v5/Lev4/metadata.json:\n"
     ]
    },
    {
     "data": {
      "application/vnd.jupyter.widget-view+json": {
       "model_id": "b4af05bcd12c4685b2ea9b9e4a093c33",
       "version_major": 2,
       "version_minor": 0
      },
      "text/plain": [
       "  0%|          | 0/4292 [00:00<?, ?it/s]"
      ]
     },
     "metadata": {},
     "output_type": "display_data"
    },
    {
     "name": "stdout",
     "output_type": "stream",
     "text": [
      "loading  SXS:BBH:0042/Lev/metadata.json ... \n",
      "Found the following files to load from the SXS catalog:\n",
      "    SXS:BBH:0042v5/Lev4/metadata.json\n",
      "Downloading to /Users/camilaburne/.sxs/cache/SXS:BBH:0042v5/Lev4/metadata.json:\n"
     ]
    },
    {
     "data": {
      "application/vnd.jupyter.widget-view+json": {
       "model_id": "8ed385ee349644d18acfea49cd7944e6",
       "version_major": 2,
       "version_minor": 0
      },
      "text/plain": [
       "  0%|          | 0/4367 [00:00<?, ?it/s]"
      ]
     },
     "metadata": {},
     "output_type": "display_data"
    },
    {
     "name": "stdout",
     "output_type": "stream",
     "text": [
      "loading  SXS:BBH:0043/Lev/metadata.json ... \n",
      "Found the following files to load from the SXS catalog:\n",
      "    SXS:BBH:0043v5/Lev4/metadata.json\n",
      "Downloading to /Users/camilaburne/.sxs/cache/SXS:BBH:0043v5/Lev4/metadata.json:\n"
     ]
    },
    {
     "data": {
      "application/vnd.jupyter.widget-view+json": {
       "model_id": "37816d10d98c459dbbcd06f56eaac841",
       "version_major": 2,
       "version_minor": 0
      },
      "text/plain": [
       "  0%|          | 0/4356 [00:00<?, ?it/s]"
      ]
     },
     "metadata": {},
     "output_type": "display_data"
    },
    {
     "name": "stdout",
     "output_type": "stream",
     "text": [
      "loading  SXS:BBH:0044/Lev/metadata.json ... \n",
      "Found the following files to load from the SXS catalog:\n",
      "    SXS:BBH:0044v5/Lev4/metadata.json\n",
      "Downloading to /Users/camilaburne/.sxs/cache/SXS:BBH:0044v5/Lev4/metadata.json:\n"
     ]
    },
    {
     "data": {
      "application/vnd.jupyter.widget-view+json": {
       "model_id": "8ea33e43d33d46ff847b8949f6f301fd",
       "version_major": 2,
       "version_minor": 0
      },
      "text/plain": [
       "  0%|          | 0/4306 [00:00<?, ?it/s]"
      ]
     },
     "metadata": {},
     "output_type": "display_data"
    },
    {
     "name": "stdout",
     "output_type": "stream",
     "text": [
      "loading  SXS:BBH:0045/Lev/metadata.json ... \n",
      "Found the following files to load from the SXS catalog:\n",
      "    SXS:BBH:0045v5/Lev5/metadata.json\n",
      "Downloading to /Users/camilaburne/.sxs/cache/SXS:BBH:0045v5/Lev5/metadata.json:\n"
     ]
    },
    {
     "data": {
      "application/vnd.jupyter.widget-view+json": {
       "model_id": "903f84779f2e4648a40f3254b8e97d24",
       "version_major": 2,
       "version_minor": 0
      },
      "text/plain": [
       "  0%|          | 0/4296 [00:00<?, ?it/s]"
      ]
     },
     "metadata": {},
     "output_type": "display_data"
    },
    {
     "name": "stdout",
     "output_type": "stream",
     "text": [
      "loading  SXS:BBH:0046/Lev/metadata.json ... \n",
      "Found the following files to load from the SXS catalog:\n",
      "    SXS:BBH:0046v5/Lev5/metadata.json\n",
      "Downloading to /Users/camilaburne/.sxs/cache/SXS:BBH:0046v5/Lev5/metadata.json:\n"
     ]
    },
    {
     "data": {
      "application/vnd.jupyter.widget-view+json": {
       "model_id": "e4a2d1e15e3c46dd8c3385cec4119625",
       "version_major": 2,
       "version_minor": 0
      },
      "text/plain": [
       "  0%|          | 0/4370 [00:00<?, ?it/s]"
      ]
     },
     "metadata": {},
     "output_type": "display_data"
    },
    {
     "name": "stdout",
     "output_type": "stream",
     "text": [
      "loading  SXS:BBH:0047/Lev/metadata.json ... \n",
      "Found the following files to load from the SXS catalog:\n",
      "    SXS:BBH:0047v5/Lev5/metadata.json\n",
      "Downloading to /Users/camilaburne/.sxs/cache/SXS:BBH:0047v5/Lev5/metadata.json:\n"
     ]
    },
    {
     "data": {
      "application/vnd.jupyter.widget-view+json": {
       "model_id": "c2c542e65bea47c2b97ddf5958fa6d5e",
       "version_major": 2,
       "version_minor": 0
      },
      "text/plain": [
       "  0%|          | 0/4364 [00:00<?, ?it/s]"
      ]
     },
     "metadata": {},
     "output_type": "display_data"
    },
    {
     "name": "stdout",
     "output_type": "stream",
     "text": [
      "loading  SXS:BBH:0048/Lev/metadata.json ... \n",
      "Found the following files to load from the SXS catalog:\n",
      "    SXS:BBH:0048v5/Lev5/metadata.json\n",
      "Downloading to /Users/camilaburne/.sxs/cache/SXS:BBH:0048v5/Lev5/metadata.json:\n"
     ]
    },
    {
     "data": {
      "application/vnd.jupyter.widget-view+json": {
       "model_id": "3356ff822caa48f9a6c999807a866b5f",
       "version_major": 2,
       "version_minor": 0
      },
      "text/plain": [
       "  0%|          | 0/4304 [00:00<?, ?it/s]"
      ]
     },
     "metadata": {},
     "output_type": "display_data"
    },
    {
     "name": "stdout",
     "output_type": "stream",
     "text": [
      "loading  SXS:BBH:0049/Lev/metadata.json ... \n",
      "Found the following files to load from the SXS catalog:\n",
      "    SXS:BBH:0049v5/Lev5/metadata.json\n",
      "loading  SXS:BBH:0050/Lev/metadata.json ... \n",
      "Found the following files to load from the SXS catalog:\n",
      "    SXS:BBH:0050v5/Lev5/metadata.json\n",
      "Downloading to /Users/camilaburne/.sxs/cache/SXS:BBH:0050v5/Lev5/metadata.json:\n"
     ]
    },
    {
     "data": {
      "application/vnd.jupyter.widget-view+json": {
       "model_id": "70500778fd8c4b00b12db12e1437e9ce",
       "version_major": 2,
       "version_minor": 0
      },
      "text/plain": [
       "  0%|          | 0/4289 [00:00<?, ?it/s]"
      ]
     },
     "metadata": {},
     "output_type": "display_data"
    },
    {
     "name": "stdout",
     "output_type": "stream",
     "text": [
      "loading  SXS:BBH:0051/Lev/metadata.json ... \n",
      "Found the following files to load from the SXS catalog:\n",
      "    SXS:BBH:0051v5/Lev5/metadata.json\n",
      "Downloading to /Users/camilaburne/.sxs/cache/SXS:BBH:0051v5/Lev5/metadata.json:\n"
     ]
    },
    {
     "data": {
      "application/vnd.jupyter.widget-view+json": {
       "model_id": "f305573e9a8d4333b4d1448878fa214a",
       "version_major": 2,
       "version_minor": 0
      },
      "text/plain": [
       "  0%|          | 0/4352 [00:00<?, ?it/s]"
      ]
     },
     "metadata": {},
     "output_type": "display_data"
    },
    {
     "name": "stdout",
     "output_type": "stream",
     "text": [
      "loading  SXS:BBH:0052/Lev/metadata.json ... \n",
      "Found the following files to load from the SXS catalog:\n",
      "    SXS:BBH:0052v5/Lev5/metadata.json\n",
      "Downloading to /Users/camilaburne/.sxs/cache/SXS:BBH:0052v5/Lev5/metadata.json:\n"
     ]
    },
    {
     "data": {
      "application/vnd.jupyter.widget-view+json": {
       "model_id": "1c8c6c9b3b924b309f526d2ff92cf93f",
       "version_major": 2,
       "version_minor": 0
      },
      "text/plain": [
       "  0%|          | 0/4355 [00:00<?, ?it/s]"
      ]
     },
     "metadata": {},
     "output_type": "display_data"
    },
    {
     "name": "stdout",
     "output_type": "stream",
     "text": [
      "loading  SXS:BBH:0053/Lev/metadata.json ... \n",
      "Found the following files to load from the SXS catalog:\n",
      "    SXS:BBH:0053v5/Lev5/metadata.json\n",
      "Downloading to /Users/camilaburne/.sxs/cache/SXS:BBH:0053v5/Lev5/metadata.json:\n"
     ]
    },
    {
     "data": {
      "application/vnd.jupyter.widget-view+json": {
       "model_id": "50af272f209c40dcbabeb62ec301e3dc",
       "version_major": 2,
       "version_minor": 0
      },
      "text/plain": [
       "  0%|          | 0/4360 [00:00<?, ?it/s]"
      ]
     },
     "metadata": {},
     "output_type": "display_data"
    },
    {
     "name": "stdout",
     "output_type": "stream",
     "text": [
      "loading  SXS:BBH:0054/Lev/metadata.json ... \n",
      "Found the following files to load from the SXS catalog:\n",
      "    SXS:BBH:0054v5/Lev5/metadata.json\n",
      "Downloading to /Users/camilaburne/.sxs/cache/SXS:BBH:0054v5/Lev5/metadata.json:\n"
     ]
    },
    {
     "data": {
      "application/vnd.jupyter.widget-view+json": {
       "model_id": "037f2aa860624ca9b41e0bcfb99121d4",
       "version_major": 2,
       "version_minor": 0
      },
      "text/plain": [
       "  0%|          | 0/4308 [00:00<?, ?it/s]"
      ]
     },
     "metadata": {},
     "output_type": "display_data"
    },
    {
     "name": "stdout",
     "output_type": "stream",
     "text": [
      "loading  SXS:BBH:0055/Lev/metadata.json ... \n",
      "Found the following files to load from the SXS catalog:\n",
      "    SXS:BBH:0055v5/Lev5/metadata.json\n",
      "Downloading to /Users/camilaburne/.sxs/cache/SXS:BBH:0055v5/Lev5/metadata.json:\n"
     ]
    },
    {
     "data": {
      "application/vnd.jupyter.widget-view+json": {
       "model_id": "198052cb72044be1afcd744baf240905",
       "version_major": 2,
       "version_minor": 0
      },
      "text/plain": [
       "  0%|          | 0/4307 [00:00<?, ?it/s]"
      ]
     },
     "metadata": {},
     "output_type": "display_data"
    },
    {
     "name": "stdout",
     "output_type": "stream",
     "text": [
      "loading  SXS:BBH:0056/Lev/metadata.json ... \n",
      "Found the following files to load from the SXS catalog:\n",
      "    SXS:BBH:0056v5/Lev5/metadata.json\n",
      "Downloading to /Users/camilaburne/.sxs/cache/SXS:BBH:0056v5/Lev5/metadata.json:\n"
     ]
    },
    {
     "data": {
      "application/vnd.jupyter.widget-view+json": {
       "model_id": "0c0f36bced8546e39c6bb20fdc0b3d12",
       "version_major": 2,
       "version_minor": 0
      },
      "text/plain": [
       "  0%|          | 0/4313 [00:00<?, ?it/s]"
      ]
     },
     "metadata": {},
     "output_type": "display_data"
    },
    {
     "name": "stdout",
     "output_type": "stream",
     "text": [
      "loading  SXS:BBH:0057/Lev/metadata.json ... \n",
      "Found the following files to load from the SXS catalog:\n",
      "    SXS:BBH:0057v5/Lev5/metadata.json\n",
      "Downloading to /Users/camilaburne/.sxs/cache/SXS:BBH:0057v5/Lev5/metadata.json:\n"
     ]
    },
    {
     "data": {
      "application/vnd.jupyter.widget-view+json": {
       "model_id": "615d37b7b43345b7a4944c23bfad1b93",
       "version_major": 2,
       "version_minor": 0
      },
      "text/plain": [
       "  0%|          | 0/4319 [00:00<?, ?it/s]"
      ]
     },
     "metadata": {},
     "output_type": "display_data"
    },
    {
     "name": "stdout",
     "output_type": "stream",
     "text": [
      "loading  SXS:BBH:0058/Lev/metadata.json ... \n",
      "Found the following files to load from the SXS catalog:\n",
      "    SXS:BBH:0058v5/Lev5/metadata.json\n",
      "Downloading to /Users/camilaburne/.sxs/cache/SXS:BBH:0058v5/Lev5/metadata.json:\n"
     ]
    },
    {
     "data": {
      "application/vnd.jupyter.widget-view+json": {
       "model_id": "ed7bf5a2f51b4415947d45fe40af13cf",
       "version_major": 2,
       "version_minor": 0
      },
      "text/plain": [
       "  0%|          | 0/4307 [00:00<?, ?it/s]"
      ]
     },
     "metadata": {},
     "output_type": "display_data"
    },
    {
     "name": "stdout",
     "output_type": "stream",
     "text": [
      "loading  SXS:BBH:0059/Lev/metadata.json ... \n",
      "Found the following files to load from the SXS catalog:\n",
      "    SXS:BBH:0059v5/Lev3/metadata.json\n",
      "loading  SXS:BBH:0060/Lev/metadata.json ... \n",
      "Found the following files to load from the SXS catalog:\n",
      "    SXS:BBH:0060v5/Lev4/metadata.json\n"
     ]
    }
   ],
   "source": [
    "all_metadatas = []\n",
    "#df = pd.DataFrame(columns=['alternative_names','reference_mass_ratio',])\n",
    "\n",
    "for i in range(1, 100):\n",
    "    if i < 10: \n",
    "        ref = \"SXS:BBH:000\" + str(i) + \"/Lev/metadata.json\"\n",
    "    if i < 100: \n",
    "        ref = \"SXS:BBH:00\" + str(i) + \"/Lev/metadata.json\"\n",
    "    print(\"loading \", ref, \"... \")\n",
    "    tmp = sxs.load(ref)\n",
    "    all_metadatas.append(tmp)\n",
    "    "
   ]
  },
  {
   "cell_type": "code",
   "execution_count": null,
   "id": "07212e83",
   "metadata": {},
   "outputs": [],
   "source": []
  }
 ],
 "metadata": {
  "kernelspec": {
   "display_name": "Python 3",
   "language": "python",
   "name": "python3"
  },
  "language_info": {
   "codemirror_mode": {
    "name": "ipython",
    "version": 3
   },
   "file_extension": ".py",
   "mimetype": "text/x-python",
   "name": "python",
   "nbconvert_exporter": "python",
   "pygments_lexer": "ipython3",
   "version": "3.8.8"
  }
 },
 "nbformat": 4,
 "nbformat_minor": 5
}
