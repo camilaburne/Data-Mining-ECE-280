{
 "cells": [
  {
   "cell_type": "code",
   "execution_count": 1,
   "id": "aa8041a4",
   "metadata": {},
   "outputs": [],
   "source": [
    "import numpy as np\n",
    "import pandas as pd\n",
    "import random\n",
    "#from sklearn import linear_model\n",
    "#from sklearn.metrics import mean_absolute_error, mean_squared_error\n",
    "#from sklearn.linear_model import LogisticRegression\n",
    "#from sklearn.model_selection import train_test_split\n",
    "#from sklearn import preprocessing\n",
    "#from sklearn.model_selection import KFold\n",
    "import matplotlib.pyplot as plt\n",
    "import itertools\n",
    "import h5py\n",
    "import seaborn as sns"
   ]
  },
  {
   "cell_type": "code",
   "execution_count": 2,
   "id": "b4e41ea5",
   "metadata": {},
   "outputs": [
    {
     "name": "stderr",
     "output_type": "stream",
     "text": [
      "Using TensorFlow backend.\n"
     ]
    }
   ],
   "source": [
    "import numpy as np\n",
    "import pandas as pd\n",
    "import keras\n",
    "from keras.models import Sequential\n",
    "from keras.layers import *\n",
    "from keras.preprocessing import image\n",
    "#from keras.applications import resnet50\n"
   ]
  },
  {
   "cell_type": "code",
   "execution_count": 40,
   "id": "e9397ec6",
   "metadata": {},
   "outputs": [],
   "source": [
    "from sklearn.model_selection import GridSearchCV\n",
    "from sklearn.model_selection import train_test_split\n",
    "from sklearn import linear_model\n",
    "from sklearn.metrics import mean_squared_error\n",
    "from sklearn.ensemble import RandomForestRegressor\n",
    "from sklearn.datasets import make_regression"
   ]
  },
  {
   "cell_type": "code",
   "execution_count": 4,
   "id": "031118c4",
   "metadata": {},
   "outputs": [],
   "source": [
    "pd.set_option('display.max_columns', None)\n",
    "pd.set_option('display.max_rows', None)"
   ]
  },
  {
   "cell_type": "markdown",
   "id": "d494ef4e",
   "metadata": {},
   "source": [
    "### Input data: Catalog.json"
   ]
  },
  {
   "cell_type": "code",
   "execution_count": 5,
   "id": "98a551cf",
   "metadata": {},
   "outputs": [],
   "source": [
    "df_ok = pd.read_csv('/Users/camilaburne/UT/Data Mining/Data-Mining-ECE-280/LIGO/df_predictors.csv')"
   ]
  },
  {
   "cell_type": "markdown",
   "id": "3710128f",
   "metadata": {},
   "source": [
    "### Exploratory Data Analysis "
   ]
  },
  {
   "cell_type": "markdown",
   "id": "47a3ac57",
   "metadata": {},
   "source": [
    "### 3D Chart at [rpub link](https://rpubs.com/CamilaBurneUT/remnant_mass_eta_seff)"
   ]
  },
  {
   "cell_type": "code",
   "execution_count": 6,
   "id": "34dcbf82",
   "metadata": {},
   "outputs": [],
   "source": [
    "X = df_ok[['reference_mass_ratio',\n",
    "       'reference_chi_eff',\n",
    "       'reference_chi1_perp', 'reference_chi2_perp', 'reference_mass1',\n",
    "       'reference_mass2', 'reference_dimensionless_spin1_1',\n",
    "       'reference_dimensionless_spin1_2', 'reference_dimensionless_spin1_3',\n",
    "       'reference_dimensionless_spin2_1', 'reference_dimensionless_spin2_2',\n",
    "       'reference_dimensionless_spin2_3', 'precessing', 'notspinning', 's1',\n",
    "       's2', 'eta', 's1_sum', 's2_sum', 's3_sum', 'm1+m2', 'seff']]\n",
    "\n",
    "y = df_ok['remnant_mass']\n",
    "\n",
    "y1 = df_ok['remnant_dimensionless_spin_1']\n",
    "y2 = df_ok['remnant_dimensionless_spin_2']\n",
    "y3 = df_ok['remnant_dimensionless_spin_3']\n"
   ]
  },
  {
   "cell_type": "markdown",
   "id": "d48ef486",
   "metadata": {},
   "source": [
    "### From now on is NN "
   ]
  },
  {
   "cell_type": "markdown",
   "id": "03d2c9b0",
   "metadata": {},
   "source": [
    "This is just a test to implement the following model\n",
    "$$m_f=\\omega_0+\\omega_1 q+\\omega_2 \\chi^1_x+\\omega_3 \\chi^1_y+\\omega_4 \\chi^1_z+\\omega_5 \\chi^2_x+\\omega_6 \\chi^2_y+\\omega_7 \\chi^2_z$$"
   ]
  },
  {
   "cell_type": "code",
   "execution_count": 37,
   "id": "794a5f40",
   "metadata": {},
   "outputs": [],
   "source": [
    "X_train, X_test, y_train, y_test = train_test_split(X, y, test_size=0.25, random_state=50)\n",
    "#X_train = X.sample(frac=0.6, replace=True, random_state=1)\n",
    "#X_test  = X.sample(frac=0.4, replace=True, random_state=1)\n",
    "#y_train = y.sample(frac=0.6, replace=True, random_state=1)\n",
    "#y_test  = y.sample(frac=0.4, replace=True, random_state=1)\n"
   ]
  },
  {
   "cell_type": "markdown",
   "id": "08214025",
   "metadata": {},
   "source": [
    "#### Checking distribution of X in test vs train "
   ]
  },
  {
   "cell_type": "code",
   "execution_count": 38,
   "id": "ffc433fc",
   "metadata": {},
   "outputs": [
    {
     "data": {
      "text/plain": [
       "1    0.695767\n",
       "0    0.304233\n",
       "Name: precessing, dtype: float64"
      ]
     },
     "execution_count": 38,
     "metadata": {},
     "output_type": "execute_result"
    }
   ],
   "source": [
    "X_train.precessing.value_counts(normalize=True)"
   ]
  },
  {
   "cell_type": "code",
   "execution_count": 39,
   "id": "403ee7d5",
   "metadata": {},
   "outputs": [
    {
     "data": {
      "text/plain": [
       "1    0.732143\n",
       "0    0.267857\n",
       "Name: precessing, dtype: float64"
      ]
     },
     "execution_count": 39,
     "metadata": {},
     "output_type": "execute_result"
    }
   ],
   "source": [
    "X_test.precessing.value_counts(normalize=True)"
   ]
  },
  {
   "cell_type": "code",
   "execution_count": null,
   "id": "80d490c7",
   "metadata": {},
   "outputs": [],
   "source": [
    "X_train.notspinning.value_counts(normalize=True)"
   ]
  },
  {
   "cell_type": "code",
   "execution_count": null,
   "id": "09c5a9e3",
   "metadata": {},
   "outputs": [],
   "source": [
    "X_test.notspinning.value_counts(normalize=True)"
   ]
  },
  {
   "cell_type": "code",
   "execution_count": null,
   "id": "cc527f88",
   "metadata": {},
   "outputs": [],
   "source": [
    "sns.displot(X_test.reference_mass1, kde=True)\n",
    "plt.show()"
   ]
  },
  {
   "cell_type": "code",
   "execution_count": null,
   "id": "b7ddcfbf",
   "metadata": {},
   "outputs": [],
   "source": [
    "sns.displot(X_train.reference_mass1, kde=True)\n",
    "plt.show()"
   ]
  },
  {
   "cell_type": "code",
   "execution_count": null,
   "id": "0092fc86",
   "metadata": {},
   "outputs": [],
   "source": [
    "sns.displot(y_train, kde=True)\n",
    "plt.show()"
   ]
  },
  {
   "cell_type": "code",
   "execution_count": null,
   "id": "5b1ba7a6",
   "metadata": {},
   "outputs": [],
   "source": [
    "sns.displot(y_test, kde=True)\n",
    "plt.show()"
   ]
  },
  {
   "cell_type": "markdown",
   "id": "e25f5516",
   "metadata": {},
   "source": [
    "### Linear Reg"
   ]
  },
  {
   "cell_type": "code",
   "execution_count": 10,
   "id": "3410811f",
   "metadata": {},
   "outputs": [],
   "source": [
    "Reg_Linear = linear_model.LinearRegression()\n",
    "Linear_fit = Reg_Linear.fit(X_train,y_train)\n",
    "Linear_predict = Linear_fit.predict(X_test)\n",
    "mse_Linear = mean_squared_error(y_test,Linear_predict)\n",
    "#Rsquared_Linear=Linear_fit.score(X_test,y_test)\n",
    "#Rsquared_Linear_2=Linear_fit.score(X_train,y_train)"
   ]
  },
  {
   "cell_type": "code",
   "execution_count": 11,
   "id": "222573a7",
   "metadata": {},
   "outputs": [
    {
     "data": {
      "text/plain": [
       "LinearRegression()"
      ]
     },
     "execution_count": 11,
     "metadata": {},
     "output_type": "execute_result"
    }
   ],
   "source": [
    "Linear_fit"
   ]
  },
  {
   "cell_type": "code",
   "execution_count": 12,
   "id": "e311b597",
   "metadata": {},
   "outputs": [
    {
     "data": {
      "text/plain": [
       "7.319456422266982e-06"
      ]
     },
     "execution_count": 12,
     "metadata": {},
     "output_type": "execute_result"
    }
   ],
   "source": [
    "mse_Linear"
   ]
  },
  {
   "cell_type": "code",
   "execution_count": null,
   "id": "5844da8e",
   "metadata": {},
   "outputs": [],
   "source": []
  },
  {
   "cell_type": "code",
   "execution_count": null,
   "id": "22086d30",
   "metadata": {},
   "outputs": [],
   "source": [
    "\n",
    "\n",
    "\n",
    "\n",
    "\n",
    "\n",
    "\n",
    "\n",
    "\n",
    "\n",
    "\n",
    "\n",
    "\n",
    "\n",
    "\n",
    "\n",
    "\n",
    "\n",
    "\n",
    "\n",
    "\n"
   ]
  },
  {
   "cell_type": "code",
   "execution_count": null,
   "id": "0f5096c1",
   "metadata": {},
   "outputs": [],
   "source": [
    "import numpy as np\n",
    "import pandas as pd\n",
    "import keras\n",
    "from keras.models import Sequential\n",
    "from keras.layers import *\n",
    "from keras.preprocessing import image\n",
    "#from keras.applications import resnet50\n"
   ]
  },
  {
   "cell_type": "markdown",
   "id": "1ef59013",
   "metadata": {},
   "source": [
    "<h3><font color='#07a4b3'> Neural Networks </font></h3>\n",
    "\n",
    "\n",
    "``` \n",
    "    lay     act  nodes  opt    lr     epoch   momtm  *error*\n",
    "m1    3    relu    256  adam   0.001    200          3.80e-06\n",
    "m2    3    relu    256  SGD    0.001    200   0.001  0.00091\n",
    "m3    4    relu    256  adam   0.001    200          1.26e-05\n",
    "m4    5    relu   4096  adam   0.001    200          2.44e-06\n",
    "``` \n",
    "<h3><font color='#f16913'> Random Forest Regressor </font></h3>\n",
    "\n",
    "``` \n",
    "     depth                                           *error* \n",
    "r1       3                                           2.28e-05\n",
    "``` "
   ]
  },
  {
   "cell_type": "markdown",
   "id": "ecee4810",
   "metadata": {},
   "source": [
    "## m1"
   ]
  },
  {
   "cell_type": "code",
   "execution_count": 13,
   "id": "108e502e",
   "metadata": {},
   "outputs": [],
   "source": [
    "m1 = Sequential(name=\"M1\")\n",
    "m1.add(Dense(50 , input_dim=22, activation=\"relu\",   name=\"layer1\"))\n",
    "m1.add(Dense(256, activation=\"relu\",   name=\"layer2\"))\n",
    "m1.add(Dense(1  , activation='linear', name=\"layer3\"))\n",
    "\n",
    "o1 = keras.optimizers.Adam(learning_rate=0.001)\n",
    "m1.compile(loss='mean_squared_error', optimizer=o1)"
   ]
  },
  {
   "cell_type": "code",
   "execution_count": 15,
   "id": "c86f25a0",
   "metadata": {},
   "outputs": [],
   "source": [
    "# Fit the model\n",
    "history = m1.fit(X_train,y_train,epochs=200,shuffle=True,verbose=0)"
   ]
  },
  {
   "cell_type": "code",
   "execution_count": 18,
   "id": "b5142db5",
   "metadata": {},
   "outputs": [],
   "source": [
    "test_error_m1 = m1.evaluate(X_test, y_test, verbose=0)"
   ]
  },
  {
   "cell_type": "code",
   "execution_count": 19,
   "id": "f3a9d5b0",
   "metadata": {},
   "outputs": [
    {
     "data": {
      "text/plain": [
       "3.8035329474777904e-06"
      ]
     },
     "execution_count": 19,
     "metadata": {},
     "output_type": "execute_result"
    }
   ],
   "source": [
    "test_error_m1"
   ]
  },
  {
   "cell_type": "code",
   "execution_count": 16,
   "id": "39cb9caf",
   "metadata": {},
   "outputs": [
    {
     "data": {
      "image/png": "[encoded data removed]",
      "text/plain": [
       "<Figure size 432x288 with 1 Axes>"
      ]
     },
     "metadata": {
      "needs_background": "light"
     },
     "output_type": "display_data"
    }
   ],
   "source": [
    "# summarize history for loss\n",
    "plt.plot(history.history['loss'])\n",
    "plt.title('model loss')\n",
    "plt.ylabel('loss')\n",
    "plt.xlabel('epoch')\n",
    "plt.show()\n",
    "\n"
   ]
  },
  {
   "cell_type": "markdown",
   "id": "5ed9148e",
   "metadata": {},
   "source": [
    "## m2"
   ]
  },
  {
   "cell_type": "code",
   "execution_count": 20,
   "id": "a97ad8d7",
   "metadata": {},
   "outputs": [],
   "source": [
    "m2 = Sequential(name=\"M2\")\n",
    "m2.add(Dense(50 , input_dim=22, activation=\"relu\",   name=\"layer1\"))\n",
    "m2.add(Dense(256, activation=\"relu\",   name=\"layer2\"))\n",
    "m2.add(Dense(1  , activation='linear', name=\"layer3\"))\n",
    "\n",
    "o1 = keras.optimizers.SGD(learning_rate=0.001, momentum=0.001)\n",
    "m2.compile(loss='mean_squared_error', optimizer=o1)"
   ]
  },
  {
   "cell_type": "code",
   "execution_count": 23,
   "id": "cd02171e",
   "metadata": {},
   "outputs": [
    {
     "data": {
      "text/plain": [
       "0.0009158195609906836"
      ]
     },
     "execution_count": 23,
     "metadata": {},
     "output_type": "execute_result"
    }
   ],
   "source": [
    "# Fit the model\n",
    "history2 = m2.fit(X_train,y_train,epochs=200,shuffle=True,verbose=0)\n",
    "test_error_m2 = m2.evaluate(X_test, y_test, verbose=0)\n",
    "test_error_m2"
   ]
  },
  {
   "cell_type": "code",
   "execution_count": 24,
   "id": "0ccdf897",
   "metadata": {},
   "outputs": [
    {
     "data": {
      "image/png": "[encoded data removed]",
      "text/plain": [
       "<Figure size 432x288 with 1 Axes>"
      ]
     },
     "metadata": {
      "needs_background": "light"
     },
     "output_type": "display_data"
    }
   ],
   "source": [
    "# summarize history for loss\n",
    "plt.plot(history2.history['loss'])\n",
    "plt.title('model loss')\n",
    "plt.ylabel('loss')\n",
    "plt.xlabel('epoch')\n",
    "plt.show()\n",
    "\n"
   ]
  },
  {
   "cell_type": "markdown",
   "id": "cfbbf75e",
   "metadata": {},
   "source": [
    "## m3"
   ]
  },
  {
   "cell_type": "code",
   "execution_count": 26,
   "id": "3b0f4fb7",
   "metadata": {},
   "outputs": [],
   "source": [
    "m3 = Sequential(name=\"M3\")\n",
    "m3.add(Dense(50 , input_dim=22, activation=\"relu\",   name=\"layer1\"))\n",
    "m3.add(Dense(256, activation=\"relu\",   name=\"layer2\"))\n",
    "m3.add(Dense(64, activation=\"relu\",    name=\"layer3\"))\n",
    "m3.add(Dense(1  , activation='linear', name=\"layer4\"))\n",
    "\n",
    "o1 = keras.optimizers.Adam(learning_rate=0.001)\n",
    "m3.compile(loss='mean_squared_error', optimizer=o1)"
   ]
  },
  {
   "cell_type": "code",
   "execution_count": 28,
   "id": "e57f9225",
   "metadata": {},
   "outputs": [
    {
     "data": {
      "text/plain": [
       "1.2618842418536559e-05"
      ]
     },
     "execution_count": 28,
     "metadata": {},
     "output_type": "execute_result"
    }
   ],
   "source": [
    "# Fit the model\n",
    "history3 = m3.fit(X_train,y_train,epochs=200,shuffle=True,verbose=0)\n",
    "test_error_m3 = m3.evaluate(X_test, y_test, verbose=0)\n",
    "test_error_m3"
   ]
  },
  {
   "cell_type": "code",
   "execution_count": 29,
   "id": "bdd060cc",
   "metadata": {},
   "outputs": [
    {
     "data": {
      "image/png": "[encoded data removed]",
      "text/plain": [
       "<Figure size 432x288 with 1 Axes>"
      ]
     },
     "metadata": {
      "needs_background": "light"
     },
     "output_type": "display_data"
    }
   ],
   "source": [
    "# summarize history for loss\n",
    "plt.plot(history3.history['loss'])\n",
    "plt.title('model loss')\n",
    "plt.ylabel('loss')\n",
    "plt.xlabel('epoch')\n",
    "plt.show()\n",
    "\n"
   ]
  },
  {
   "cell_type": "markdown",
   "id": "df509b02",
   "metadata": {},
   "source": [
    "## m4 - same as paper "
   ]
  },
  {
   "cell_type": "code",
   "execution_count": 31,
   "id": "3852acc8",
   "metadata": {},
   "outputs": [],
   "source": [
    "m4 = Sequential(name=\"M4\")\n",
    "m4.add(Dense(4096 , input_dim=22, activation=\"relu\",   name=\"layer1\"))\n",
    "m4.add(Dense(256, activation=\"relu\",   name=\"layer2\"))\n",
    "m4.add(Dense(64,  activation=\"relu\",   name=\"layer3\"))\n",
    "m4.add(Dense(8  , activation='relu',   name=\"layer4\"))\n",
    "m4.add(Dense(1  , activation='linear', name=\"lastlayer\"))\n",
    "\n",
    "o1 = keras.optimizers.Adam(learning_rate=0.001)\n",
    "m4.compile(loss='mean_squared_error', optimizer=o1)"
   ]
  },
  {
   "cell_type": "code",
   "execution_count": 32,
   "id": "3cd618ca",
   "metadata": {},
   "outputs": [
    {
     "data": {
      "text/plain": [
       "2.4427524496988754e-06"
      ]
     },
     "execution_count": 32,
     "metadata": {},
     "output_type": "execute_result"
    }
   ],
   "source": [
    "# Fit the model\n",
    "history4 = m4.fit(X_train,y_train,epochs=200,shuffle=True,verbose=0)\n",
    "test_error_m4 = m4.evaluate(X_test, y_test, verbose=0)\n",
    "test_error_m4"
   ]
  },
  {
   "cell_type": "code",
   "execution_count": 33,
   "id": "1c11ff39",
   "metadata": {},
   "outputs": [
    {
     "data": {
      "image/png": "[encoded data removed]",
      "text/plain": [
       "<Figure size 432x288 with 1 Axes>"
      ]
     },
     "metadata": {
      "needs_background": "light"
     },
     "output_type": "display_data"
    }
   ],
   "source": [
    "# summarize history for loss\n",
    "plt.plot(history4.history['loss'])\n",
    "plt.title('model loss')\n",
    "plt.ylabel('loss')\n",
    "plt.xlabel('epoch')\n",
    "plt.show()\n"
   ]
  },
  {
   "cell_type": "markdown",
   "id": "d77cb145",
   "metadata": {},
   "source": [
    "## Random Forest model \n"
   ]
  },
  {
   "cell_type": "code",
   "execution_count": 41,
   "id": "c5918b34",
   "metadata": {},
   "outputs": [],
   "source": [
    "regr = RandomForestRegressor(max_depth=3, random_state=0)\n",
    "r1   = regr.fit(X_train, y_train)"
   ]
  },
  {
   "cell_type": "code",
   "execution_count": 44,
   "id": "9c2e4596",
   "metadata": {},
   "outputs": [],
   "source": [
    "pred = r1.predict(X_test)"
   ]
  },
  {
   "cell_type": "code",
   "execution_count": 46,
   "id": "b5e551c3",
   "metadata": {},
   "outputs": [
    {
     "data": {
      "text/plain": [
       "2.288166719191613e-05"
      ]
     },
     "execution_count": 46,
     "metadata": {},
     "output_type": "execute_result"
    }
   ],
   "source": [
    "mean_squared_error(y_test, pred)"
   ]
  },
  {
   "cell_type": "code",
   "execution_count": null,
   "id": "ff86f15a",
   "metadata": {},
   "outputs": [],
   "source": []
  }
 ],
 "metadata": {
  "kernelspec": {
   "display_name": "Python 3",
   "language": "python",
   "name": "python3"
  },
  "language_info": {
   "codemirror_mode": {
    "name": "ipython",
    "version": 3
   },
   "file_extension": ".py",
   "mimetype": "text/x-python",
   "name": "python",
   "nbconvert_exporter": "python",
   "pygments_lexer": "ipython3",
   "version": "3.6.13"
  }
 },
 "nbformat": 4,
 "nbformat_minor": 5
}
