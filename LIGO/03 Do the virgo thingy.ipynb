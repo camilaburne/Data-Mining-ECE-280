{
 "cells": [
  {
   "cell_type": "markdown",
   "id": "f2767c35",
   "metadata": {},
   "source": [
    "### Papers \n",
    "\n",
    "- [Predicting the properties of black holes merger remnants with Deep Neural Networks](https://arxiv.org/abs/1911.01496)\n",
    "- [The SXS Collaboration catalog of binary black hole simulations](https://arxiv.org/abs/1904.04831)\n",
    "- [Deep Learning for Real-time Gravitational Wave Detection and Parameter Estimation: Results with Advanced LIGO Data](https://arxiv.org/abs/1711.03121)\n",
    "\n",
    "- NEW ONE: [GWTC-3: Compact Binary Coalescences Observed by LIGO and Virgo During the Second Part of the Third Observing Run](https://arxiv.org/abs/2111.03606)\n",
    "\n",
    "### Other Links \n",
    "\n",
    "- [SXS Collaboration catalog](https://data.black-holes.org/waveforms/index.html)\n",
    "- [Github repo of SXS Collaboration catalog](https://github.com/sxs-collaboration/catalog_tools)\n",
    "- [Rit catalog](https://ccrg.rit.edu/content/data/rit-waveform-catalog)\n",
    "- [lal simulation](https://lscsoft.docs.ligo.org/lalsuite/lalsimulation/classlalsimulation_1_1nrfits_1_1_n_r_sur7dq4_remnant_1_1_n_r_sur7dq4_remnant.html)\n",
    "- [Visualizations](https://vijayvarma392.github.io/SurrogateMovie)\n"
   ]
  },
  {
   "cell_type": "code",
   "execution_count": 1,
   "id": "aa8041a4",
   "metadata": {},
   "outputs": [],
   "source": [
    "import numpy as np\n",
    "import pandas as pd\n",
    "import random\n",
    "from sklearn.metrics import mean_absolute_error, mean_squared_error\n",
    "from sklearn.model_selection import train_test_split\n",
    "from sklearn import preprocessing\n",
    "from sklearn import ensemble\n",
    "import matplotlib.pyplot as plt\n",
    "import itertools\n",
    "import seaborn as sns"
   ]
  },
  {
   "cell_type": "code",
   "execution_count": 2,
   "id": "031118c4",
   "metadata": {},
   "outputs": [],
   "source": [
    "pd.set_option('display.max_columns', None)\n",
    "pd.set_option('display.max_rows', None)"
   ]
  },
  {
   "cell_type": "markdown",
   "id": "ed07b6ee",
   "metadata": {},
   "source": [
    "### Input data: LIGO\n",
    "This is the datafile obtained with preprocessing code"
   ]
  },
  {
   "cell_type": "code",
   "execution_count": 3,
   "id": "588af3ce",
   "metadata": {},
   "outputs": [
    {
     "data": {
      "text/plain": [
       "Index(['Unnamed: 0', 'alternative_names', 'reference_mass_ratio',\n",
       "       'reference_dimensionless_spin1', 'reference_dimensionless_spin2',\n",
       "       'remnant_mass', 'remnant_dimensionless_spin', 'keyword1', 'keyword2',\n",
       "       'keyword3', 'reference_chi_eff', 'reference_chi1_perp',\n",
       "       'reference_chi2_perp', 'reference_mass1', 'reference_mass2',\n",
       "       'reference_dimensionless_spin1_1', 'reference_dimensionless_spin1_2',\n",
       "       'reference_dimensionless_spin1_3', 'reference_dimensionless_spin2_1',\n",
       "       'reference_dimensionless_spin2_2', 'reference_dimensionless_spin2_3',\n",
       "       'remnant_dimensionless_spin_1', 'remnant_dimensionless_spin_2',\n",
       "       'remnant_dimensionless_spin_3', 'precessing', 'notspinning', 's1', 's2',\n",
       "       'eta', 's1_sum', 's2_sum', 's3_sum', 'm1+m2', 'seff'],\n",
       "      dtype='object')"
      ]
     },
     "execution_count": 3,
     "metadata": {},
     "output_type": "execute_result"
    }
   ],
   "source": [
    "df_ok = pd.read_csv('/Users/camilaburne/UT/Data Mining/Data-Mining-ECE-280/LIGO/df_predictors.csv')\n",
    "df_ok.columns"
   ]
  },
  {
   "cell_type": "markdown",
   "id": "a02f32f0",
   "metadata": {},
   "source": [
    "### Input data: Virgo \n"
   ]
  },
  {
   "cell_type": "markdown",
   "id": "917f8d11",
   "metadata": {},
   "source": [
    "Note: we have to delete (or not...) two obs that are neutron stars: \n",
    "In addition to GW200115 042309 and GW200105 162426, the O3b candidates include GW191219 163120 that is consistent with originating from a NSBH, and GW200210 092254 that could either be from a NSBH or a binary black hole (BBH)"
   ]
  },
  {
   "cell_type": "code",
   "execution_count": 4,
   "id": "0589640c",
   "metadata": {},
   "outputs": [],
   "source": [
    "virgo = pd.read_csv('GWTC.csv')"
   ]
  },
  {
   "cell_type": "code",
   "execution_count": 5,
   "id": "39b23aa4",
   "metadata": {},
   "outputs": [
    {
     "name": "stdout",
     "output_type": "stream",
     "text": [
      "rows before cleaning: 93\n",
      "rows after cleaning:  80\n"
     ]
    }
   ],
   "source": [
    "print(\"rows before cleaning:\", virgo.shape[0])\n",
    "virgo = virgo.loc[virgo.final_mass_source.isnull()==False,] \n",
    "virgo = virgo.loc[virgo.total_mass_source.isnull()==False,]\n",
    "print(\"rows after cleaning: \", virgo.shape[0])"
   ]
  },
  {
   "cell_type": "markdown",
   "id": "d68c333b",
   "metadata": {},
   "source": [
    "### Renaming cols to match LIGO names"
   ]
  },
  {
   "cell_type": "code",
   "execution_count": 6,
   "id": "41f8ca9b",
   "metadata": {},
   "outputs": [
    {
     "data": {
      "text/plain": [
       "Index(['id', 'commonName', 'version', 'catalog.shortName', 'GPS', 'reference',\n",
       "       'jsonurl', 'mass_1_source', 'mass_1_source_lower',\n",
       "       'mass_1_source_upper', 'mass_2_source', 'mass_2_source_lower',\n",
       "       'mass_2_source_upper', 'network_matched_filter_snr',\n",
       "       'network_matched_filter_snr_lower', 'network_matched_filter_snr_upper',\n",
       "       'luminosity_distance', 'luminosity_distance_lower',\n",
       "       'luminosity_distance_upper', 'chi_eff', 'chi_eff_lower',\n",
       "       'chi_eff_upper', 'total_mass_source', 'total_mass_source_lower',\n",
       "       'total_mass_source_upper', 'chirp_mass_source',\n",
       "       'chirp_mass_source_lower', 'chirp_mass_source_upper', 'chirp_mass',\n",
       "       'chirp_mass_lower', 'chirp_mass_upper', 'redshift', 'redshift_lower',\n",
       "       'redshift_upper', 'far', 'far_lower', 'far_upper', 'final_mass_source',\n",
       "       'final_mass_source_lower', 'final_mass_source_upper'],\n",
       "      dtype='object')"
      ]
     },
     "execution_count": 6,
     "metadata": {},
     "output_type": "execute_result"
    }
   ],
   "source": [
    "virgo.columns"
   ]
  },
  {
   "cell_type": "code",
   "execution_count": 7,
   "id": "f447e97e",
   "metadata": {},
   "outputs": [],
   "source": [
    "virgo = virgo.rename(columns={'mass_1_source':'reference_mass1', \n",
    "                      'mass_2_source':'reference_mass2',\n",
    "                      'chi_eff': 'reference_chi_eff',\n",
    "                      'final_mass_source':'remnant_mass'})"
   ]
  },
  {
   "cell_type": "markdown",
   "id": "190a36f0",
   "metadata": {},
   "source": [
    "### Feature engineering Virgo"
   ]
  },
  {
   "cell_type": "code",
   "execution_count": 8,
   "id": "28d26d50",
   "metadata": {},
   "outputs": [],
   "source": [
    "virgo['reference_mass_ratio'] = virgo.reference_mass2 / virgo.reference_mass1\n",
    "virgo['eta']  = virgo['reference_mass_ratio'] / (virgo['reference_mass_ratio']+1)**2\n",
    "virgo['remnant_mass'] = virgo.remnant_mass / virgo.total_mass_source\n",
    "\n"
   ]
  },
  {
   "cell_type": "markdown",
   "id": "c661280a",
   "metadata": {},
   "source": [
    "See the distribution of all the variables used in the model (just 2, and the final mass) "
   ]
  },
  {
   "cell_type": "code",
   "execution_count": 9,
   "id": "c881a2af",
   "metadata": {},
   "outputs": [
    {
     "data": {
      "image/png": "[encoded data removed]",
      "text/plain": [
       "<Figure size 360x360 with 1 Axes>"
      ]
     },
     "metadata": {
      "needs_background": "light"
     },
     "output_type": "display_data"
    }
   ],
   "source": [
    "sns.displot(virgo['remnant_mass'])\n",
    "plt.show()"
   ]
  },
  {
   "cell_type": "code",
   "execution_count": 10,
   "id": "346ea2b1",
   "metadata": {},
   "outputs": [
    {
     "data": {
      "image/png": "[encoded data removed]",
      "text/plain": [
       "<Figure size 360x360 with 1 Axes>"
      ]
     },
     "metadata": {
      "needs_background": "light"
     },
     "output_type": "display_data"
    }
   ],
   "source": [
    "sns.displot(virgo['eta'])\n",
    "plt.show()"
   ]
  },
  {
   "cell_type": "code",
   "execution_count": 11,
   "id": "d0196d19",
   "metadata": {},
   "outputs": [
    {
     "data": {
      "image/png": "[encoded data removed]",
      "text/plain": [
       "<Figure size 360x360 with 1 Axes>"
      ]
     },
     "metadata": {
      "needs_background": "light"
     },
     "output_type": "display_data"
    }
   ],
   "source": [
    "sns.displot(virgo['reference_mass_ratio'])\n",
    "plt.show()"
   ]
  },
  {
   "cell_type": "markdown",
   "id": "c4c2379f",
   "metadata": {},
   "source": [
    "### Train test split for the LIGO data\n",
    "And also just renaming VIRGO in X_virgo and y_virgo"
   ]
  },
  {
   "cell_type": "code",
   "execution_count": 12,
   "id": "4c9ddcea",
   "metadata": {},
   "outputs": [],
   "source": [
    "# Random sampling\n",
    "# Variables not used 'reference_mass_ratio', reference_mass1','reference_mass2'\n",
    "\n",
    "X = df_ok[['reference_chi_eff','eta']]\n",
    "y = df_ok['remnant_mass']\n",
    "\n",
    "X_train, X_test, y_train, y_test = train_test_split(X, y, test_size=0.25,  random_state=0)"
   ]
  },
  {
   "cell_type": "code",
   "execution_count": 13,
   "id": "4d60d25c",
   "metadata": {},
   "outputs": [],
   "source": [
    "X_virgo = virgo[['reference_chi_eff','eta']]\n",
    "y_virgo = virgo['remnant_mass']"
   ]
  },
  {
   "cell_type": "markdown",
   "id": "2d6e7561",
   "metadata": {},
   "source": [
    "### Building a new model with LIGO data and very few variables "
   ]
  },
  {
   "cell_type": "code",
   "execution_count": 14,
   "id": "193731b6",
   "metadata": {},
   "outputs": [
    {
     "name": "stdout",
     "output_type": "stream",
     "text": [
      "Test error\n",
      "3.579633438543198e-06\n"
     ]
    }
   ],
   "source": [
    "params = {'learning_rate': 0.03,\n",
    "             'max_depth': 4,\n",
    "             'min_samples_split': 5,\n",
    "             'n_estimators': 600}\n",
    "\n",
    "\n",
    "boostreg = ensemble.GradientBoostingRegressor(**params)\n",
    "br1 = boostreg.fit(X_train, y_train)\n",
    "pred = br1.predict(X_test)\n",
    "print('Test error')\n",
    "print(mean_squared_error(y_test, pred))\n"
   ]
  },
  {
   "cell_type": "code",
   "execution_count": 15,
   "id": "57b9451d",
   "metadata": {},
   "outputs": [
    {
     "data": {
      "image/png": "[encoded data removed]",
      "text/plain": [
       "<Figure size 432x288 with 1 Axes>"
      ]
     },
     "metadata": {
      "needs_background": "light"
     },
     "output_type": "display_data"
    }
   ],
   "source": [
    "plt.barh(X_train.columns,br1.feature_importances_)\n",
    "plt.show()"
   ]
  },
  {
   "cell_type": "markdown",
   "id": "08f0d59b",
   "metadata": {},
   "source": [
    "### Virgo data prediction"
   ]
  },
  {
   "cell_type": "code",
   "execution_count": 16,
   "id": "ffd324ea",
   "metadata": {},
   "outputs": [],
   "source": [
    "pred = br1.predict(X_virgo)"
   ]
  },
  {
   "cell_type": "code",
   "execution_count": 17,
   "id": "052e46d0",
   "metadata": {},
   "outputs": [
    {
     "data": {
      "text/plain": [
       "1.1167990109717995e-05"
      ]
     },
     "execution_count": 17,
     "metadata": {},
     "output_type": "execute_result"
    }
   ],
   "source": [
    "pred = br1.predict(X_virgo)\n",
    "mean_squared_error(y_virgo, pred)\n"
   ]
  },
  {
   "cell_type": "code",
   "execution_count": 18,
   "id": "abc5d3bc",
   "metadata": {},
   "outputs": [
    {
     "data": {
      "image/png": "[encoded data removed]",
      "text/plain": [
       "<Figure size 432x288 with 1 Axes>"
      ]
     },
     "metadata": {
      "needs_background": "light"
     },
     "output_type": "display_data"
    }
   ],
   "source": [
    "plt.scatter(y_virgo,pred)\n",
    "plt.xlabel('Observed')\n",
    "plt.ylabel('Predicted')\n",
    "plt.title('Virgo observed vs Predicted values')\n",
    "plt.show()"
   ]
  },
  {
   "cell_type": "markdown",
   "id": "0d7fc52d",
   "metadata": {},
   "source": [
    "### Training data for comparison"
   ]
  },
  {
   "cell_type": "code",
   "execution_count": 19,
   "id": "d6d30d5a",
   "metadata": {},
   "outputs": [
    {
     "data": {
      "image/png": "[encoded data removed]",
      "text/plain": [
       "<Figure size 432x288 with 1 Axes>"
      ]
     },
     "metadata": {
      "needs_background": "light"
     },
     "output_type": "display_data"
    }
   ],
   "source": [
    "pred = br1.predict(X_train)\n",
    "mean_squared_error(y_train, pred)\n",
    "\n",
    "plt.scatter(y_train,pred)\n",
    "plt.xlabel('Observed')\n",
    "plt.ylabel('Predicted')\n",
    "plt.show()"
   ]
  },
  {
   "cell_type": "code",
   "execution_count": null,
   "id": "bb6bb4fa",
   "metadata": {},
   "outputs": [],
   "source": []
  },
  {
   "cell_type": "code",
   "execution_count": null,
   "id": "36c65a00",
   "metadata": {},
   "outputs": [],
   "source": []
  },
  {
   "cell_type": "code",
   "execution_count": null,
   "id": "1d06dd00",
   "metadata": {},
   "outputs": [],
   "source": []
  },
  {
   "cell_type": "code",
   "execution_count": null,
   "id": "1ca5fbda",
   "metadata": {},
   "outputs": [],
   "source": []
  },
  {
   "cell_type": "code",
   "execution_count": null,
   "id": "d3d7921e",
   "metadata": {},
   "outputs": [],
   "source": []
  },
  {
   "cell_type": "code",
   "execution_count": null,
   "id": "848c166d",
   "metadata": {},
   "outputs": [],
   "source": []
  }
 ],
 "metadata": {
  "kernelspec": {
   "display_name": "Python 3",
   "language": "python",
   "name": "python3"
  },
  "language_info": {
   "codemirror_mode": {
    "name": "ipython",
    "version": 3
   },
   "file_extension": ".py",
   "mimetype": "text/x-python",
   "name": "python",
   "nbconvert_exporter": "python",
   "pygments_lexer": "ipython3",
   "version": "3.8.8"
  }
 },
 "nbformat": 4,
 "nbformat_minor": 5
}
