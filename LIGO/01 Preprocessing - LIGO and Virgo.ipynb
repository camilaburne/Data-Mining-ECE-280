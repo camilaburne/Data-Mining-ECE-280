{
 "cells": [
  {
   "cell_type": "markdown",
   "id": "f2767c35",
   "metadata": {},
   "source": [
    "### Papers \n",
    "\n",
    "- [Predicting the properties of black holes merger remnants with Deep Neural Networks](https://arxiv.org/abs/1911.01496)\n",
    "- [The SXS Collaboration catalog of binary black hole simulations](https://arxiv.org/abs/1904.04831)\n",
    "- [Deep Learning for Real-time Gravitational Wave Detection and Parameter Estimation: Results with Advanced LIGO Data](https://arxiv.org/abs/1711.03121)\n",
    "\n",
    "- NEW ONE: [GWTC-3: Compact Binary Coalescences Observed by LIGO and Virgo During the Second Part of the Third Observing Run](https://arxiv.org/abs/2111.03606)\n",
    "\n",
    "### Other Links \n",
    "\n",
    "- [SXS Collaboration catalog](https://data.black-holes.org/waveforms/index.html)\n",
    "- [Github repo of SXS Collaboration catalog](https://github.com/sxs-collaboration/catalog_tools)\n",
    "- [Rit catalog](https://ccrg.rit.edu/content/data/rit-waveform-catalog)\n",
    "- [lal simulation](https://lscsoft.docs.ligo.org/lalsuite/lalsimulation/classlalsimulation_1_1nrfits_1_1_n_r_sur7dq4_remnant_1_1_n_r_sur7dq4_remnant.html)\n",
    "- [Visualizations](https://vijayvarma392.github.io/SurrogateMovie)\n"
   ]
  },
  {
   "cell_type": "markdown",
   "id": "9e560bf4",
   "metadata": {},
   "source": [
    "## To do \n",
    "\n",
    "**@David**\n",
    "- Outliers: check the ones w remnant_mass > 1.5, and the ones with m1+m2 < 1\n",
    "\n",
    "\n",
    "**@Cami**\n",
    "- Preprocessing: feat eng\n",
    "- Apply model from paper\n",
    "- User stratified sampling? \n",
    "\n",
    "**Extra** \n",
    "- Extract all data and check that all simulations have the same data over time\n",
    "- Use Monte Carlo to include error in the mass ratio\n"
   ]
  },
  {
   "cell_type": "code",
   "execution_count": 1,
   "id": "aa8041a4",
   "metadata": {},
   "outputs": [],
   "source": [
    "import numpy as np\n",
    "import pandas as pd\n",
    "import random\n",
    "from sklearn import linear_model\n",
    "from sklearn.metrics import mean_absolute_error, mean_squared_error\n",
    "from sklearn.linear_model import LogisticRegression\n",
    "from sklearn.model_selection import train_test_split\n",
    "from sklearn import preprocessing\n",
    "from sklearn.model_selection import KFold\n",
    "import matplotlib.pyplot as plt\n",
    "import itertools\n",
    "import h5py\n",
    "import seaborn as sns"
   ]
  },
  {
   "cell_type": "code",
   "execution_count": 2,
   "id": "b4e41ea5",
   "metadata": {},
   "outputs": [
    {
     "name": "stderr",
     "output_type": "stream",
     "text": [
      "Using TensorFlow backend.\n"
     ]
    }
   ],
   "source": [
    "import numpy as np\n",
    "import pandas as pd\n",
    "import keras\n",
    "from keras.models import Sequential\n",
    "from keras.layers import *\n",
    "from keras.preprocessing import image\n",
    "#from keras.applications import resnet50\n"
   ]
  },
  {
   "cell_type": "code",
   "execution_count": 3,
   "id": "031118c4",
   "metadata": {},
   "outputs": [],
   "source": [
    "pd.set_option('display.max_columns', None)\n",
    "pd.set_option('display.max_rows', None)"
   ]
  },
  {
   "cell_type": "markdown",
   "id": "a02f32f0",
   "metadata": {},
   "source": [
    "### Input data: Virgo \n",
    "1. Explore dataframe (columns, summary stats, visualizations)\n",
    "2. Clean dataframe (remove non BBHs)\n",
    "3. Build new features"
   ]
  },
  {
   "cell_type": "markdown",
   "id": "917f8d11",
   "metadata": {},
   "source": [
    "Note: we have to delete two obs that are neutron stars: \n",
    "In addition to GW200115 042309 and GW200105 162426, the O3b candidates include GW191219 163120 that is consistent with originating from a NSBH, and GW200210 092254 that could either be from a NSBH or a binary black hole (BBH)"
   ]
  },
  {
   "cell_type": "code",
   "execution_count": 4,
   "id": "0589640c",
   "metadata": {},
   "outputs": [],
   "source": [
    "virgo = pd.read_csv('GWTC.csv')"
   ]
  },
  {
   "cell_type": "code",
   "execution_count": 5,
   "id": "364c0a00",
   "metadata": {},
   "outputs": [
    {
     "data": {
      "text/plain": [
       "(93, 40)"
      ]
     },
     "execution_count": 5,
     "metadata": {},
     "output_type": "execute_result"
    }
   ],
   "source": [
    "virgo.shape"
   ]
  },
  {
   "cell_type": "markdown",
   "id": "6e226c9f",
   "metadata": {},
   "source": [
    "### 1. "
   ]
  },
  {
   "cell_type": "code",
   "execution_count": 6,
   "id": "f447e97e",
   "metadata": {},
   "outputs": [
    {
     "data": {
      "text/plain": [
       "Index(['id', 'commonName', 'version', 'catalog.shortName', 'GPS', 'reference',\n",
       "       'jsonurl', 'mass_1_source', 'mass_1_source_lower',\n",
       "       'mass_1_source_upper', 'mass_2_source', 'mass_2_source_lower',\n",
       "       'mass_2_source_upper', 'network_matched_filter_snr',\n",
       "       'network_matched_filter_snr_lower', 'network_matched_filter_snr_upper',\n",
       "       'luminosity_distance', 'luminosity_distance_lower',\n",
       "       'luminosity_distance_upper', 'chi_eff', 'chi_eff_lower',\n",
       "       'chi_eff_upper', 'total_mass_source', 'total_mass_source_lower',\n",
       "       'total_mass_source_upper', 'chirp_mass_source',\n",
       "       'chirp_mass_source_lower', 'chirp_mass_source_upper', 'chirp_mass',\n",
       "       'chirp_mass_lower', 'chirp_mass_upper', 'redshift', 'redshift_lower',\n",
       "       'redshift_upper', 'far', 'far_lower', 'far_upper', 'final_mass_source',\n",
       "       'final_mass_source_lower', 'final_mass_source_upper'],\n",
       "      dtype='object')"
      ]
     },
     "execution_count": 6,
     "metadata": {},
     "output_type": "execute_result"
    }
   ],
   "source": [
    "virgo.columns"
   ]
  },
  {
   "cell_type": "code",
   "execution_count": 7,
   "id": "8d5f2904",
   "metadata": {},
   "outputs": [
    {
     "data": {
      "text/html": [
       "<div>\n",
       "<style scoped>\n",
       "    .dataframe tbody tr th:only-of-type {\n",
       "        vertical-align: middle;\n",
       "    }\n",
       "\n",
       "    .dataframe tbody tr th {\n",
       "        vertical-align: top;\n",
       "    }\n",
       "\n",
       "    .dataframe thead th {\n",
       "        text-align: right;\n",
       "    }\n",
       "</style>\n",
       "<table border=\"1\" class=\"dataframe\">\n",
       "  <thead>\n",
       "    <tr style=\"text-align: right;\">\n",
       "      <th></th>\n",
       "      <th>id</th>\n",
       "      <th>commonName</th>\n",
       "      <th>version</th>\n",
       "      <th>catalog.shortName</th>\n",
       "      <th>GPS</th>\n",
       "      <th>reference</th>\n",
       "      <th>jsonurl</th>\n",
       "      <th>mass_1_source</th>\n",
       "      <th>mass_1_source_lower</th>\n",
       "      <th>mass_1_source_upper</th>\n",
       "      <th>mass_2_source</th>\n",
       "      <th>mass_2_source_lower</th>\n",
       "      <th>mass_2_source_upper</th>\n",
       "      <th>network_matched_filter_snr</th>\n",
       "      <th>network_matched_filter_snr_lower</th>\n",
       "      <th>network_matched_filter_snr_upper</th>\n",
       "      <th>luminosity_distance</th>\n",
       "      <th>luminosity_distance_lower</th>\n",
       "      <th>luminosity_distance_upper</th>\n",
       "      <th>chi_eff</th>\n",
       "      <th>chi_eff_lower</th>\n",
       "      <th>chi_eff_upper</th>\n",
       "      <th>total_mass_source</th>\n",
       "      <th>total_mass_source_lower</th>\n",
       "      <th>total_mass_source_upper</th>\n",
       "      <th>chirp_mass_source</th>\n",
       "      <th>chirp_mass_source_lower</th>\n",
       "      <th>chirp_mass_source_upper</th>\n",
       "      <th>chirp_mass</th>\n",
       "      <th>chirp_mass_lower</th>\n",
       "      <th>chirp_mass_upper</th>\n",
       "      <th>redshift</th>\n",
       "      <th>redshift_lower</th>\n",
       "      <th>redshift_upper</th>\n",
       "      <th>far</th>\n",
       "      <th>far_lower</th>\n",
       "      <th>far_upper</th>\n",
       "      <th>final_mass_source</th>\n",
       "      <th>final_mass_source_lower</th>\n",
       "      <th>final_mass_source_upper</th>\n",
       "    </tr>\n",
       "  </thead>\n",
       "  <tbody>\n",
       "    <tr>\n",
       "      <th>91</th>\n",
       "      <td>GW200316_215756-v1</td>\n",
       "      <td>GW200316_215756</td>\n",
       "      <td>1</td>\n",
       "      <td>GWTC-3-confident</td>\n",
       "      <td>1.268431e+09</td>\n",
       "      <td>/GWTC-3/</td>\n",
       "      <td>https://www.gw-openscience.org/eventapi/json/G...</td>\n",
       "      <td>13.1</td>\n",
       "      <td>-2.9</td>\n",
       "      <td>10.2</td>\n",
       "      <td>7.8</td>\n",
       "      <td>-2.9</td>\n",
       "      <td>1.9</td>\n",
       "      <td>10.3</td>\n",
       "      <td>-0.7</td>\n",
       "      <td>0.4</td>\n",
       "      <td>1120.0</td>\n",
       "      <td>-440.0</td>\n",
       "      <td>470.0</td>\n",
       "      <td>0.13</td>\n",
       "      <td>-0.10</td>\n",
       "      <td>0.27</td>\n",
       "      <td>21.2</td>\n",
       "      <td>-2.0</td>\n",
       "      <td>7.2</td>\n",
       "      <td>8.75</td>\n",
       "      <td>-0.55</td>\n",
       "      <td>0.62</td>\n",
       "      <td>NaN</td>\n",
       "      <td>NaN</td>\n",
       "      <td>NaN</td>\n",
       "      <td>0.22</td>\n",
       "      <td>-0.08</td>\n",
       "      <td>0.08</td>\n",
       "      <td>0.00001</td>\n",
       "      <td>NaN</td>\n",
       "      <td>NaN</td>\n",
       "      <td>20.2</td>\n",
       "      <td>-1.9</td>\n",
       "      <td>7.4</td>\n",
       "    </tr>\n",
       "    <tr>\n",
       "      <th>92</th>\n",
       "      <td>GW200322_091133-v1</td>\n",
       "      <td>GW200322_091133</td>\n",
       "      <td>1</td>\n",
       "      <td>GWTC-3-confident</td>\n",
       "      <td>1.268904e+09</td>\n",
       "      <td>/GWTC-3/</td>\n",
       "      <td>https://www.gw-openscience.org/eventapi/json/G...</td>\n",
       "      <td>34.0</td>\n",
       "      <td>-18.0</td>\n",
       "      <td>48.0</td>\n",
       "      <td>14.0</td>\n",
       "      <td>-8.7</td>\n",
       "      <td>16.8</td>\n",
       "      <td>6.0</td>\n",
       "      <td>-1.2</td>\n",
       "      <td>1.7</td>\n",
       "      <td>3600.0</td>\n",
       "      <td>-2000.0</td>\n",
       "      <td>7000.0</td>\n",
       "      <td>0.24</td>\n",
       "      <td>-0.51</td>\n",
       "      <td>0.45</td>\n",
       "      <td>55.0</td>\n",
       "      <td>-27.0</td>\n",
       "      <td>37.0</td>\n",
       "      <td>15.50</td>\n",
       "      <td>-3.70</td>\n",
       "      <td>15.70</td>\n",
       "      <td>NaN</td>\n",
       "      <td>NaN</td>\n",
       "      <td>NaN</td>\n",
       "      <td>0.60</td>\n",
       "      <td>-0.30</td>\n",
       "      <td>0.84</td>\n",
       "      <td>140.00000</td>\n",
       "      <td>NaN</td>\n",
       "      <td>NaN</td>\n",
       "      <td>53.0</td>\n",
       "      <td>-26.0</td>\n",
       "      <td>38.0</td>\n",
       "    </tr>\n",
       "  </tbody>\n",
       "</table>\n",
       "</div>"
      ],
      "text/plain": [
       "                    id       commonName  version catalog.shortName  \\\n",
       "91  GW200316_215756-v1  GW200316_215756        1  GWTC-3-confident   \n",
       "92  GW200322_091133-v1  GW200322_091133        1  GWTC-3-confident   \n",
       "\n",
       "             GPS reference                                            jsonurl  \\\n",
       "91  1.268431e+09  /GWTC-3/  https://www.gw-openscience.org/eventapi/json/G...   \n",
       "92  1.268904e+09  /GWTC-3/  https://www.gw-openscience.org/eventapi/json/G...   \n",
       "\n",
       "    mass_1_source  mass_1_source_lower  mass_1_source_upper  mass_2_source  \\\n",
       "91           13.1                 -2.9                 10.2            7.8   \n",
       "92           34.0                -18.0                 48.0           14.0   \n",
       "\n",
       "    mass_2_source_lower  mass_2_source_upper  network_matched_filter_snr  \\\n",
       "91                 -2.9                  1.9                        10.3   \n",
       "92                 -8.7                 16.8                         6.0   \n",
       "\n",
       "    network_matched_filter_snr_lower  network_matched_filter_snr_upper  \\\n",
       "91                              -0.7                               0.4   \n",
       "92                              -1.2                               1.7   \n",
       "\n",
       "    luminosity_distance  luminosity_distance_lower  luminosity_distance_upper  \\\n",
       "91               1120.0                     -440.0                      470.0   \n",
       "92               3600.0                    -2000.0                     7000.0   \n",
       "\n",
       "    chi_eff  chi_eff_lower  chi_eff_upper  total_mass_source  \\\n",
       "91     0.13          -0.10           0.27               21.2   \n",
       "92     0.24          -0.51           0.45               55.0   \n",
       "\n",
       "    total_mass_source_lower  total_mass_source_upper  chirp_mass_source  \\\n",
       "91                     -2.0                      7.2               8.75   \n",
       "92                    -27.0                     37.0              15.50   \n",
       "\n",
       "    chirp_mass_source_lower  chirp_mass_source_upper  chirp_mass  \\\n",
       "91                    -0.55                     0.62         NaN   \n",
       "92                    -3.70                    15.70         NaN   \n",
       "\n",
       "    chirp_mass_lower  chirp_mass_upper  redshift  redshift_lower  \\\n",
       "91               NaN               NaN      0.22           -0.08   \n",
       "92               NaN               NaN      0.60           -0.30   \n",
       "\n",
       "    redshift_upper        far  far_lower  far_upper  final_mass_source  \\\n",
       "91            0.08    0.00001        NaN        NaN               20.2   \n",
       "92            0.84  140.00000        NaN        NaN               53.0   \n",
       "\n",
       "    final_mass_source_lower  final_mass_source_upper  \n",
       "91                     -1.9                      7.4  \n",
       "92                    -26.0                     38.0  "
      ]
     },
     "execution_count": 7,
     "metadata": {},
     "output_type": "execute_result"
    }
   ],
   "source": [
    "virgo.tail(2)"
   ]
  },
  {
   "cell_type": "code",
   "execution_count": 8,
   "id": "89e8ff7a",
   "metadata": {},
   "outputs": [
    {
     "data": {
      "image/png": "[encoded data removed]",
      "text/plain": [
       "<Figure size 432x288 with 1 Axes>"
      ]
     },
     "metadata": {
      "needs_background": "light"
     },
     "output_type": "display_data"
    }
   ],
   "source": [
    "#See how initial mass 1 and initiall mass 2 relate to final mass \n",
    "plt.scatter(virgo.mass_1_source, virgo.final_mass_source, label='Mass 1' , alpha = 0.5)\n",
    "plt.scatter(virgo.mass_2_source, virgo.final_mass_source, label='Mass 2' , alpha = 0.5)\n",
    "plt.ylabel('Final mass')\n",
    "plt.legend()\n",
    "plt.show()"
   ]
  },
  {
   "cell_type": "markdown",
   "id": "990dcac8",
   "metadata": {},
   "source": [
    "### 2. Pending: to clean "
   ]
  },
  {
   "cell_type": "markdown",
   "id": "53356e01",
   "metadata": {},
   "source": [
    "### 3. Build features: Pending to see what is comparable with LIGO. \n",
    "- The scatter plot from above with Mass 1 and Mass 2 versus Final Mass is very linear, in LiGO it was more of a curve. "
   ]
  },
  {
   "cell_type": "markdown",
   "id": "d494ef4e",
   "metadata": {},
   "source": [
    "### Input data: Catalog.json\n",
    "\n",
    "1. Explore dataframe (columns, summary stats, visualizations)\n",
    "2. Clean dataframe (remove non BBHs)\n",
    "3. Build new features\n",
    "\n",
    "### 1."
   ]
  },
  {
   "cell_type": "code",
   "execution_count": 9,
   "id": "762b2c97",
   "metadata": {},
   "outputs": [],
   "source": [
    "df = pd.read_json('catalog.json')\n"
   ]
  },
  {
   "cell_type": "code",
   "execution_count": 10,
   "id": "32ce2b56",
   "metadata": {},
   "outputs": [
    {
     "data": {
      "text/plain": [
       "Index(['url', 'simulation_name', 'alternative_names', 'initial_data_type',\n",
       "       'object_types', 'number_of_orbits', 'reference_mass_ratio',\n",
       "       'reference_chi_eff', 'reference_chi1_perp', 'reference_chi2_perp',\n",
       "       'reference_eccentricity', 'reference_dimensionless_spin1',\n",
       "       'reference_dimensionless_spin2', 'reference_orbital_frequency',\n",
       "       'reference_mass1', 'reference_mass2', 'reference_time',\n",
       "       'reference_position1', 'reference_position2', 'reference_mean_anomaly',\n",
       "       'keywords', 'point_of_contact_email', 'authors_emails',\n",
       "       'simulation_bibtex_keys', 'code_bibtex_keys',\n",
       "       'initial_data_bibtex_keys', 'quasicircular_bibtex_keys',\n",
       "       'initial_separation', 'initial_orbital_frequency', 'initial_adot',\n",
       "       'object1', 'object2', 'initial_ADM_energy',\n",
       "       'initial_ADM_linear_momentum', 'initial_ADM_angular_momentum',\n",
       "       'initial_mass1', 'initial_mass2', 'initial_dimensionless_spin1',\n",
       "       'initial_dimensionless_spin2', 'initial_position1', 'initial_position2',\n",
       "       'relaxation_time', 'common_horizon_time', 'remnant_mass',\n",
       "       'remnant_dimensionless_spin', 'remnant_velocity', 'metadata_version',\n",
       "       'spec_revisions', 'spells_revision', 'com_parameters',\n",
       "       'initial_mass_ratio', 'metadata_path', 'name', 'eos', 'merger_time',\n",
       "       'final_time', 'disk_mass', 'ejecta_mass', 'reference_spin1',\n",
       "       'reference_spin2', 'nitial_spin1', 'initial_spin2', 'remnant_spin',\n",
       "       'initial_mass_withspin2'],\n",
       "      dtype='object')"
      ]
     },
     "execution_count": 10,
     "metadata": {},
     "output_type": "execute_result"
    }
   ],
   "source": [
    "df.columns"
   ]
  },
  {
   "cell_type": "code",
   "execution_count": 11,
   "id": "4127ac59",
   "metadata": {},
   "outputs": [
    {
     "data": {
      "text/html": [
       "<div>\n",
       "<style scoped>\n",
       "    .dataframe tbody tr th:only-of-type {\n",
       "        vertical-align: middle;\n",
       "    }\n",
       "\n",
       "    .dataframe tbody tr th {\n",
       "        vertical-align: top;\n",
       "    }\n",
       "\n",
       "    .dataframe thead th {\n",
       "        text-align: right;\n",
       "    }\n",
       "</style>\n",
       "<table border=\"1\" class=\"dataframe\">\n",
       "  <thead>\n",
       "    <tr style=\"text-align: right;\">\n",
       "      <th></th>\n",
       "      <th>url</th>\n",
       "      <th>simulation_name</th>\n",
       "      <th>alternative_names</th>\n",
       "      <th>initial_data_type</th>\n",
       "      <th>object_types</th>\n",
       "      <th>number_of_orbits</th>\n",
       "      <th>reference_mass_ratio</th>\n",
       "      <th>reference_chi_eff</th>\n",
       "      <th>reference_chi1_perp</th>\n",
       "      <th>reference_chi2_perp</th>\n",
       "      <th>reference_eccentricity</th>\n",
       "      <th>reference_dimensionless_spin1</th>\n",
       "      <th>reference_dimensionless_spin2</th>\n",
       "      <th>reference_orbital_frequency</th>\n",
       "      <th>reference_mass1</th>\n",
       "      <th>reference_mass2</th>\n",
       "      <th>reference_time</th>\n",
       "      <th>reference_position1</th>\n",
       "      <th>reference_position2</th>\n",
       "      <th>reference_mean_anomaly</th>\n",
       "      <th>keywords</th>\n",
       "      <th>point_of_contact_email</th>\n",
       "      <th>authors_emails</th>\n",
       "      <th>simulation_bibtex_keys</th>\n",
       "      <th>code_bibtex_keys</th>\n",
       "      <th>initial_data_bibtex_keys</th>\n",
       "      <th>quasicircular_bibtex_keys</th>\n",
       "      <th>initial_separation</th>\n",
       "      <th>initial_orbital_frequency</th>\n",
       "      <th>initial_adot</th>\n",
       "      <th>object1</th>\n",
       "      <th>object2</th>\n",
       "      <th>initial_ADM_energy</th>\n",
       "      <th>initial_ADM_linear_momentum</th>\n",
       "      <th>initial_ADM_angular_momentum</th>\n",
       "      <th>initial_mass1</th>\n",
       "      <th>initial_mass2</th>\n",
       "      <th>initial_dimensionless_spin1</th>\n",
       "      <th>initial_dimensionless_spin2</th>\n",
       "      <th>initial_position1</th>\n",
       "      <th>initial_position2</th>\n",
       "      <th>relaxation_time</th>\n",
       "      <th>common_horizon_time</th>\n",
       "      <th>remnant_mass</th>\n",
       "      <th>remnant_dimensionless_spin</th>\n",
       "      <th>remnant_velocity</th>\n",
       "      <th>metadata_version</th>\n",
       "      <th>spec_revisions</th>\n",
       "      <th>spells_revision</th>\n",
       "      <th>com_parameters</th>\n",
       "      <th>initial_mass_ratio</th>\n",
       "      <th>metadata_path</th>\n",
       "      <th>name</th>\n",
       "      <th>eos</th>\n",
       "      <th>merger_time</th>\n",
       "      <th>final_time</th>\n",
       "      <th>disk_mass</th>\n",
       "      <th>ejecta_mass</th>\n",
       "      <th>reference_spin1</th>\n",
       "      <th>reference_spin2</th>\n",
       "      <th>nitial_spin1</th>\n",
       "      <th>initial_spin2</th>\n",
       "      <th>remnant_spin</th>\n",
       "      <th>initial_mass_withspin2</th>\n",
       "    </tr>\n",
       "  </thead>\n",
       "  <tbody>\n",
       "    <tr>\n",
       "      <th>0</th>\n",
       "      <td>https://doi.org/10.5281/zenodo.1212426</td>\n",
       "      <td>d18.0_q1.0_s0_0_0_s0_0_0/Lev5</td>\n",
       "      <td>SXS:BBH:0001</td>\n",
       "      <td>BBH_CFMS</td>\n",
       "      <td>BHBH</td>\n",
       "      <td>28.119083</td>\n",
       "      <td>1.0</td>\n",
       "      <td>1.215639e-07</td>\n",
       "      <td>9.733309e-10</td>\n",
       "      <td>1.429939e-09</td>\n",
       "      <td>0.0002569</td>\n",
       "      <td>[7.09752141352e-10, -6.66051760901e-10, 1.2093...</td>\n",
       "      <td>[5.84453420303e-10, 1.3050444511300001e-09, 1....</td>\n",
       "      <td>[2.8280852361099996e-13, -8.251591712050001e-1...</td>\n",
       "      <td>0.5</td>\n",
       "      <td>0.5</td>\n",
       "      <td>320.0</td>\n",
       "      <td>[-6.4605628809799995, -6.21953367941, -3.37886...</td>\n",
       "      <td>[6.46056317772, 6.21953399104, 2.00589477099e-10]</td>\n",
       "      <td>3.083240</td>\n",
       "      <td>[Non-Spinning, ManyMergers-QuasiCircular]</td>\n",
       "      <td>mroue@cita.utoronto.ca</td>\n",
       "      <td>[Mike Boyle &lt;boyle@astro.cornell.edu&gt;, Dan Hem...</td>\n",
       "      <td>[Mroue:2013xna, Boyle:2019kee, SXSCatalogWebsite]</td>\n",
       "      <td>[Ossokine:2013zga, Hemberger:2012jz, Szilagyi:...</td>\n",
       "      <td>[Buchman:2012dw, Lovelace:2008tw, Pfeiffer:200...</td>\n",
       "      <td>[Mroue:2012kv, Buonanno:2010yk, Mroue:2010re, ...</td>\n",
       "      <td>18.0</td>\n",
       "      <td>0.012203</td>\n",
       "      <td>-0.000025</td>\n",
       "      <td>bh</td>\n",
       "      <td>bh</td>\n",
       "      <td>0.993736</td>\n",
       "      <td>[7.5160071e-09, 2.4389069e-09, -5.798632e-10]</td>\n",
       "      <td>[4.27581822e-08, -2.3426250729999996e-07, 1.18...</td>\n",
       "      <td>0.5</td>\n",
       "      <td>0.5</td>\n",
       "      <td>[-6.35700000002e-13, 4.72400000001e-13, 1.0250...</td>\n",
       "      <td>[4.4999999999800006e-15, -2.8e-15, 1.559379999...</td>\n",
       "      <td>[9.000000125802465, -2.8664642100000002e-08, 0]</td>\n",
       "      <td>[-8.999999874197535, -2.8664642100000002e-08, 0]</td>\n",
       "      <td>320.0</td>\n",
       "      <td>9524.085983</td>\n",
       "      <td>0.951609</td>\n",
       "      <td>[-7.29520687012e-10, 7.40468371215e-10, 0.6864...</td>\n",
       "      <td>[1.45734870604e-09, 7.51603528474e-10, 3.72053...</td>\n",
       "      <td>1</td>\n",
       "      <td>[InitialCommit-20603-g8a2e9b6, InitialCommit-2...</td>\n",
       "      <td>InitialCommit-21848-g8d8a7d7</td>\n",
       "      <td>{'space_translation': [3.6668214400000003e-08,...</td>\n",
       "      <td>1.0</td>\n",
       "      <td>SXS:BBH:0001v6/Lev5/metadata.json</td>\n",
       "      <td>SXS:BBH:0001</td>\n",
       "      <td>NaN</td>\n",
       "      <td>NaN</td>\n",
       "      <td>NaN</td>\n",
       "      <td>NaN</td>\n",
       "      <td>NaN</td>\n",
       "      <td>NaN</td>\n",
       "      <td>NaN</td>\n",
       "      <td>NaN</td>\n",
       "      <td>NaN</td>\n",
       "      <td>NaN</td>\n",
       "      <td>NaN</td>\n",
       "    </tr>\n",
       "    <tr>\n",
       "      <th>1</th>\n",
       "      <td>https://doi.org/10.5281/zenodo.1210580</td>\n",
       "      <td>d19.0_q1.0_s0_0_0_s0_0_0/Lev6</td>\n",
       "      <td>SXS:BBH:0002</td>\n",
       "      <td>BBH_CFMS</td>\n",
       "      <td>BHBH</td>\n",
       "      <td>32.421068</td>\n",
       "      <td>1.0</td>\n",
       "      <td>9.399402e-08</td>\n",
       "      <td>7.181763e-10</td>\n",
       "      <td>1.473155e-09</td>\n",
       "      <td>0.0001746</td>\n",
       "      <td>[6.50756283834e-10, -3.03798339473e-10, 9.4840...</td>\n",
       "      <td>[1.0426889812e-09, 1.04066536466e-09, 9.314798...</td>\n",
       "      <td>[2.20978373119e-13, -7.93686620079e-13, 0.0113...</td>\n",
       "      <td>0.5</td>\n",
       "      <td>0.5</td>\n",
       "      <td>310.0</td>\n",
       "      <td>[-8.87345009522, -3.32815913214, 1.74403931592...</td>\n",
       "      <td>[8.87345005146, 3.32815888263, 2.94462584419e-10]</td>\n",
       "      <td>2.514884</td>\n",
       "      <td>[Non-Spinning, ManyMergers-QuasiCircular]</td>\n",
       "      <td>mroue@cita.utoronto.ca</td>\n",
       "      <td>[Mike Boyle &lt;boyle@astro.cornell.edu&gt;, Dan Hem...</td>\n",
       "      <td>[Mroue:2013xna, Boyle:2019kee, SXSCatalogWebsite]</td>\n",
       "      <td>[Ossokine:2013zga, Hemberger:2012jz, Szilagyi:...</td>\n",
       "      <td>[Buchman:2012dw, Lovelace:2008tw, Pfeiffer:200...</td>\n",
       "      <td>[Mroue:2012kv, Buonanno:2010yk, Mroue:2010re, ...</td>\n",
       "      <td>19.0</td>\n",
       "      <td>0.011292</td>\n",
       "      <td>-0.000021</td>\n",
       "      <td>bh</td>\n",
       "      <td>bh</td>\n",
       "      <td>0.994031</td>\n",
       "      <td>[1.6810827e-09, 1.4244131e-09, -1.148397590000...</td>\n",
       "      <td>[2.7620419800000002e-06, -2.428793193e-06, 1.2...</td>\n",
       "      <td>0.5</td>\n",
       "      <td>0.5</td>\n",
       "      <td>[5.319329999989999e-11, -6.31285000002e-11, -1...</td>\n",
       "      <td>[-3.268359e-10, 2.252065e-10, -1.44598159e-08]</td>\n",
       "      <td>[9.50000028134381, 2.0830027e-07, 0]</td>\n",
       "      <td>[-9.49999971865619, 2.0830027e-07, 0]</td>\n",
       "      <td>310.0</td>\n",
       "      <td>11804.749017</td>\n",
       "      <td>0.95161</td>\n",
       "      <td>[3.7521879808300004e-10, 1.3261440201800001e-0...</td>\n",
       "      <td>[3.5996348603100005e-09, 7.181410030280001e-09...</td>\n",
       "      <td>1</td>\n",
       "      <td>[InitialCommit-20603-g8a2e9b6, InitialCommit-2...</td>\n",
       "      <td>InitialCommit-21848-g8d8a7d7</td>\n",
       "      <td>{'space_translation': [-4.66496816e-08, 2.4388...</td>\n",
       "      <td>1.0</td>\n",
       "      <td>SXS:BBH:0002v7/Lev6/metadata.json</td>\n",
       "      <td>SXS:BBH:0002</td>\n",
       "      <td>NaN</td>\n",
       "      <td>NaN</td>\n",
       "      <td>NaN</td>\n",
       "      <td>NaN</td>\n",
       "      <td>NaN</td>\n",
       "      <td>NaN</td>\n",
       "      <td>NaN</td>\n",
       "      <td>NaN</td>\n",
       "      <td>NaN</td>\n",
       "      <td>NaN</td>\n",
       "      <td>NaN</td>\n",
       "    </tr>\n",
       "  </tbody>\n",
       "</table>\n",
       "</div>"
      ],
      "text/plain": [
       "                                      url                simulation_name  \\\n",
       "0  https://doi.org/10.5281/zenodo.1212426  d18.0_q1.0_s0_0_0_s0_0_0/Lev5   \n",
       "1  https://doi.org/10.5281/zenodo.1210580  d19.0_q1.0_s0_0_0_s0_0_0/Lev6   \n",
       "\n",
       "  alternative_names initial_data_type object_types  number_of_orbits  \\\n",
       "0      SXS:BBH:0001          BBH_CFMS         BHBH         28.119083   \n",
       "1      SXS:BBH:0002          BBH_CFMS         BHBH         32.421068   \n",
       "\n",
       "   reference_mass_ratio  reference_chi_eff  reference_chi1_perp  \\\n",
       "0                   1.0       1.215639e-07         9.733309e-10   \n",
       "1                   1.0       9.399402e-08         7.181763e-10   \n",
       "\n",
       "   reference_chi2_perp reference_eccentricity  \\\n",
       "0         1.429939e-09              0.0002569   \n",
       "1         1.473155e-09              0.0001746   \n",
       "\n",
       "                       reference_dimensionless_spin1  \\\n",
       "0  [7.09752141352e-10, -6.66051760901e-10, 1.2093...   \n",
       "1  [6.50756283834e-10, -3.03798339473e-10, 9.4840...   \n",
       "\n",
       "                       reference_dimensionless_spin2  \\\n",
       "0  [5.84453420303e-10, 1.3050444511300001e-09, 1....   \n",
       "1  [1.0426889812e-09, 1.04066536466e-09, 9.314798...   \n",
       "\n",
       "                         reference_orbital_frequency  reference_mass1  \\\n",
       "0  [2.8280852361099996e-13, -8.251591712050001e-1...              0.5   \n",
       "1  [2.20978373119e-13, -7.93686620079e-13, 0.0113...              0.5   \n",
       "\n",
       "   reference_mass2  reference_time  \\\n",
       "0              0.5           320.0   \n",
       "1              0.5           310.0   \n",
       "\n",
       "                                 reference_position1  \\\n",
       "0  [-6.4605628809799995, -6.21953367941, -3.37886...   \n",
       "1  [-8.87345009522, -3.32815913214, 1.74403931592...   \n",
       "\n",
       "                                 reference_position2  reference_mean_anomaly  \\\n",
       "0  [6.46056317772, 6.21953399104, 2.00589477099e-10]                3.083240   \n",
       "1  [8.87345005146, 3.32815888263, 2.94462584419e-10]                2.514884   \n",
       "\n",
       "                                    keywords  point_of_contact_email  \\\n",
       "0  [Non-Spinning, ManyMergers-QuasiCircular]  mroue@cita.utoronto.ca   \n",
       "1  [Non-Spinning, ManyMergers-QuasiCircular]  mroue@cita.utoronto.ca   \n",
       "\n",
       "                                      authors_emails  \\\n",
       "0  [Mike Boyle <boyle@astro.cornell.edu>, Dan Hem...   \n",
       "1  [Mike Boyle <boyle@astro.cornell.edu>, Dan Hem...   \n",
       "\n",
       "                              simulation_bibtex_keys  \\\n",
       "0  [Mroue:2013xna, Boyle:2019kee, SXSCatalogWebsite]   \n",
       "1  [Mroue:2013xna, Boyle:2019kee, SXSCatalogWebsite]   \n",
       "\n",
       "                                    code_bibtex_keys  \\\n",
       "0  [Ossokine:2013zga, Hemberger:2012jz, Szilagyi:...   \n",
       "1  [Ossokine:2013zga, Hemberger:2012jz, Szilagyi:...   \n",
       "\n",
       "                            initial_data_bibtex_keys  \\\n",
       "0  [Buchman:2012dw, Lovelace:2008tw, Pfeiffer:200...   \n",
       "1  [Buchman:2012dw, Lovelace:2008tw, Pfeiffer:200...   \n",
       "\n",
       "                           quasicircular_bibtex_keys  initial_separation  \\\n",
       "0  [Mroue:2012kv, Buonanno:2010yk, Mroue:2010re, ...                18.0   \n",
       "1  [Mroue:2012kv, Buonanno:2010yk, Mroue:2010re, ...                19.0   \n",
       "\n",
       "   initial_orbital_frequency  initial_adot object1 object2  \\\n",
       "0                   0.012203     -0.000025      bh      bh   \n",
       "1                   0.011292     -0.000021      bh      bh   \n",
       "\n",
       "   initial_ADM_energy                        initial_ADM_linear_momentum  \\\n",
       "0            0.993736      [7.5160071e-09, 2.4389069e-09, -5.798632e-10]   \n",
       "1            0.994031  [1.6810827e-09, 1.4244131e-09, -1.148397590000...   \n",
       "\n",
       "                        initial_ADM_angular_momentum  initial_mass1  \\\n",
       "0  [4.27581822e-08, -2.3426250729999996e-07, 1.18...            0.5   \n",
       "1  [2.7620419800000002e-06, -2.428793193e-06, 1.2...            0.5   \n",
       "\n",
       "   initial_mass2                        initial_dimensionless_spin1  \\\n",
       "0            0.5  [-6.35700000002e-13, 4.72400000001e-13, 1.0250...   \n",
       "1            0.5  [5.319329999989999e-11, -6.31285000002e-11, -1...   \n",
       "\n",
       "                         initial_dimensionless_spin2  \\\n",
       "0  [4.4999999999800006e-15, -2.8e-15, 1.559379999...   \n",
       "1     [-3.268359e-10, 2.252065e-10, -1.44598159e-08]   \n",
       "\n",
       "                                 initial_position1  \\\n",
       "0  [9.000000125802465, -2.8664642100000002e-08, 0]   \n",
       "1             [9.50000028134381, 2.0830027e-07, 0]   \n",
       "\n",
       "                                  initial_position2  relaxation_time  \\\n",
       "0  [-8.999999874197535, -2.8664642100000002e-08, 0]            320.0   \n",
       "1             [-9.49999971865619, 2.0830027e-07, 0]            310.0   \n",
       "\n",
       "   common_horizon_time remnant_mass  \\\n",
       "0          9524.085983     0.951609   \n",
       "1         11804.749017      0.95161   \n",
       "\n",
       "                          remnant_dimensionless_spin  \\\n",
       "0  [-7.29520687012e-10, 7.40468371215e-10, 0.6864...   \n",
       "1  [3.7521879808300004e-10, 1.3261440201800001e-0...   \n",
       "\n",
       "                                    remnant_velocity  metadata_version  \\\n",
       "0  [1.45734870604e-09, 7.51603528474e-10, 3.72053...                 1   \n",
       "1  [3.5996348603100005e-09, 7.181410030280001e-09...                 1   \n",
       "\n",
       "                                      spec_revisions  \\\n",
       "0  [InitialCommit-20603-g8a2e9b6, InitialCommit-2...   \n",
       "1  [InitialCommit-20603-g8a2e9b6, InitialCommit-2...   \n",
       "\n",
       "                spells_revision  \\\n",
       "0  InitialCommit-21848-g8d8a7d7   \n",
       "1  InitialCommit-21848-g8d8a7d7   \n",
       "\n",
       "                                      com_parameters  initial_mass_ratio  \\\n",
       "0  {'space_translation': [3.6668214400000003e-08,...                 1.0   \n",
       "1  {'space_translation': [-4.66496816e-08, 2.4388...                 1.0   \n",
       "\n",
       "                       metadata_path          name  eos  merger_time  \\\n",
       "0  SXS:BBH:0001v6/Lev5/metadata.json  SXS:BBH:0001  NaN          NaN   \n",
       "1  SXS:BBH:0002v7/Lev6/metadata.json  SXS:BBH:0002  NaN          NaN   \n",
       "\n",
       "  final_time disk_mass ejecta_mass reference_spin1 reference_spin2  \\\n",
       "0        NaN       NaN         NaN             NaN             NaN   \n",
       "1        NaN       NaN         NaN             NaN             NaN   \n",
       "\n",
       "  nitial_spin1 initial_spin2 remnant_spin  initial_mass_withspin2  \n",
       "0          NaN           NaN          NaN                     NaN  \n",
       "1          NaN           NaN          NaN                     NaN  "
      ]
     },
     "execution_count": 11,
     "metadata": {},
     "output_type": "execute_result"
    }
   ],
   "source": [
    "df.head(2)"
   ]
  },
  {
   "cell_type": "markdown",
   "id": "c57932ca",
   "metadata": {},
   "source": [
    "#### Exploring \"Keywords\" "
   ]
  },
  {
   "cell_type": "code",
   "execution_count": 12,
   "id": "324b9bae",
   "metadata": {},
   "outputs": [],
   "source": [
    "df[['keyword1','keyword2','keyword3']] = pd.DataFrame(df.keywords.tolist(), index= df.index)"
   ]
  },
  {
   "cell_type": "code",
   "execution_count": 13,
   "id": "9126cdb0",
   "metadata": {},
   "outputs": [
    {
     "data": {
      "text/plain": [
       "NaN                 1845\n",
       "Precessing-Spins      91\n",
       "Aligned-Spins         51\n",
       "Non-Spinning          35\n",
       "NonSpinning            4\n",
       "SpinningNS             2\n",
       "Name: keyword1, dtype: int64"
      ]
     },
     "execution_count": 13,
     "metadata": {},
     "output_type": "execute_result"
    }
   ],
   "source": [
    "df.keyword1.value_counts(dropna=False)"
   ]
  },
  {
   "cell_type": "code",
   "execution_count": 14,
   "id": "e2e86e73",
   "metadata": {},
   "outputs": [
    {
     "data": {
      "text/plain": [
       "NaN                          1845\n",
       "ManyMergers-QuasiCircular      80\n",
       "ManyMergers-Eccentric          43\n",
       "ManyMergers-Random32           32\n",
       "ManyMergers-SKS                19\n",
       "Polytrope                       8\n",
       "PiecewisePolytrope              1\n",
       "Name: keyword2, dtype: int64"
      ]
     },
     "execution_count": 14,
     "metadata": {},
     "output_type": "execute_result"
    }
   ],
   "source": [
    "df.keyword2.value_counts(dropna=False)"
   ]
  },
  {
   "cell_type": "markdown",
   "id": "26d9a274",
   "metadata": {},
   "source": [
    "### 2. Cleaning data"
   ]
  },
  {
   "cell_type": "code",
   "execution_count": 19,
   "id": "bbfa2a33",
   "metadata": {},
   "outputs": [],
   "source": [
    "predictors = ['alternative_names','reference_mass_ratio', 'reference_dimensionless_spin1',\n",
    "              'reference_dimensionless_spin2','remnant_mass','remnant_dimensionless_spin',\n",
    "              'keyword1','keyword2','keyword3',\n",
    "              'reference_chi_eff', 'reference_chi1_perp', 'reference_chi2_perp',\n",
    "               'reference_mass1', 'reference_mass2'\n",
    "             ]"
   ]
  },
  {
   "cell_type": "code",
   "execution_count": 20,
   "id": "8b7a52f2",
   "metadata": {},
   "outputs": [],
   "source": [
    "# Removing rows with NA values\n",
    "df_ok = df.loc[0:2018, predictors]"
   ]
  },
  {
   "cell_type": "code",
   "execution_count": 21,
   "id": "b4bfa6be",
   "metadata": {},
   "outputs": [],
   "source": [
    "# Removing rows with outliers on remnant_mass\n",
    "df_ok = df_ok.loc[df_ok.remnant_mass < 1.5,]"
   ]
  },
  {
   "cell_type": "code",
   "execution_count": 22,
   "id": "c4d1ec11",
   "metadata": {},
   "outputs": [],
   "source": [
    "df_ok[['reference_dimensionless_spin1_1','reference_dimensionless_spin1_2','reference_dimensionless_spin1_3']] = pd.DataFrame(df_ok.reference_dimensionless_spin1.tolist(), index= df_ok.index)\n",
    "df_ok[['reference_dimensionless_spin2_1','reference_dimensionless_spin2_2','reference_dimensionless_spin2_3']] = pd.DataFrame(df_ok.reference_dimensionless_spin2.tolist(), index= df_ok.index)\n",
    "df_ok[['remnant_dimensionless_spin_1','remnant_dimensionless_spin_2','remnant_dimensionless_spin_3']] = pd.DataFrame(df_ok.remnant_dimensionless_spin.tolist(), index= df_ok.index)\n"
   ]
  },
  {
   "cell_type": "markdown",
   "id": "d19db717",
   "metadata": {},
   "source": [
    "### 3. Building Features \n",
    "- Adding Flags: Precessing, Not Spinning"
   ]
  },
  {
   "cell_type": "code",
   "execution_count": 23,
   "id": "53bb7400",
   "metadata": {},
   "outputs": [],
   "source": [
    "df_ok['precessing'] = 1\n",
    "df_ok.loc[abs(df_ok.reference_dimensionless_spin1_1) < 0.000001, 'precessing'] = 0\n",
    "\n",
    "\n",
    "df_ok['notspinning'] = 0\n",
    "df_ok.loc[(abs(df_ok.reference_dimensionless_spin1_1) < 0.0001) &\n",
    "          (abs(df_ok.reference_dimensionless_spin1_2) < 0.0001) &\n",
    "          (abs(df_ok.reference_dimensionless_spin1_3) < 0.0001) &\n",
    "          (abs(df_ok.reference_dimensionless_spin2_1) < 0.0001) &\n",
    "          (abs(df_ok.reference_dimensionless_spin2_2) < 0.0001) &\n",
    "          (abs(df_ok.reference_dimensionless_spin2_3) < 0.0001) \n",
    "          , 'notspinning'] = 1\n"
   ]
  },
  {
   "cell_type": "code",
   "execution_count": 24,
   "id": "c8f36a69",
   "metadata": {},
   "outputs": [
    {
     "data": {
      "text/plain": [
       "0    1912\n",
       "1     104\n",
       "Name: notspinning, dtype: int64"
      ]
     },
     "execution_count": 24,
     "metadata": {},
     "output_type": "execute_result"
    }
   ],
   "source": [
    "df_ok['notspinning'].value_counts()"
   ]
  },
  {
   "cell_type": "code",
   "execution_count": 25,
   "id": "a04b61e5",
   "metadata": {},
   "outputs": [
    {
     "data": {
      "text/plain": [
       "1    1421\n",
       "0     595\n",
       "Name: precessing, dtype: int64"
      ]
     },
     "execution_count": 25,
     "metadata": {},
     "output_type": "execute_result"
    }
   ],
   "source": [
    "df_ok['precessing'].value_counts()"
   ]
  },
  {
   "cell_type": "markdown",
   "id": "b0fe7ec5",
   "metadata": {},
   "source": [
    "### Variables into the model: I just copied and pasted from df columns\n",
    "\n",
    "#### X Variables\n",
    "For hole 1: \n",
    "- $\\chi_{1.1}$ = reference_dimensionless_spin1_1\n",
    "- $\\chi_{1.2}$ = reference_dimensionless_spin1_2\n",
    "- $\\chi_{1.2}$ = reference_dimensionless_spin1_3\n",
    "- $m_2$ = reference_mass1\n",
    "- reference_chi1_perp\n",
    "\n",
    "For hole 2: \n",
    "- $\\chi_{2.1}$ = reference_dimensionless_spin2_1\n",
    "- $\\chi_{2.2}$ = reference_dimensionless_spin2_2\n",
    "- $\\chi_{2.2}$ = reference_dimensionless_spin2_3\n",
    "- $m_2$ = reference_mass2\n",
    "- reference_chi2_perp\n",
    "\n",
    "\n",
    "For both: \n",
    "- $q$ = reference_mass_ratio\n",
    "- precessing\n",
    "- not_spinning\n",
    "- reference_chi_eff\n",
    "\n",
    "#### Y (Target) Variable \n",
    "- $m_f$ = remnant_mass\n",
    "- remnant_dimensionless_spin\n",
    "\n",
    "\n"
   ]
  },
  {
   "cell_type": "markdown",
   "id": "455fa906",
   "metadata": {},
   "source": [
    "### Calculated stats: review!!!\n",
    "- $\\eta$ = reference_mass_ratio / (1+reference_mass_ratio **2)\n",
    "- $\\eta2$ = (reference_mass1 * reference_mass2) / ((reference_mass1+reference_mass2) **2) *(is the same as eta)*\n",
    "\n",
    "- $S_1 = |\\chi_{1}|$\n",
    "- $S_2 = |\\chi_{2}|$\n",
    "- $S_{eff} = (S1+S2)/(1−2 η M2)$\n",
    "- $m_1 \\:+ \\:m_2 $ = reference_mass1+reference_mass2"
   ]
  },
  {
   "cell_type": "code",
   "execution_count": 33,
   "id": "20af0804",
   "metadata": {},
   "outputs": [],
   "source": [
    "df_ok['s1'] = df_ok['reference_dimensionless_spin1_1']**2 +  df_ok['reference_dimensionless_spin1_2']**2 +  df_ok['reference_dimensionless_spin1_3']**2\n",
    "df_ok['s1'] = np.sqrt(df_ok['s1'])\n",
    "\n",
    "df_ok['s2'] = df_ok['reference_dimensionless_spin2_1']**2 +  df_ok['reference_dimensionless_spin2_2']**2 +  df_ok['reference_dimensionless_spin2_3']**2\n",
    "df_ok['s2'] = np.sqrt(df_ok['s2'])"
   ]
  },
  {
   "cell_type": "code",
   "execution_count": 34,
   "id": "26130311",
   "metadata": {},
   "outputs": [],
   "source": [
    "df_ok['eta']  = df_ok['reference_mass_ratio'] / (df_ok['reference_mass_ratio']+1)**2"
   ]
  },
  {
   "cell_type": "code",
   "execution_count": 35,
   "id": "aa22f1e3",
   "metadata": {},
   "outputs": [],
   "source": [
    "#df_ok['eta2'] = df_ok['reference_mass1'] * df_ok['reference_mass2']  / (df_ok['reference_mass1']+df_ok['reference_mass2'])**2\n",
    "#df_ok[['eta','eta2']]"
   ]
  },
  {
   "cell_type": "code",
   "execution_count": 38,
   "id": "476ed815",
   "metadata": {},
   "outputs": [],
   "source": [
    "df_ok['s1_sum'] = df_ok['reference_dimensionless_spin1_1'] + df_ok['reference_dimensionless_spin2_1']\n",
    "df_ok['s2_sum'] = df_ok['reference_dimensionless_spin1_2'] + df_ok['reference_dimensionless_spin2_2']\n",
    "df_ok['s3_sum'] = df_ok['reference_dimensionless_spin1_3'] + df_ok['reference_dimensionless_spin2_3']\n",
    "df_ok['m1+m2']  = df_ok['reference_mass1'] + df_ok['reference_mass2']\n",
    "df_ok['seff'] = np.sqrt(df_ok.s1_sum**2 + df_ok.s2_sum**2 + df_ok.s3_sum**2) / (1 - (2*df_ok['eta']*df_ok['m1+m2']**2)) "
   ]
  },
  {
   "cell_type": "code",
   "execution_count": null,
   "id": "98a551cf",
   "metadata": {},
   "outputs": [],
   "source": [
    "df_ok.to_csv('/Users/camilaburne/UT/Data Mining/Data-Mining-ECE-280/LIGO/df_predictors.csv')"
   ]
  },
  {
   "cell_type": "code",
   "execution_count": null,
   "id": "e236dc55",
   "metadata": {},
   "outputs": [],
   "source": [
    "df_ok.columns"
   ]
  },
  {
   "cell_type": "markdown",
   "id": "3710128f",
   "metadata": {},
   "source": [
    "### Exploratory Data Analysis "
   ]
  },
  {
   "cell_type": "markdown",
   "id": "47a3ac57",
   "metadata": {},
   "source": [
    "### 3D Chart at [rpub link](https://rpubs.com/CamilaBurneUT/remnant_mass_eta_seff)"
   ]
  },
  {
   "cell_type": "code",
   "execution_count": 39,
   "id": "34dcbf82",
   "metadata": {},
   "outputs": [],
   "source": [
    "X = df_ok[['reference_mass_ratio',\n",
    "       'reference_chi_eff',\n",
    "       'reference_chi1_perp', 'reference_chi2_perp', 'reference_mass1',\n",
    "       'reference_mass2', 'reference_dimensionless_spin1_1',\n",
    "       'reference_dimensionless_spin1_2', 'reference_dimensionless_spin1_3',\n",
    "       'reference_dimensionless_spin2_1', 'reference_dimensionless_spin2_2',\n",
    "       'reference_dimensionless_spin2_3', 'precessing', 'notspinning', 's1',\n",
    "       's2', 'eta', 's1_sum', 's2_sum', 's3_sum', 'm1+m2', 'seff']]\n",
    "\n",
    "y = df_ok['remnant_mass']\n",
    "\n",
    "y1 = df_ok['remnant_dimensionless_spin_1']\n",
    "y2 = df_ok['remnant_dimensionless_spin_2']\n",
    "y3 = df_ok['remnant_dimensionless_spin_3']\n"
   ]
  },
  {
   "cell_type": "code",
   "execution_count": null,
   "id": "d6e23b40",
   "metadata": {},
   "outputs": [],
   "source": [
    "for i in X.columns:\n",
    "    plt.scatter(X[i], y, alpha = 0.2)\n",
    "    plt.title(i + ' vs remnant_mass')\n",
    "    plt.show()\n",
    "    \n",
    "    plt.scatter(X[i], y1, alpha = 0.3, color='orange')\n",
    "    plt.title(i + ' vs remnant_dimensionless_spin 1 ')\n",
    "    plt.show()\n",
    "    plt.scatter(X[i], y2, alpha = 0.3, color='orange')\n",
    "    plt.title(i + ' vs remnant_dimensionless_spin 2 ')\n",
    "    plt.show()\n",
    "    plt.scatter(X[i], y3, alpha = 0.3, color='orange')\n",
    "    plt.title(i + ' vs remnant_dimensionless_spin 3 ')\n",
    "    plt.show()"
   ]
  },
  {
   "cell_type": "code",
   "execution_count": null,
   "id": "23088235",
   "metadata": {},
   "outputs": [],
   "source": [
    "plt.scatter(y, y1, alpha = 0.2, color = 'orangered')\n",
    "plt.title('remnant_mass vs remnant_dimensionless_spin 1')\n",
    "plt.show()\n",
    "plt.scatter(y, y2, alpha = 0.2, color = 'orangered')\n",
    "plt.title('remnant_mass vs remnant_dimensionless_spin 2')\n",
    "plt.show()\n",
    "plt.scatter(y, y3, alpha = 0.2, color = 'orangered')\n",
    "plt.title('remnant_mass vs remnant_dimensionless_spin 3')\n",
    "plt.show()"
   ]
  },
  {
   "cell_type": "markdown",
   "id": "ee979fe3",
   "metadata": {},
   "source": [
    "### Trying Stratified Sampling"
   ]
  },
  {
   "cell_type": "code",
   "execution_count": null,
   "id": "8d27c884",
   "metadata": {},
   "outputs": [],
   "source": [
    "df_ok.columns"
   ]
  },
  {
   "cell_type": "code",
   "execution_count": null,
   "id": "c587422f",
   "metadata": {},
   "outputs": [],
   "source": [
    "import seaborn as sns\n",
    "\n",
    "sns.set(rc={'figure.figsize':(15,15)})\n",
    "\n",
    "corrMatrix = df_ok.corr()\n",
    "sns.heatmap(corrMatrix, annot=False)\n",
    "plt.show()"
   ]
  },
  {
   "cell_type": "code",
   "execution_count": null,
   "id": "05979fa2",
   "metadata": {},
   "outputs": [],
   "source": [
    "X = df_ok[['reference_mass_ratio',\n",
    "       'reference_chi_eff',\n",
    "       'reference_chi1_perp', 'reference_chi2_perp', 'reference_mass1',\n",
    "       'reference_mass2', 'reference_dimensionless_spin1_1',\n",
    "       'reference_dimensionless_spin1_2', 'reference_dimensionless_spin1_3',\n",
    "       'reference_dimensionless_spin2_1', 'reference_dimensionless_spin2_2',\n",
    "       'reference_dimensionless_spin2_3', 'precessing', 'notspinning', 's1',\n",
    "       's2', 'eta', 's1_sum', 's2_sum', 's3_sum', 'm1+m2', 'seff']]\n",
    "\n",
    "y = df_ok['remnant_mass']\n",
    "\n",
    "y1 = df_ok['remnant_dimensionless_spin_1']\n",
    "y2 = df_ok['remnant_dimensionless_spin_2']\n",
    "y3 = df_ok['remnant_dimensionless_spin_3']"
   ]
  },
  {
   "cell_type": "code",
   "execution_count": null,
   "id": "407651cb",
   "metadata": {},
   "outputs": [],
   "source": [
    "from sklearn.model_selection import train_test_split\n",
    "\n",
    "X_train, X_test, y_train, y_test = train_test_split(X, y, test_size=0.25, stratify=df_ok[['precessing','notspinning']])"
   ]
  },
  {
   "cell_type": "code",
   "execution_count": null,
   "id": "cada7183",
   "metadata": {},
   "outputs": [],
   "source": [
    "X_train.precessing.value_counts(normalize=True)"
   ]
  },
  {
   "cell_type": "code",
   "execution_count": null,
   "id": "de012588",
   "metadata": {},
   "outputs": [],
   "source": [
    "X_test.precessing.value_counts(normalize=True)"
   ]
  },
  {
   "cell_type": "markdown",
   "id": "d48ef486",
   "metadata": {},
   "source": [
    "### From now on: Switch to the \"Trying NNs\" notebook\n"
   ]
  },
  {
   "cell_type": "code",
   "execution_count": null,
   "id": "b8ae041e",
   "metadata": {},
   "outputs": [],
   "source": []
  },
  {
   "cell_type": "code",
   "execution_count": null,
   "id": "bdd060cc",
   "metadata": {},
   "outputs": [],
   "source": []
  }
 ],
 "metadata": {
  "kernelspec": {
   "display_name": "Python 3",
   "language": "python",
   "name": "python3"
  },
  "language_info": {
   "codemirror_mode": {
    "name": "ipython",
    "version": 3
   },
   "file_extension": ".py",
   "mimetype": "text/x-python",
   "name": "python",
   "nbconvert_exporter": "python",
   "pygments_lexer": "ipython3",
   "version": "3.6.13"
  }
 },
 "nbformat": 4,
 "nbformat_minor": 5
}
