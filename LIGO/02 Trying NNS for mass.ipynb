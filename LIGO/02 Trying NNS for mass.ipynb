{
 "cells": [
  {
   "cell_type": "code",
   "execution_count": 1,
   "id": "aa8041a4",
   "metadata": {},
   "outputs": [],
   "source": [
    "import numpy as np\n",
    "import pandas as pd\n",
    "import random\n",
    "#from sklearn import linear_model\n",
    "#from sklearn.metrics import mean_absolute_error, mean_squared_error\n",
    "#from sklearn.linear_model import LogisticRegression\n",
    "#from sklearn.model_selection import train_test_split\n",
    "#from sklearn import preprocessing\n",
    "#from sklearn.model_selection import KFold\n",
    "import matplotlib.pyplot as plt\n",
    "import itertools\n",
    "import h5py\n",
    "import seaborn as sns"
   ]
  },
  {
   "cell_type": "code",
   "execution_count": 2,
   "id": "b4e41ea5",
   "metadata": {},
   "outputs": [
    {
     "name": "stderr",
     "output_type": "stream",
     "text": [
      "Using TensorFlow backend.\n"
     ]
    }
   ],
   "source": [
    "import numpy as np\n",
    "import pandas as pd\n",
    "import keras\n",
    "from keras.models import Sequential\n",
    "from keras.layers import *\n",
    "from keras.preprocessing import image\n",
    "#from keras.applications import resnet50\n"
   ]
  },
  {
   "cell_type": "code",
   "execution_count": 3,
   "id": "e9397ec6",
   "metadata": {},
   "outputs": [],
   "source": [
    "from sklearn.model_selection import GridSearchCV\n",
    "from sklearn.model_selection import train_test_split\n",
    "from sklearn import linear_model\n",
    "from sklearn.metrics import mean_squared_error\n",
    "from sklearn.ensemble import RandomForestRegressor\n",
    "from sklearn.datasets import make_regression\n",
    "from sklearn import ensemble\n",
    "from sklearn.inspection import permutation_importance\n",
    "from sklearn.metrics import mean_squared_error\n",
    "from sklearn.model_selection import train_test_split\n"
   ]
  },
  {
   "cell_type": "code",
   "execution_count": 4,
   "id": "031118c4",
   "metadata": {},
   "outputs": [],
   "source": [
    "pd.set_option('display.max_columns', None)\n",
    "pd.set_option('display.max_rows', None)"
   ]
  },
  {
   "cell_type": "markdown",
   "id": "2e28c249",
   "metadata": {},
   "source": [
    "## Dividir en test train y VALID "
   ]
  },
  {
   "cell_type": "markdown",
   "id": "d494ef4e",
   "metadata": {},
   "source": [
    "### Input data: Catalog.json"
   ]
  },
  {
   "cell_type": "code",
   "execution_count": 23,
   "id": "98a551cf",
   "metadata": {},
   "outputs": [],
   "source": [
    "df_ok = pd.read_csv('/Users/camilaburne/UT/Data Mining/Data-Mining-ECE-280/LIGO/df_predictors.csv')"
   ]
  },
  {
   "cell_type": "markdown",
   "id": "3710128f",
   "metadata": {},
   "source": [
    "### Exploratory Data Analysis "
   ]
  },
  {
   "cell_type": "markdown",
   "id": "47a3ac57",
   "metadata": {},
   "source": [
    "### 3D Chart at [rpub link](https://rpubs.com/CamilaBurneUT/remnant_mass_eta_seff)"
   ]
  },
  {
   "cell_type": "markdown",
   "id": "3f325a5b",
   "metadata": {},
   "source": [
    "### Sampling"
   ]
  },
  {
   "cell_type": "code",
   "execution_count": 24,
   "id": "d9d77082",
   "metadata": {},
   "outputs": [],
   "source": [
    "df_ok['ref_mass_1_stratified'] = pd.cut(df_ok.reference_mass1, 3)\n",
    "df_ok['ref_mass_2_stratified'] = pd.cut(df_ok.reference_mass2, 3) \n",
    "df_ok['reference_chi_eff_stratified'] = pd.cut(df_ok.reference_chi_eff, 3) \n",
    "df_ok['eta_stratified'] = pd.cut(df_ok.eta, 3) \n"
   ]
  },
  {
   "cell_type": "code",
   "execution_count": 25,
   "id": "34dcbf82",
   "metadata": {},
   "outputs": [],
   "source": [
    "X = df_ok[['reference_mass_ratio',\n",
    "       'reference_chi_eff',\n",
    "       'reference_chi1_perp', 'reference_chi2_perp', 'reference_mass1',\n",
    "       'reference_mass2', 'reference_dimensionless_spin1_1',\n",
    "       'reference_dimensionless_spin1_2', 'reference_dimensionless_spin1_3',\n",
    "       'reference_dimensionless_spin2_1', 'reference_dimensionless_spin2_2',\n",
    "       'reference_dimensionless_spin2_3', 'precessing', 'notspinning', 's1',\n",
    "       's2', 'eta', 's1_sum', 's2_sum', 's3_sum', 'm1+m2', 'seff']]\n",
    "\n",
    "y = df_ok['remnant_mass']\n",
    "\n",
    "y1 = df_ok['remnant_dimensionless_spin_1']\n",
    "y2 = df_ok['remnant_dimensionless_spin_2']\n",
    "y3 = df_ok['remnant_dimensionless_spin_3']\n"
   ]
  },
  {
   "cell_type": "code",
   "execution_count": 26,
   "id": "794a5f40",
   "metadata": {},
   "outputs": [],
   "source": [
    "# Stratified\n",
    "X_train, X_test, y_train, y_test = train_test_split(X, y, test_size=0.25, \n",
    "                                                    stratify=df_ok[['precessing',\n",
    "                                                                    'eta_stratified',\n",
    "                                                                    'reference_chi_eff_stratified',\n",
    "                                                                    'ref_mass_1_stratified']], random_state=0)\n",
    "\n",
    "#Random sampling\n",
    "X_train_no, X_test_no, y_train_no, y_test_no = train_test_split(X, y, test_size=0.25, random_state=0)\n"
   ]
  },
  {
   "cell_type": "markdown",
   "id": "08214025",
   "metadata": {},
   "source": [
    "\n",
    "#### Checking distribution of X in test vs train "
   ]
  },
  {
   "cell_type": "code",
   "execution_count": 30,
   "id": "7a8d4f42",
   "metadata": {},
   "outputs": [
    {
     "name": "stdout",
     "output_type": "stream",
     "text": [
      "reference_mass1\n",
      "stratified\n",
      "0.66390960352867\n",
      "0.6645794425421924\n",
      "not stratified\n",
      "0.6635781937632724\n",
      "0.6655736718383849\n",
      "\n",
      " reference_chi_eff\n",
      "stratified\n",
      "0.003074985962812778\n",
      "-0.0008547831109068499\n",
      "not stratified\n",
      "0.005255840888665643\n",
      "-0.007397347888465442\n",
      "\n",
      " eta\n",
      "stratified\n",
      "0.21141171524671412\n",
      "0.21131124472988141\n",
      "not stratified\n",
      "0.21181295591591495\n",
      "0.21010752272227892\n",
      "\n",
      " precessing\n",
      "stratified\n",
      "0.705026455026455\n",
      "0.7043650793650794\n",
      "not stratified\n",
      "0.7109788359788359\n",
      "0.6865079365079365\n"
     ]
    }
   ],
   "source": [
    "print('reference_mass1')\n",
    "\n",
    "print('stratified')\n",
    "print(X_train.reference_mass1.mean())\n",
    "print(X_test.reference_mass1.mean())\n",
    "print('not stratified')\n",
    "print(X_train_no.reference_mass1.mean())\n",
    "print(X_test_no.reference_mass1.mean())\n",
    "\n",
    "\n",
    "print('\\n reference_chi_eff')\n",
    "\n",
    "print('stratified')\n",
    "print(X_train.reference_chi_eff.mean())\n",
    "print(X_test.reference_chi_eff.mean())\n",
    "print('not stratified')\n",
    "print(X_train_no.reference_chi_eff.mean())\n",
    "print(X_test_no.reference_chi_eff.mean())\n",
    "\n",
    "print('\\n eta')\n",
    "\n",
    "print('stratified')\n",
    "print(X_train.eta.mean())\n",
    "print(X_test.eta.mean())\n",
    "print('not stratified')\n",
    "print(X_train_no.eta.mean())\n",
    "print(X_test_no.eta.mean())\n",
    "\n",
    "\n",
    "print('\\n precessing')\n",
    "\n",
    "print('stratified')\n",
    "print(X_train.precessing.mean())\n",
    "print(X_test.precessing.mean())\n",
    "print('not stratified')\n",
    "print(X_train_no.precessing.mean())\n",
    "print(X_test_no.precessing.mean())\n"
   ]
  },
  {
   "cell_type": "code",
   "execution_count": 28,
   "id": "96d3e9b3",
   "metadata": {},
   "outputs": [
    {
     "data": {
      "image/png": "[encoded data removed]",
      "text/plain": [
       "<Figure size 432x288 with 1 Axes>"
      ]
     },
     "metadata": {
      "needs_background": "light"
     },
     "output_type": "display_data"
    }
   ],
   "source": [
    "labels = ['Rand Sample \\n Chi Eff', 'Stratified \\n Chi Eff',\n",
    "          'Rand Sample \\n Eta', 'Stratified \\n Eta'          \n",
    "         ]\n",
    "train  = [0.005255840888665643,0.003074985962812778,   0.21181295591591495, 0.21141171524671412]\n",
    "test   = [-0.007397347888465442,-0.0008547831109068499, 0.21010752272227892, 0.21131124472988141]\n",
    " \n",
    "x = np.arange(len(labels))  # the label locations\n",
    "width = 0.35  # the width of the bars\n",
    "\n",
    "fig, ax = plt.subplots()\n",
    "rects1 = ax.bar(x - width/2, train, width, label='Train')\n",
    "rects2 = ax.bar(x + width/2, test, width, label='Test')\n",
    "\n",
    "# Add some text for labels, title and custom x-axis tick labels, etc.\n",
    "ax.set_ylabel('')\n",
    "ax.set_title('Variables used for stratification')\n",
    "ax.set_xticks(x)\n",
    "ax.set_xticklabels(labels)\n",
    "ax.legend(loc=4)\n",
    "ax.set_ylim([-0.01, 0.22])\n",
    "#ax.bar_label(rects1, padding=3)\n",
    "#ax.bar_label(rects2, padding=3)\n",
    "\n",
    "fig.tight_layout()\n",
    "\n",
    "plt.show()"
   ]
  },
  {
   "cell_type": "code",
   "execution_count": 29,
   "id": "ec093d6f",
   "metadata": {},
   "outputs": [
    {
     "data": {
      "image/png": "[encoded data removed]",
      "text/plain": [
       "<Figure size 432x288 with 1 Axes>"
      ]
     },
     "metadata": {
      "needs_background": "light"
     },
     "output_type": "display_data"
    }
   ],
   "source": [
    "labels = ['Rand Sample \\n Precessing', 'Stratified \\n precessing',\n",
    "          'Rand Sample \\n Ref Mass 1', 'Stratified \\n Ref Mass 1'          \n",
    "         ]\n",
    "train  = [0.7109788359788359,0.705026455026455,   0.6635781937632724, 0.66390960352867]\n",
    "test   = [ 0.6865079365079365,0.7043650793650794, 0.6655736718383849, 0.6645794425421924]\n",
    "\n",
    "\n",
    "x = np.arange(len(labels))  # the label locations\n",
    "width = 0.35  # the width of the bars\n",
    "\n",
    "fig, ax = plt.subplots()\n",
    "rects1 = ax.bar(x - width/2, train, width, label='Train')\n",
    "rects2 = ax.bar(x + width/2, test, width, label='Test')\n",
    "\n",
    "# Add some text for labels, title and custom x-axis tick labels, etc.\n",
    "ax.set_ylabel('')\n",
    "ax.set_title('Variables used for stratification')\n",
    "ax.set_xticks(x)\n",
    "ax.set_xticklabels(labels)\n",
    "ax.legend(loc=4)\n",
    "ax.set_ylim([0.5, 0.75])\n",
    "#ax.bar_label(rects1, padding=3)\n",
    "#ax.bar_label(rects2, padding=3)\n",
    "\n",
    "fig.tight_layout()\n",
    "\n",
    "plt.show()"
   ]
  },
  {
   "cell_type": "code",
   "execution_count": 31,
   "id": "cc527f88",
   "metadata": {},
   "outputs": [
    {
     "data": {
      "image/png": "[encoded data removed]",
      "text/plain": [
       "<Figure size 360x360 with 1 Axes>"
      ]
     },
     "metadata": {
      "needs_background": "light"
     },
     "output_type": "display_data"
    }
   ],
   "source": [
    "sns.displot(X_test.reference_mass2, kde=True)\n",
    "plt.show()"
   ]
  },
  {
   "cell_type": "code",
   "execution_count": 32,
   "id": "b7ddcfbf",
   "metadata": {},
   "outputs": [
    {
     "data": {
      "image/png": "[encoded data removed]",
      "text/plain": [
       "<Figure size 360x360 with 1 Axes>"
      ]
     },
     "metadata": {
      "needs_background": "light"
     },
     "output_type": "display_data"
    }
   ],
   "source": [
    "sns.displot(X_train.reference_mass2, kde=True)\n",
    "plt.show()"
   ]
  },
  {
   "cell_type": "code",
   "execution_count": 33,
   "id": "0092fc86",
   "metadata": {},
   "outputs": [
    {
     "data": {
      "image/png": "[encoded data removed]",
      "text/plain": [
       "<Figure size 360x360 with 1 Axes>"
      ]
     },
     "metadata": {
      "needs_background": "light"
     },
     "output_type": "display_data"
    }
   ],
   "source": [
    "sns.displot(y_train, kde=True)\n",
    "plt.show()"
   ]
  },
  {
   "cell_type": "code",
   "execution_count": 34,
   "id": "5b1ba7a6",
   "metadata": {},
   "outputs": [
    {
     "data": {
      "image/png": "[encoded data removed]",
      "text/plain": [
       "<Figure size 360x360 with 1 Axes>"
      ]
     },
     "metadata": {
      "needs_background": "light"
     },
     "output_type": "display_data"
    }
   ],
   "source": [
    "sns.displot(y_test, kde=True)\n",
    "plt.show()"
   ]
  },
  {
   "cell_type": "markdown",
   "id": "03d2c9b0",
   "metadata": {},
   "source": [
    "### From now on is Modeling \n",
    "\n",
    "This is just a test to implement the following model\n",
    "$$m_f=\\omega_0+\\omega_1 q+\\omega_2 \\chi^1_x+\\omega_3 \\chi^1_y+\\omega_4 \\chi^1_z+\\omega_5 \\chi^2_x+\\omega_6 \\chi^2_y+\\omega_7 \\chi^2_z$$"
   ]
  },
  {
   "cell_type": "markdown",
   "id": "1ef59013",
   "metadata": {},
   "source": [
    "### Random Sampling\n",
    "<h3><font color='#07a4b3'> Neural Networks </font></h3>\n",
    "\n",
    "\n",
    "``` \n",
    "    lay     act  nodes  opt    lr     epoch   momtm  *error*\n",
    "m1    3    relu    256  adam   0.001    200          1.190e-05\n",
    "m2    3    relu    256  SGD    0.001    200   0.001  0.00091\n",
    "m3    4    relu    256  adam   0.001    200          ---\n",
    "m4    5    relu   4096  adam   0.001    200          ---\n",
    "``` \n",
    "<h3><font color='#f16913'> Other models </font></h3>\n",
    "\n",
    "``` \n",
    "     depth    ridge   lasso   lr                     *error* \n",
    "lm1                                                  8.017e-06\n",
    "rf1      3                                           2.268e-05\n",
    "gbr      4                    0.01                   1.524e-06\n",
    "gbr      4                    0.03                   1.195e-06\n",
    "svr\n",
    " \n",
    "``` \n",
    "\n",
    "## Stratified Sampling\n",
    "<h3><font color='#07a4b3'> Neural Networks </font></h3>\n",
    "\n",
    "\n",
    "``` \n",
    "    lay     act  nodes  opt    lr     epoch   momtm  *error*\n",
    "m1    3    relu    256  adam   0.001    200          1.40e-05     \n",
    "m2    3    relu    256  SGD    0.001    200   0.001  0 \n",
    "m3    4    relu    256  adam   0.001    200          1.28e-05\n",
    "\n",
    "m4    5    relu   4096  adam   0.001    200          1.44e-05\n",
    "``` \n",
    "\n",
    "<h3><font color='#f16913'> Other models </font></h3>\n",
    "\n",
    "``` \n",
    "     depth    ridge   lasso   lr                      *error* \n",
    "lm1                                                  7.409-06\n",
    "rf1      3                                           2.40e-05\n",
    "gbr      4                    0.01                   1.68e-06\n",
    "gbr      4                    0.03                   1.19e-06\n",
    "\n",
    "svr\n",
    "\n",
    "\n",
    "``` "
   ]
  },
  {
   "cell_type": "markdown",
   "id": "e25f5516",
   "metadata": {},
   "source": [
    "## Linear Reg"
   ]
  },
  {
   "cell_type": "markdown",
   "id": "12aa77b5",
   "metadata": {},
   "source": [
    "Random Sampling"
   ]
  },
  {
   "cell_type": "code",
   "execution_count": 35,
   "id": "913120b0",
   "metadata": {},
   "outputs": [
    {
     "data": {
      "text/plain": [
       "8.017180002813629e-06"
      ]
     },
     "execution_count": 35,
     "metadata": {},
     "output_type": "execute_result"
    }
   ],
   "source": [
    "Reg_Linear = linear_model.LinearRegression()\n",
    "Linear_fit = Reg_Linear.fit(X_train_no,y_train_no)\n",
    "Linear_predict = Linear_fit.predict(X_test_no)\n",
    "mse_Linear = mean_squared_error(y_test_no,Linear_predict)\n",
    "mse_Linear"
   ]
  },
  {
   "cell_type": "markdown",
   "id": "cfb734f3",
   "metadata": {},
   "source": [
    "Stratified Sampling"
   ]
  },
  {
   "cell_type": "code",
   "execution_count": 36,
   "id": "3410811f",
   "metadata": {},
   "outputs": [
    {
     "data": {
      "text/plain": [
       "7.4096299026341494e-06"
      ]
     },
     "execution_count": 36,
     "metadata": {},
     "output_type": "execute_result"
    }
   ],
   "source": [
    "Reg_Linear = linear_model.LinearRegression()\n",
    "Linear_fit = Reg_Linear.fit(X_train,y_train)\n",
    "Linear_predict = Linear_fit.predict(X_test)\n",
    "mse_Linear = mean_squared_error(y_test,Linear_predict)\n",
    "mse_Linear"
   ]
  },
  {
   "cell_type": "code",
   "execution_count": 37,
   "id": "0f5096c1",
   "metadata": {},
   "outputs": [],
   "source": [
    "import numpy as np\n",
    "import pandas as pd\n",
    "import keras\n",
    "from keras.models import Sequential\n",
    "from keras.layers import *\n",
    "from keras.preprocessing import image\n",
    "#from keras.applications import resnet50\n"
   ]
  },
  {
   "cell_type": "markdown",
   "id": "ecee4810",
   "metadata": {},
   "source": [
    "## m1"
   ]
  },
  {
   "cell_type": "code",
   "execution_count": 38,
   "id": "108e502e",
   "metadata": {},
   "outputs": [],
   "source": [
    "m1 = Sequential(name=\"M1\")\n",
    "m1.add(Dense(50 , input_dim=22, activation=\"relu\",   name=\"layer1\"))\n",
    "m1.add(Dense(256, activation=\"relu\",   name=\"layer2\"))\n",
    "m1.add(Dense(1  , activation='linear', name=\"layer3\"))\n",
    "\n",
    "o1 = keras.optimizers.Adam(learning_rate=0.001)\n",
    "m1.compile(loss='mean_squared_error', optimizer=o1)"
   ]
  },
  {
   "cell_type": "markdown",
   "id": "710af413",
   "metadata": {},
   "source": [
    "Random Sampling"
   ]
  },
  {
   "cell_type": "code",
   "execution_count": 39,
   "id": "38c299e4",
   "metadata": {},
   "outputs": [
    {
     "name": "stdout",
     "output_type": "stream",
     "text": [
      "504/504 [==============================] - 0s 118us/step\n"
     ]
    },
    {
     "data": {
      "text/plain": [
       "1.1906232170336547e-05"
      ]
     },
     "execution_count": 39,
     "metadata": {},
     "output_type": "execute_result"
    }
   ],
   "source": [
    "# Fit the model\n",
    "history = m1.fit(X_train_no,y_train_no,epochs=300,shuffle=True,verbose=0)\n",
    "test_error_m1 = m1.evaluate(X_test_no, y_test_no, verbose=1)\n",
    "test_error_m1"
   ]
  },
  {
   "cell_type": "markdown",
   "id": "b4dd2432",
   "metadata": {},
   "source": [
    "Stratified Sampling"
   ]
  },
  {
   "cell_type": "code",
   "execution_count": 40,
   "id": "c86f25a0",
   "metadata": {},
   "outputs": [
    {
     "name": "stdout",
     "output_type": "stream",
     "text": [
      "504/504 [==============================] - 0s 27us/step\n"
     ]
    },
    {
     "data": {
      "text/plain": [
       "1.4090867230224254e-05"
      ]
     },
     "execution_count": 40,
     "metadata": {},
     "output_type": "execute_result"
    }
   ],
   "source": [
    "# Fit the model\n",
    "history = m1.fit(X_train,y_train,epochs=300,shuffle=True,verbose=0)\n",
    "test_error_m1 = m1.evaluate(X_test, y_test, verbose=1)\n",
    "test_error_m1"
   ]
  },
  {
   "cell_type": "code",
   "execution_count": 42,
   "id": "39cb9caf",
   "metadata": {},
   "outputs": [
    {
     "data": {
      "image/png": "[encoded data removed]",
      "text/plain": [
       "<Figure size 432x288 with 1 Axes>"
      ]
     },
     "metadata": {
      "needs_background": "light"
     },
     "output_type": "display_data"
    }
   ],
   "source": [
    "# summarize history for loss\n",
    "plt.plot(history.history['loss'][200:300])\n",
    "plt.title('model loss')\n",
    "plt.ylabel('loss')\n",
    "plt.xlabel('epoch')\n",
    "plt.show()\n",
    "\n"
   ]
  },
  {
   "cell_type": "markdown",
   "id": "5ed9148e",
   "metadata": {},
   "source": [
    "## m2"
   ]
  },
  {
   "cell_type": "code",
   "execution_count": 43,
   "id": "a97ad8d7",
   "metadata": {},
   "outputs": [],
   "source": [
    "m2 = Sequential(name=\"M2\")\n",
    "m2.add(Dense(50 , input_dim=22, activation=\"relu\",   name=\"layer1\"))\n",
    "m2.add(Dense(256, activation=\"relu\",   name=\"layer2\"))\n",
    "m2.add(Dense(1  , activation='linear', name=\"layer3\"))\n",
    "\n",
    "o1 = keras.optimizers.SGD(learning_rate=0.001, momentum=0.001)\n",
    "m2.compile(loss='mean_squared_error', optimizer=o1)\n",
    "m2.compile(optimizer = 'adam',loss='sparse_categorical_crossentropy',metrics =['accuracy'])"
   ]
  },
  {
   "cell_type": "code",
   "execution_count": 44,
   "id": "cd02171e",
   "metadata": {},
   "outputs": [
    {
     "data": {
      "text/plain": [
       "[0.0, 0.0]"
      ]
     },
     "execution_count": 44,
     "metadata": {},
     "output_type": "execute_result"
    }
   ],
   "source": [
    "# Fit the model\n",
    "history2 = m2.fit(X_train,y_train,epochs=50,shuffle=True,verbose=0)\n",
    "test_error_m2 = m2.evaluate(X_test, y_test, verbose=0)\n",
    "test_error_m2"
   ]
  },
  {
   "cell_type": "code",
   "execution_count": 45,
   "id": "0ccdf897",
   "metadata": {},
   "outputs": [
    {
     "data": {
      "image/png": "[encoded data removed]",
      "text/plain": [
       "<Figure size 432x288 with 1 Axes>"
      ]
     },
     "metadata": {
      "needs_background": "light"
     },
     "output_type": "display_data"
    }
   ],
   "source": [
    "# summarize history for loss\n",
    "plt.plot(history2.history['loss'])\n",
    "plt.title('model loss')\n",
    "plt.ylabel('loss')\n",
    "plt.xlabel('epoch')\n",
    "plt.show()\n",
    "\n"
   ]
  },
  {
   "cell_type": "markdown",
   "id": "cfbbf75e",
   "metadata": {},
   "source": [
    "## m3"
   ]
  },
  {
   "cell_type": "code",
   "execution_count": 46,
   "id": "3b0f4fb7",
   "metadata": {},
   "outputs": [],
   "source": [
    "m3 = Sequential(name=\"M3\")\n",
    "m3.add(Dense(50 , input_dim=22, activation=\"relu\",   name=\"layer1\"))\n",
    "m3.add(Dense(256, activation=\"relu\",   name=\"layer2\"))\n",
    "m3.add(Dense(64, activation=\"relu\",    name=\"layer3\"))\n",
    "m3.add(Dense(1  , activation='linear', name=\"layer4\"))\n",
    "\n",
    "o1 = keras.optimizers.Adam(learning_rate=0.001)\n",
    "m3.compile(loss='mean_squared_error', optimizer=o1)"
   ]
  },
  {
   "cell_type": "code",
   "execution_count": 47,
   "id": "e57f9225",
   "metadata": {},
   "outputs": [
    {
     "data": {
      "text/plain": [
       "1.2891168035633792e-05"
      ]
     },
     "execution_count": 47,
     "metadata": {},
     "output_type": "execute_result"
    }
   ],
   "source": [
    "# Fit the model\n",
    "history3 = m3.fit(X_train,y_train,epochs=200,shuffle=True,verbose=0)\n",
    "test_error_m3 = m3.evaluate(X_test, y_test, verbose=0)\n",
    "test_error_m3"
   ]
  },
  {
   "cell_type": "code",
   "execution_count": 48,
   "id": "bdd060cc",
   "metadata": {},
   "outputs": [
    {
     "data": {
      "image/png": "[encoded data removed]",
      "text/plain": [
       "<Figure size 432x288 with 1 Axes>"
      ]
     },
     "metadata": {
      "needs_background": "light"
     },
     "output_type": "display_data"
    }
   ],
   "source": [
    "# summarize history for loss\n",
    "plt.plot(history3.history['loss'])\n",
    "plt.title('model loss')\n",
    "plt.ylabel('loss')\n",
    "plt.xlabel('epoch')\n",
    "plt.show()\n",
    "\n"
   ]
  },
  {
   "cell_type": "markdown",
   "id": "df509b02",
   "metadata": {},
   "source": [
    "## m4 - same as paper "
   ]
  },
  {
   "cell_type": "code",
   "execution_count": 49,
   "id": "3852acc8",
   "metadata": {},
   "outputs": [],
   "source": [
    "m4 = Sequential(name=\"M4\")\n",
    "m4.add(Dense(4096 , input_dim=22, activation=\"relu\",   name=\"layer1\"))\n",
    "m4.add(Dense(256, activation=\"relu\",   name=\"layer2\"))\n",
    "m4.add(Dense(64,  activation=\"relu\",   name=\"layer3\"))\n",
    "m4.add(Dense(8  , activation='relu',   name=\"layer4\"))\n",
    "m4.add(Dense(1  , activation='linear', name=\"lastlayer\"))\n",
    "\n",
    "o1 = keras.optimizers.Adam(learning_rate=0.001)\n",
    "m4.compile(loss='mean_squared_error', optimizer=o1)"
   ]
  },
  {
   "cell_type": "code",
   "execution_count": 50,
   "id": "3cd618ca",
   "metadata": {},
   "outputs": [
    {
     "data": {
      "text/plain": [
       "1.4408209160989379e-05"
      ]
     },
     "execution_count": 50,
     "metadata": {},
     "output_type": "execute_result"
    }
   ],
   "source": [
    "# Fit the model\n",
    "history4 = m4.fit(X_train,y_train,epochs=200,shuffle=True,verbose=0)\n",
    "test_error_m4 = m4.evaluate(X_test, y_test, verbose=0)\n",
    "test_error_m4"
   ]
  },
  {
   "cell_type": "code",
   "execution_count": 51,
   "id": "1c11ff39",
   "metadata": {},
   "outputs": [
    {
     "data": {
      "image/png": "[encoded data removed]",
      "text/plain": [
       "<Figure size 432x288 with 1 Axes>"
      ]
     },
     "metadata": {
      "needs_background": "light"
     },
     "output_type": "display_data"
    }
   ],
   "source": [
    "# summarize history for loss\n",
    "plt.plot(history4.history['loss'])\n",
    "plt.title('model loss')\n",
    "plt.ylabel('loss')\n",
    "plt.xlabel('epoch')\n",
    "plt.show()\n"
   ]
  },
  {
   "cell_type": "markdown",
   "id": "d77cb145",
   "metadata": {},
   "source": [
    "## Random Forest model \n"
   ]
  },
  {
   "cell_type": "markdown",
   "id": "c4f1ea33",
   "metadata": {},
   "source": [
    "Random Sample"
   ]
  },
  {
   "cell_type": "code",
   "execution_count": 53,
   "id": "c5918b34",
   "metadata": {},
   "outputs": [
    {
     "data": {
      "text/plain": [
       "2.268657612321936e-05"
      ]
     },
     "execution_count": 53,
     "metadata": {},
     "output_type": "execute_result"
    }
   ],
   "source": [
    "regr = RandomForestRegressor(max_depth=3, random_state=0)\n",
    "r1   = regr.fit(X_train_no, y_train_no)\n",
    "pred = r1.predict(X_test_no)\n",
    "mean_squared_error(y_test_no, pred)"
   ]
  },
  {
   "cell_type": "code",
   "execution_count": 54,
   "id": "223f4416",
   "metadata": {},
   "outputs": [
    {
     "data": {
      "image/png": "[encoded data removed]",
      "text/plain": [
       "<Figure size 432x288 with 1 Axes>"
      ]
     },
     "metadata": {
      "needs_background": "light"
     },
     "output_type": "display_data"
    }
   ],
   "source": [
    "plt.barh(X_test_no.columns,r1.feature_importances_)\n",
    "plt.show()"
   ]
  },
  {
   "cell_type": "markdown",
   "id": "74ec2a2d",
   "metadata": {},
   "source": [
    "Stratified Sample"
   ]
  },
  {
   "cell_type": "code",
   "execution_count": 55,
   "id": "9426f754",
   "metadata": {},
   "outputs": [
    {
     "data": {
      "text/plain": [
       "2.4019638533420906e-05"
      ]
     },
     "execution_count": 55,
     "metadata": {},
     "output_type": "execute_result"
    }
   ],
   "source": [
    "regr = RandomForestRegressor(max_depth=3, random_state=0)\n",
    "r1   = regr.fit(X_train, y_train)\n",
    "pred = r1.predict(X_test)\n",
    "mean_squared_error(y_test, pred)"
   ]
  },
  {
   "cell_type": "code",
   "execution_count": 56,
   "id": "74668e2d",
   "metadata": {},
   "outputs": [
    {
     "data": {
      "image/png": "[encoded data removed]",
      "text/plain": [
       "<Figure size 432x288 with 1 Axes>"
      ]
     },
     "metadata": {
      "needs_background": "light"
     },
     "output_type": "display_data"
    }
   ],
   "source": [
    "plt.barh(X_test.columns,r1.feature_importances_)\n",
    "plt.show()"
   ]
  },
  {
   "cell_type": "markdown",
   "id": "cf806581",
   "metadata": {},
   "source": [
    "### Simple Lineal Regression Model "
   ]
  },
  {
   "cell_type": "code",
   "execution_count": 57,
   "id": "bab21b83",
   "metadata": {},
   "outputs": [
    {
     "data": {
      "text/plain": [
       "7.4096299026341494e-06"
      ]
     },
     "execution_count": 57,
     "metadata": {},
     "output_type": "execute_result"
    }
   ],
   "source": [
    "lin_r = linear_model.LinearRegression()\n",
    "lm1 = lin_r.fit(X_train,y_train)\n",
    "pred = lm1.predict(X_test)\n",
    "mean_squared_error(y_test, pred)\n"
   ]
  },
  {
   "cell_type": "markdown",
   "id": "d595b409",
   "metadata": {},
   "source": [
    "Using Forward Selection in R I narrowed the X to less predictors: "
   ]
  },
  {
   "cell_type": "code",
   "execution_count": 58,
   "id": "4a752ef8",
   "metadata": {},
   "outputs": [
    {
     "data": {
      "text/plain": [
       "7.40164417755647e-06"
      ]
     },
     "execution_count": 58,
     "metadata": {},
     "output_type": "execute_result"
    }
   ],
   "source": [
    "narrow_X =['reference_mass_ratio','reference_chi_eff','reference_chi1_perp','reference_chi2_perp','reference_mass1',\n",
    "           'reference_dimensionless_spin1_3','reference_dimensionless_spin2_3','notspinning','s1','s2','eta','seff']\n",
    "\n",
    "\n",
    "lin_r = linear_model.LinearRegression()\n",
    "lm1 = lin_r.fit(X_train[narrow_X],y_train)\n",
    "pred = lm1.predict(X_test[narrow_X])\n",
    "mean_squared_error(y_test, pred)"
   ]
  },
  {
   "cell_type": "code",
   "execution_count": 59,
   "id": "444c760c",
   "metadata": {},
   "outputs": [
    {
     "data": {
      "text/plain": [
       "12"
      ]
     },
     "execution_count": 59,
     "metadata": {},
     "output_type": "execute_result"
    }
   ],
   "source": [
    "len(narrow_X)"
   ]
  },
  {
   "cell_type": "markdown",
   "id": "f9d78dd2",
   "metadata": {},
   "source": [
    "### Simple Gradient Boost Regression Model "
   ]
  },
  {
   "cell_type": "markdown",
   "id": "7ba33daa",
   "metadata": {},
   "source": [
    "Stratified"
   ]
  },
  {
   "cell_type": "code",
   "execution_count": 60,
   "id": "5506a61e",
   "metadata": {},
   "outputs": [
    {
     "data": {
      "text/plain": [
       "1.6866868097235336e-06"
      ]
     },
     "execution_count": 60,
     "metadata": {},
     "output_type": "execute_result"
    }
   ],
   "source": [
    "params = {\n",
    "    \"n_estimators\": 500,\n",
    "    \"max_depth\": 4,\n",
    "    \"min_samples_split\": 5,\n",
    "    \"learning_rate\": 0.01\n",
    "}\n",
    "\n",
    "boostreg = ensemble.GradientBoostingRegressor(**params)\n",
    "br1 = boostreg.fit(X_train, y_train)\n",
    "pred = br1.predict(X_test)\n",
    "mean_squared_error(y_test, pred)"
   ]
  },
  {
   "cell_type": "code",
   "execution_count": null,
   "id": "ec33643d",
   "metadata": {},
   "outputs": [],
   "source": [
    "plt.barh(X_test.columns,br1.feature_importances_)\n",
    "plt.show()"
   ]
  },
  {
   "cell_type": "markdown",
   "id": "a71297f2",
   "metadata": {},
   "source": [
    "Stratified with other params"
   ]
  },
  {
   "cell_type": "code",
   "execution_count": 82,
   "id": "380388a7",
   "metadata": {},
   "outputs": [
    {
     "data": {
      "text/plain": [
       "1.197864156311432e-06"
      ]
     },
     "execution_count": 82,
     "metadata": {},
     "output_type": "execute_result"
    }
   ],
   "source": [
    "params = {\n",
    "    \"n_estimators\": 500,\n",
    "    \"max_depth\": 4,\n",
    "    \"min_samples_split\": 2,\n",
    "    \"learning_rate\": 0.03\n",
    "}\n",
    "\n",
    "boostreg = ensemble.GradientBoostingRegressor(**params)\n",
    "br1 = boostreg.fit(X_train_no, y_train_no)\n",
    "pred = br1.predict(X_test_no)\n",
    "mean_squared_error(y_test_no, pred)"
   ]
  },
  {
   "cell_type": "markdown",
   "id": "4d2c4f00",
   "metadata": {},
   "source": [
    "Random Sample"
   ]
  },
  {
   "cell_type": "code",
   "execution_count": 67,
   "id": "c80803fe",
   "metadata": {},
   "outputs": [
    {
     "data": {
      "text/plain": [
       "1.535619014001719e-06"
      ]
     },
     "execution_count": 67,
     "metadata": {},
     "output_type": "execute_result"
    }
   ],
   "source": [
    "params = {\n",
    "    \"n_estimators\": 500,\n",
    "    \"max_depth\": 4,\n",
    "    \"min_samples_split\": 5,\n",
    "    \"learning_rate\": 0.01\n",
    "}\n",
    "\n",
    "boostreg = ensemble.GradientBoostingRegressor(**params)\n",
    "br1 = boostreg.fit(X_train_no, y_train_no)\n",
    "pred = br1.predict(X_test_no)\n",
    "mean_squared_error(y_test_no, pred)"
   ]
  },
  {
   "cell_type": "markdown",
   "id": "bbd29210",
   "metadata": {},
   "source": [
    "Random Sample with other params"
   ]
  },
  {
   "cell_type": "code",
   "execution_count": 67,
   "id": "fbb8d355",
   "metadata": {},
   "outputs": [
    {
     "data": {
      "text/plain": [
       "1.535619014001719e-06"
      ]
     },
     "execution_count": 67,
     "metadata": {},
     "output_type": "execute_result"
    }
   ],
   "source": [
    "params = {\n",
    "    \"n_estimators\": 500,\n",
    "    \"max_depth\": 4,\n",
    "    \"min_samples_split\": 5,\n",
    "    \"learning_rate\": 0.03\n",
    "}\n",
    "\n",
    "boostreg = ensemble.GradientBoostingRegressor(**params)\n",
    "br1 = boostreg.fit(X_train_no, y_train_no)\n",
    "pred = br1.predict(X_test_no)\n",
    "mean_squared_error(y_test_no, pred)"
   ]
  },
  {
   "cell_type": "code",
   "execution_count": 83,
   "id": "ee4fe0aa",
   "metadata": {},
   "outputs": [
    {
     "data": {
      "text/plain": [
       "1.1956933570185492e-06"
      ]
     },
     "execution_count": 83,
     "metadata": {},
     "output_type": "execute_result"
    }
   ],
   "source": [
    "params = {\n",
    "    \"n_estimators\": 500,\n",
    "    \"max_depth\": 4,\n",
    "    \"min_samples_split\": 2,\n",
    "    \"learning_rate\": 0.03\n",
    "}\n",
    "\n",
    "boostreg = ensemble.GradientBoostingRegressor(**params)\n",
    "br1 = boostreg.fit(X_train_no, y_train_no)\n",
    "pred = br1.predict(X_test_no)\n",
    "mean_squared_error(y_test_no, pred)"
   ]
  },
  {
   "cell_type": "markdown",
   "id": "8bc2572f",
   "metadata": {},
   "source": [
    "### Simple Gradient Boost Regression Model with Grid Search \n"
   ]
  },
  {
   "cell_type": "code",
   "execution_count": 71,
   "id": "ad7499e1",
   "metadata": {},
   "outputs": [],
   "source": [
    "param_grid = {\n",
    "    \"n_estimators\": [100,300,500,600],\n",
    "    \"max_depth\": [2,3,4],\n",
    "    \"min_samples_split\": [2,5,8],\n",
    "    \"learning_rate\": [0.001,0.01,0.03]\n",
    "}"
   ]
  },
  {
   "cell_type": "code",
   "execution_count": 72,
   "id": "2631b8ee",
   "metadata": {},
   "outputs": [
    {
     "data": {
      "text/plain": [
       "GridSearchCV(estimator=GradientBoostingRegressor(learning_rate=0.01,\n",
       "                                                 max_depth=4,\n",
       "                                                 min_samples_split=5,\n",
       "                                                 n_estimators=500),\n",
       "             n_jobs=-1,\n",
       "             param_grid={'learning_rate': [0.001, 0.01, 0.03],\n",
       "                         'max_depth': [2, 3, 4], 'min_samples_split': [2, 5, 8],\n",
       "                         'n_estimators': [100, 300, 500, 600]})"
      ]
     },
     "execution_count": 72,
     "metadata": {},
     "output_type": "execute_result"
    }
   ],
   "source": [
    "search = GridSearchCV(boostreg, param_grid, n_jobs=-1)\n",
    "search.fit(X_train, y_train)\n"
   ]
  },
  {
   "cell_type": "code",
   "execution_count": 80,
   "id": "b7e60328",
   "metadata": {},
   "outputs": [
    {
     "data": {
      "text/plain": [
       "{'learning_rate': 0.03,\n",
       " 'max_depth': 4,\n",
       " 'min_samples_split': 2,\n",
       " 'n_estimators': 500}"
      ]
     },
     "execution_count": 80,
     "metadata": {},
     "output_type": "execute_result"
    }
   ],
   "source": [
    "search.best_params_   "
   ]
  },
  {
   "cell_type": "code",
   "execution_count": 73,
   "id": "18025f7e",
   "metadata": {},
   "outputs": [
    {
     "data": {
      "text/plain": [
       "0.9921550904208957"
      ]
     },
     "execution_count": 73,
     "metadata": {},
     "output_type": "execute_result"
    }
   ],
   "source": [
    "search.best_score_   "
   ]
  },
  {
   "cell_type": "code",
   "execution_count": null,
   "id": "a6853ad8",
   "metadata": {},
   "outputs": [],
   "source": [
    "pred = search.predict(X_test_no)\n",
    "mean_squared_error(y_test_no, pred)"
   ]
  },
  {
   "cell_type": "markdown",
   "id": "bdf52888",
   "metadata": {},
   "source": [
    "### Support Vector Regression "
   ]
  },
  {
   "cell_type": "code",
   "execution_count": 75,
   "id": "835e1af4",
   "metadata": {},
   "outputs": [],
   "source": [
    "from sklearn.svm import SVR\n",
    "import numpy as np"
   ]
  },
  {
   "cell_type": "code",
   "execution_count": 77,
   "id": "c2d86223",
   "metadata": {},
   "outputs": [
    {
     "data": {
      "text/plain": [
       "GridSearchCV(estimator=SVR(),\n",
       "             param_grid={'C': [1.5, 4, 10], 'epsilon': [0.1, 0.2, 0.5, 0.3],\n",
       "                         'gamma': [1e-07, 0.0001],\n",
       "                         'kernel': ('linear', 'rbf', 'poly')})"
      ]
     },
     "execution_count": 77,
     "metadata": {},
     "output_type": "execute_result"
    }
   ],
   "source": [
    "parameters = {'kernel': ('linear', 'rbf','poly'), 'C':[1.5,4, 10],'gamma': [1e-7, 1e-4],'epsilon':[0.1,0.2,0.5,0.3]}\n",
    "svr = SVR()\n",
    "clf = GridSearchCV(svr, parameters)\n",
    "clf.fit(X_train, y_train)\n"
   ]
  },
  {
   "cell_type": "code",
   "execution_count": 78,
   "id": "99e0a0be",
   "metadata": {},
   "outputs": [
    {
     "data": {
      "text/plain": [
       "-2.2210188552642576"
      ]
     },
     "execution_count": 78,
     "metadata": {},
     "output_type": "execute_result"
    }
   ],
   "source": [
    "clf.best_score_\n"
   ]
  },
  {
   "cell_type": "code",
   "execution_count": 79,
   "id": "54f4200b",
   "metadata": {},
   "outputs": [
    {
     "data": {
      "text/plain": [
       "{'C': 1.5, 'epsilon': 0.5, 'gamma': 1e-07, 'kernel': 'linear'}"
      ]
     },
     "execution_count": 79,
     "metadata": {},
     "output_type": "execute_result"
    }
   ],
   "source": [
    "clf.best_params_"
   ]
  },
  {
   "cell_type": "code",
   "execution_count": 84,
   "id": "fc864917",
   "metadata": {},
   "outputs": [
    {
     "data": {
      "text/plain": [
       "SVR(C=1.5, epsilon=0.5, gamma=1e-07, kernel='linear')"
      ]
     },
     "execution_count": 84,
     "metadata": {},
     "output_type": "execute_result"
    }
   ],
   "source": [
    "svr = SVR(C= 1.5, epsilon= 0.5, gamma= 1e-07,  kernel='linear')\n",
    "svr.fit(X_train, y_train)"
   ]
  },
  {
   "cell_type": "code",
   "execution_count": 85,
   "id": "77d04e19",
   "metadata": {},
   "outputs": [
    {
     "data": {
      "text/plain": [
       "0.0007071877101000388"
      ]
     },
     "execution_count": 85,
     "metadata": {},
     "output_type": "execute_result"
    }
   ],
   "source": [
    "pred = svr.predict(X_test)\n",
    "mean_squared_error(y_test, pred)"
   ]
  },
  {
   "cell_type": "code",
   "execution_count": null,
   "id": "63863923",
   "metadata": {},
   "outputs": [],
   "source": []
  }
 ],
 "metadata": {
  "kernelspec": {
   "display_name": "Python 3",
   "language": "python",
   "name": "python3"
  },
  "language_info": {
   "codemirror_mode": {
    "name": "ipython",
    "version": 3
   },
   "file_extension": ".py",
   "mimetype": "text/x-python",
   "name": "python",
   "nbconvert_exporter": "python",
   "pygments_lexer": "ipython3",
   "version": "3.6.13"
  }
 },
 "nbformat": 4,
 "nbformat_minor": 5
}
