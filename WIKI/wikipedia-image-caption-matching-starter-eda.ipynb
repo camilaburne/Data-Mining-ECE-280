{
 "cells": [
  {
   "cell_type": "markdown",
   "metadata": {},
   "source": [
    "# Wikipedia - Image/Caption Matching\n",
    "## Retrieve captions based on images\n",
    "\n",
    "\n",
    "<br>\n",
    "\n",
    "### Description\n",
    "\n",
    "A picture is worth a thousand words, yet sometimes a few will do. We all rely on online images for knowledge sharing, learning, and understanding. Even the largest websites are missing visual content and metadata to pair with their images. Captions and “alt text” increase accessibility and enable better search. The majority of images on Wikipedia articles, for example, don't have any written context connected to the image. Open models could help anyone improve accessibility and learning for all.\n",
    "\n",
    "Current solutions rely on simple methods based on translations or page interlinks, which have limited coverage. Even the most advanced computer vision image captioning isn't suitable for images with complex semantics.\n",
    "\n",
    "\n",
    "### Data\n",
    "\n",
    "The objective of this competition is to predict the target caption_title_and_reference_description given information about an images. The targets for this competition are in multiple languages.\n",
    "\n",
    "I'll focus on English language only. \n",
    "\n",
    "#### Files\n",
    "- `train-{0000x}-of-00005.tsv` - the training data (tab delimited)\n",
    "- `test.tsv` - the test data; the objective is to predict the target **caption_title_and_reference_description** for each row id\n",
    "- `sample_submission.csv` - a sample submission file in the correct format; note that multiple predictions (up to 5) are allowed for each id in the test data.\n",
    "- image_data_test/\n",
    "    - image_pixels/`test_image_pixels_part-{0000x}.csv.gz`\n",
    "        - image_url: url to the original image file, e.g. https://upload.wikimedia.org/wikipedia/commons/e/ec/Hovden.jpg\n",
    "        - b64_bytes: base64 encoded bytes of the image file at a 300px resolution\n",
    "        - metadata_url: url to the commons page of the image, e.g. https://commons.wikimedia.org/wiki/File:Hovden.jpg\n",
    "    - resnet_embeddings/`test_resnet_embeddings_part-{0000x}.csv.gz`\n",
    "        - image_url: url to the original image file, e.g. https://upload.wikimedia.org/wikipedia/commons/e/ec/Hovden.jpg\n",
    "        - embedding: a comma separated list of 2048 float values\n",
    "- image_data_train - Due to the size of the training image data (~275 Gb), it is hosted separately and can be found here. Note that not all of the training observations have corresponding image data.\n",
    "\n",
    "<code> kaggle competitions download -c wikipedia-image-caption </code>\n",
    "\n",
    "### Submission\n",
    "\n",
    "Submissions will be evaluated using NDCG@5 ([Normalized Discounted Cumulative Gain](https://en.wikipedia.org/wiki/Discounted_cumulative_gain)).\n",
    "\n",
    "The submission should be a list of id,caption_title_and_reference_description pairs ranked from top to bottom according to their relevance (i.e., the top id is the most relevant caption_title_and_reference_description), with up to 5 predictions per id. Each line should be a single id,caption_title_and_reference_description pair.\n",
    "\n",
    "\n",
    "### Models that can be used: \n",
    "[Kaggle notebook with examples of these models](https://www.kaggle.com/shivamb/cnn-architectures-vgg-resnet-inception-tl)\n",
    "\n",
    "**VGG16**\n",
    "- VGG16 was publised in 2014 and is one of the simplest (among the other cnn architectures used in Imagenet competition). It's Key Characteristics are:\n",
    "    - This network contains total 16 layers in which weights and bias parameters are learnt.\n",
    "    - A total of 13 convolutional layers are stacked one after the other and 3 dense layers for classification.\n",
    "    - The number of filters in the convolution layers follow an increasing pattern (similar to decoder architecture of autoencoder).\n",
    "    - The informative features are obtained by max pooling layers applied at different steps in the architecture.\n",
    "    - The dense layers comprises of 4096, 4096, and 1000 nodes each.\n",
    "    - The cons of this architecture are that it is slow to train and produces the model with very large size.\n",
    "\n",
    "**ResNet 50**\n",
    "   - Convolutional neural network that is 50 layers deep. You can load a pretrained version of the network trained on more than a million images from the ImageNet database [1]. The pretrained network can classify images into 1000 object categories, such as keyboard, mouse, pencil, and many animals. As a result, the network has learned rich feature representations for a wide range of images. The network has an image input size of 224-by-224.\n",
    "\n",
    "\n",
    "### Prizes\n",
    "\n",
    "The top three winning teams will receive Wikipedia-branded merchandise"
   ]
  },
  {
   "cell_type": "code",
   "execution_count": 26,
   "metadata": {
    "execution": {
     "iopub.execute_input": "2021-09-14T07:40:39.253004Z",
     "iopub.status.busy": "2021-09-14T07:40:39.252588Z",
     "iopub.status.idle": "2021-09-14T07:40:40.133960Z",
     "shell.execute_reply": "2021-09-14T07:40:40.133187Z",
     "shell.execute_reply.started": "2021-09-14T07:40:39.252876Z"
    }
   },
   "outputs": [],
   "source": [
    "import os\n",
    "import requests\n",
    "\n",
    "# General packages\n",
    "import pandas as pd\n",
    "import numpy as np\n",
    "import matplotlib\n",
    "import matplotlib.pyplot as plt\n",
    "import plotly.graph_objs as go\n",
    "import plotly.express as px\n",
    "import PIL.Image\n",
    "import base64 \n",
    "import io\n",
    "\n",
    "from IPython.display import Image, display\n",
    "import warnings\n",
    "warnings.filterwarnings(\"ignore\")"
   ]
  },
  {
   "cell_type": "code",
   "execution_count": 5,
   "metadata": {},
   "outputs": [
    {
     "data": {
      "text/plain": [
       "['.DS_Store',\n",
       " 'test_image_pixels_part-00000.csv',\n",
       " 'test.tsv',\n",
       " 'test_caption_list.csv',\n",
       " 'zips',\n",
       " 'test_resnet_embeddings_part-00000.csv',\n",
       " 'train-00000-of-00005.tsv',\n",
       " 'sample_submission.csv']"
      ]
     },
     "execution_count": 5,
     "metadata": {},
     "output_type": "execute_result"
    }
   ],
   "source": [
    "os.listdir('Data')"
   ]
  },
  {
   "cell_type": "markdown",
   "metadata": {},
   "source": [
    "### Submission Data\n",
    "\n",
    "Let's start with sample submission. We have an id column and caption_title_and_reference_description column, and for each id we predict 5 captions. We need to select them from a predefined set of captions we'll see next."
   ]
  },
  {
   "cell_type": "code",
   "execution_count": 11,
   "metadata": {
    "execution": {
     "iopub.execute_input": "2021-09-14T07:40:44.204421Z",
     "iopub.status.busy": "2021-09-14T07:40:44.204199Z",
     "iopub.status.idle": "2021-09-14T07:40:44.593526Z",
     "shell.execute_reply": "2021-09-14T07:40:44.592747Z",
     "shell.execute_reply.started": "2021-09-14T07:40:44.204395Z"
    }
   },
   "outputs": [],
   "source": [
    "sub = pd.read_csv('Data/sample_submission.csv')"
   ]
  },
  {
   "cell_type": "code",
   "execution_count": 21,
   "metadata": {},
   "outputs": [
    {
     "data": {
      "text/plain": [
       "(461830, 2)"
      ]
     },
     "execution_count": 21,
     "metadata": {},
     "output_type": "execute_result"
    }
   ],
   "source": [
    "sub.shape\n"
   ]
  },
  {
   "cell_type": "code",
   "execution_count": 23,
   "metadata": {},
   "outputs": [
    {
     "data": {
      "text/html": [
       "<div>\n",
       "<style scoped>\n",
       "    .dataframe tbody tr th:only-of-type {\n",
       "        vertical-align: middle;\n",
       "    }\n",
       "\n",
       "    .dataframe tbody tr th {\n",
       "        vertical-align: top;\n",
       "    }\n",
       "\n",
       "    .dataframe thead th {\n",
       "        text-align: right;\n",
       "    }\n",
       "</style>\n",
       "<table border=\"1\" class=\"dataframe\">\n",
       "  <thead>\n",
       "    <tr style=\"text-align: right;\">\n",
       "      <th></th>\n",
       "      <th>id</th>\n",
       "      <th>caption_title_and_reference_description</th>\n",
       "    </tr>\n",
       "  </thead>\n",
       "  <tbody>\n",
       "    <tr>\n",
       "      <th>0</th>\n",
       "      <td>0</td>\n",
       "      <td>diam in ve ligula a sapien mattis a a</td>\n",
       "    </tr>\n",
       "    <tr>\n",
       "      <th>1</th>\n",
       "      <td>0</td>\n",
       "      <td>nisi ut eu</td>\n",
       "    </tr>\n",
       "    <tr>\n",
       "      <th>2</th>\n",
       "      <td>0</td>\n",
       "      <td>urna ad a duis a ligula dis ve</td>\n",
       "    </tr>\n",
       "    <tr>\n",
       "      <th>3</th>\n",
       "      <td>0</td>\n",
       "      <td>eros eu a vel congue ac et justo sapien</td>\n",
       "    </tr>\n",
       "    <tr>\n",
       "      <th>4</th>\n",
       "      <td>0</td>\n",
       "      <td>diam mi a mi nec a leo sed ornare magna mus se...</td>\n",
       "    </tr>\n",
       "    <tr>\n",
       "      <th>5</th>\n",
       "      <td>1</td>\n",
       "      <td>eros ad a magnis elit ad a in a</td>\n",
       "    </tr>\n",
       "    <tr>\n",
       "      <th>6</th>\n",
       "      <td>1</td>\n",
       "      <td>amet ut a a</td>\n",
       "    </tr>\n",
       "    <tr>\n",
       "      <th>7</th>\n",
       "      <td>1</td>\n",
       "      <td>pede ad</td>\n",
       "    </tr>\n",
       "    <tr>\n",
       "      <th>8</th>\n",
       "      <td>1</td>\n",
       "      <td>nisi eu ut est sapien felis id felis</td>\n",
       "    </tr>\n",
       "    <tr>\n",
       "      <th>9</th>\n",
       "      <td>1</td>\n",
       "      <td>nisl ac a eu a primis integer nih a</td>\n",
       "    </tr>\n",
       "  </tbody>\n",
       "</table>\n",
       "</div>"
      ],
      "text/plain": [
       "   id            caption_title_and_reference_description\n",
       "0   0              diam in ve ligula a sapien mattis a a\n",
       "1   0                                         nisi ut eu\n",
       "2   0                     urna ad a duis a ligula dis ve\n",
       "3   0            eros eu a vel congue ac et justo sapien\n",
       "4   0  diam mi a mi nec a leo sed ornare magna mus se...\n",
       "5   1                    eros ad a magnis elit ad a in a\n",
       "6   1                                        amet ut a a\n",
       "7   1                                            pede ad\n",
       "8   1               nisi eu ut est sapien felis id felis\n",
       "9   1                nisl ac a eu a primis integer nih a"
      ]
     },
     "execution_count": 23,
     "metadata": {},
     "output_type": "execute_result"
    }
   ],
   "source": [
    "sub.head(10)\n"
   ]
  },
  {
   "cell_type": "markdown",
   "metadata": {},
   "source": [
    "### Test Data\n",
    "\n",
    "There are two \"test files\" \n",
    "- test.tsv - the test data; the objective is to predict the target caption_title_and_reference_description for each row id\n",
    "- test_captions_list.csv - a list of captions to retrieve for test predictions"
   ]
  },
  {
   "cell_type": "code",
   "execution_count": 77,
   "metadata": {},
   "outputs": [],
   "source": [
    "test      = pd.read_csv('Data/test.tsv', sep='\\t')\n",
    "test_cap  = pd.read_csv('Data/test_caption_list.csv')"
   ]
  },
  {
   "cell_type": "code",
   "execution_count": 79,
   "metadata": {},
   "outputs": [
    {
     "name": "stdout",
     "output_type": "stream",
     "text": [
      "test_file (92366, 2)\n",
      "test_cap (92366, 1)\n"
     ]
    }
   ],
   "source": [
    "print('test_file', test.shape)\n",
    "print('test_cap', test_cap.shape)"
   ]
  },
  {
   "cell_type": "markdown",
   "metadata": {},
   "source": [
    "## Train data"
   ]
  },
  {
   "cell_type": "code",
   "execution_count": 44,
   "metadata": {},
   "outputs": [],
   "source": [
    "test0 = pd.read_csv('Data/test_image_pixels_part-00000.csv', sep='\\t', names=['image_url', 'b64_bytes', 'metadata_url'])"
   ]
  },
  {
   "cell_type": "code",
   "execution_count": 45,
   "metadata": {},
   "outputs": [
    {
     "data": {
      "text/plain": [
       "(8952, 3)"
      ]
     },
     "execution_count": 45,
     "metadata": {},
     "output_type": "execute_result"
    }
   ],
   "source": [
    "test0.shape"
   ]
  },
  {
   "cell_type": "code",
   "execution_count": 46,
   "metadata": {},
   "outputs": [
    {
     "data": {
      "text/html": [
       "<div>\n",
       "<style scoped>\n",
       "    .dataframe tbody tr th:only-of-type {\n",
       "        vertical-align: middle;\n",
       "    }\n",
       "\n",
       "    .dataframe tbody tr th {\n",
       "        vertical-align: top;\n",
       "    }\n",
       "\n",
       "    .dataframe thead th {\n",
       "        text-align: right;\n",
       "    }\n",
       "</style>\n",
       "<table border=\"1\" class=\"dataframe\">\n",
       "  <thead>\n",
       "    <tr style=\"text-align: right;\">\n",
       "      <th></th>\n",
       "      <th>image_url</th>\n",
       "      <th>b64_bytes</th>\n",
       "      <th>metadata_url</th>\n",
       "    </tr>\n",
       "  </thead>\n",
       "  <tbody>\n",
       "    <tr>\n",
       "      <th>0</th>\n",
       "      <td>http://upload.wikimedia.org/wikipedia/commons/...</td>\n",
       "      <td>/9j/4AAQSkZJRgABAQEASABIAAD//gBbRmlsZSBzb3VyY2...</td>\n",
       "      <td>http://commons.wikimedia.org/wiki/File:Dodge_C...</td>\n",
       "    </tr>\n",
       "    <tr>\n",
       "      <th>1</th>\n",
       "      <td>https://upload.wikimedia.org/wikipedia/commons...</td>\n",
       "      <td>/9j/4QB+RXhpZgAATU0AKgAAAAgABgEOAAIAAAAKAAAAVg...</td>\n",
       "      <td>http://commons.wikimedia.org/wiki/File:Granada...</td>\n",
       "    </tr>\n",
       "  </tbody>\n",
       "</table>\n",
       "</div>"
      ],
      "text/plain": [
       "                                           image_url  \\\n",
       "0  http://upload.wikimedia.org/wikipedia/commons/...   \n",
       "1  https://upload.wikimedia.org/wikipedia/commons...   \n",
       "\n",
       "                                           b64_bytes  \\\n",
       "0  /9j/4AAQSkZJRgABAQEASABIAAD//gBbRmlsZSBzb3VyY2...   \n",
       "1  /9j/4QB+RXhpZgAATU0AKgAAAAgABgEOAAIAAAAKAAAAVg...   \n",
       "\n",
       "                                        metadata_url  \n",
       "0  http://commons.wikimedia.org/wiki/File:Dodge_C...  \n",
       "1  http://commons.wikimedia.org/wiki/File:Granada...  "
      ]
     },
     "execution_count": 46,
     "metadata": {},
     "output_type": "execute_result"
    }
   ],
   "source": [
    "test0.head(2)"
   ]
  },
  {
   "cell_type": "code",
   "execution_count": 43,
   "metadata": {},
   "outputs": [],
   "source": [
    "for i in range(0,5):\n",
    "    image_64_decode = base64.b64decode(test0['b64_bytes'].loc[i])\n",
    "    img = PIL.Image.open(io.BytesIO(image_64_decode))\n",
    "    img.show() "
   ]
  },
  {
   "cell_type": "code",
   "execution_count": 48,
   "metadata": {
    "scrolled": true
   },
   "outputs": [
    {
     "data": {
      "text/html": [
       "<style type='text/css'>\n",
       ".datatable table.frame { margin-bottom: 0; }\n",
       ".datatable table.frame thead { border-bottom: none; }\n",
       ".datatable table.frame tr.coltypes td {  color: #FFFFFF;  line-height: 6px;  padding: 0 0.5em;}\n",
       ".datatable .bool    { background: #DDDD99; }\n",
       ".datatable .object  { background: #565656; }\n",
       ".datatable .int     { background: #5D9E5D; }\n",
       ".datatable .float   { background: #4040CC; }\n",
       ".datatable .str     { background: #CC4040; }\n",
       ".datatable .time    { background: #40CC40; }\n",
       ".datatable .row_index {  background: var(--jp-border-color3);  border-right: 1px solid var(--jp-border-color0);  color: var(--jp-ui-font-color3);  font-size: 9px;}\n",
       ".datatable .frame tbody td { text-align: left; }\n",
       ".datatable .frame tr.coltypes .row_index {  background: var(--jp-border-color0);}\n",
       ".datatable th:nth-child(2) { padding-left: 12px; }\n",
       ".datatable .hellipsis {  color: var(--jp-cell-editor-border-color);}\n",
       ".datatable .vellipsis {  background: var(--jp-layout-color0);  color: var(--jp-cell-editor-border-color);}\n",
       ".datatable .na {  color: var(--jp-cell-editor-border-color);  font-size: 80%;}\n",
       ".datatable .sp {  opacity: 0.25;}\n",
       ".datatable .footer { font-size: 9px; }\n",
       ".datatable .frame_dimensions {  background: var(--jp-border-color3);  border-top: 1px solid var(--jp-border-color0);  color: var(--jp-ui-font-color3);  display: inline-block;  opacity: 0.6;  padding: 1px 10px 1px 5px;}\n",
       "</style>\n"
      ],
      "text/plain": [
       "<IPython.core.display.HTML object>"
      ]
     },
     "metadata": {},
     "output_type": "display_data"
    },
    {
     "data": {
      "text/html": [
       "<div class='datatable'>\n",
       "  <table class='frame'>\n",
       "  <thead>\n",
       "    <tr class='colnames'><td class='row_index'></td><th>language</th><th>page_url</th><th>image_url</th><th>page_title</th><th>section_title</th><th>hierarchical_section_title</th><th>caption_reference_description</th><th>caption_attribution_description</th><th>caption_alt_text_description</th><th>mime_type</th><th class='vellipsis'>&hellip;</th><th>attribution_passes_lang_id</th><th>page_changed_recently</th><th>context_page_description</th><th>context_section_description</th><th>caption_title_and_reference_description</th></tr>\n",
       "    <tr class='coltypes'><td class='row_index'></td><td class='str' title='str32'>&#x25AA;&#x25AA;&#x25AA;&#x25AA;</td><td class='str' title='str32'>&#x25AA;&#x25AA;&#x25AA;&#x25AA;</td><td class='str' title='str32'>&#x25AA;&#x25AA;&#x25AA;&#x25AA;</td><td class='str' title='str32'>&#x25AA;&#x25AA;&#x25AA;&#x25AA;</td><td class='str' title='str32'>&#x25AA;&#x25AA;&#x25AA;&#x25AA;</td><td class='str' title='str32'>&#x25AA;&#x25AA;&#x25AA;&#x25AA;</td><td class='str' title='str32'>&#x25AA;&#x25AA;&#x25AA;&#x25AA;</td><td class='str' title='str32'>&#x25AA;&#x25AA;&#x25AA;&#x25AA;</td><td class='str' title='str32'>&#x25AA;&#x25AA;&#x25AA;&#x25AA;</td><td class='str' title='str32'>&#x25AA;&#x25AA;&#x25AA;&#x25AA;</td><td></td><td class='bool' title='bool8'>&#x25AA;</td><td class='bool' title='bool8'>&#x25AA;</td><td class='str' title='str64'>&#x25AA;&#x25AA;&#x25AA;&#x25AA;&#x25AA;&#x25AA;&#x25AA;&#x25AA;</td><td class='str' title='str64'>&#x25AA;&#x25AA;&#x25AA;&#x25AA;&#x25AA;&#x25AA;&#x25AA;&#x25AA;</td><td class='str' title='str32'>&#x25AA;&#x25AA;&#x25AA;&#x25AA;</td></tr>\n",
       "  </thead>\n",
       "  <tbody>\n",
       "    <tr><td class='row_index'>0</td><td>fr</td><td>https://fr.wikipedia.org/wiki/Pariser_Kanonen</td><td>https://upload.wikimedia.org/wikipedia/commons/8/8&#133;</td><td>Pariser Kanonen</td><td>Bilan</td><td>Pariser Kanonen / Bilan</td><td></td><td>Français&amp;#160;: Plaque apposée au n° 81 du bouleva&#133;</td><td></td><td>image/jpeg</td><td class=vellipsis>&hellip;</td><td>1</td><td>1</td><td>Les Pariser Kanonen sont sept pièces d’artillerie &#133;</td><td>Le ou les canons restants sont démontés devant la &#133;</td><td>Pariser Kanonen [SEP]</td></tr>\n",
       "    <tr><td class='row_index'>1</td><td>tg</td><td>https://tg.wikipedia.org/wiki/Republic_P-43_Lancer</td><td>http://upload.wikimedia.org/wikipedia/commons/c/c4&#133;</td><td>Republic P-43 Lancer</td><td></td><td>Republic P-43 Lancer</td><td></td><td>A Republic P-43 Lancer in flight over Esler Field,&#133;</td><td></td><td>image/jpeg</td><td class=vellipsis>&hellip;</td><td>0</td><td>0</td><td>Republic P-43 Lancer — як ҳавогарди сохтаи Republi&#133;</td><td>Republic P-43 Lancer (англ. Republic P-43 Lancer) &#133;</td><td>Republic P-43 Lancer [SEP]</td></tr>\n",
       "    <tr><td class='row_index'>2</td><td>en</td><td>https://en.wikipedia.org/wiki/Deer_Park,_Wisconsin</td><td>https://upload.wikimedia.org/wikipedia/commons/2/2&#133;</td><td>Deer Park, Wisconsin</td><td></td><td>Deer Park, Wisconsin</td><td>Downtown Deer Park</td><td>English: Downtown Deer Park, Wisconsin on WIS46.</td><td>Downtown Deer Park</td><td>image/jpeg</td><td class=vellipsis>&hellip;</td><td>1</td><td>1</td><td>Deer Park is a village in St. Croix County, Wiscon&#133;</td><td>Deer Park is a village in St. Croix County, Wiscon&#133;</td><td>Deer Park, Wisconsin [SEP] Downtown Deer Park</td></tr>\n",
       "    <tr><td class='row_index'>3</td><td>pt</td><td>https://pt.wikipedia.org/wiki/Vaux-l%C3%A8s-Mouzon</td><td>https://upload.wikimedia.org/wikipedia/commons/6/6&#133;</td><td>Vaux-lès-Mouzon</td><td></td><td>Vaux-lès-Mouzon</td><td></td><td>Français&amp;#160;: Vaux-lès-Mouzon&amp;#160;: le village</td><td></td><td>image/jpeg</td><td class=vellipsis>&hellip;</td><td>0</td><td>0</td><td>Vaux-lès-Mouzon é uma comuna francesa na região ad&#133;</td><td>Vaux-lès-Mouzon é uma comuna francesa na região ad&#133;</td><td>Vaux-lès-Mouzon [SEP]</td></tr>\n",
       "    <tr><td class='row_index'>4</td><td>ne</td><td>https://ne.wikipedia.org/wiki/%E0%A4%95%E0%A5%8D%E&#133;</td><td>https://upload.wikimedia.org/wikipedia/commons/b/b&#133;</td><td>क्रिसमस टापु</td><td></td><td>क्रिसमस टापु</td><td></td><td>This is a locator map for Christmas Island I made.</td><td></td><td>image/png</td><td class=vellipsis>&hellip;</td><td>0</td><td>0</td><td>क्रिसमस टापु हिन्द महासागरमा अवस्थित अष्ट्रेलियाको&#133;</td><td>क्रिसमस टापु हिन्द महासागरमा अवस्थित अष्ट्रेलियाको&#133;</td><td>क्रिसमस टापु [SEP]</td></tr>\n",
       "    <tr><td class='row_index'>5</td><td>en</td><td>https://en.wikipedia.org/wiki/J%C3%BCrgen_Ovens</td><td>https://upload.wikimedia.org/wikipedia/commons/0/0&#133;</td><td>Jürgen Ovens</td><td>Works</td><td>Jürgen Ovens / Works</td><td>Jürgen Ovens's Justitia, 1663-1665, Museumsberg Fl&#133;</td><td></td><td></td><td>image/jpeg</td><td class=vellipsis>&hellip;</td><td>0</td><td>0</td><td>Jürgen Ovens, also known as Georg, or Jurriaen Ove&#133;</td><td>Ovens was appreciated for his portraits and painte&#133;</td><td>Jürgen Ovens [SEP] Jürgen Ovens's Justitia, 1663-1&#133;</td></tr>\n",
       "    <tr><td class='row_index'>6</td><td>hu</td><td>https://hu.wikipedia.org/wiki/Jablonn%C3%A1</td><td>https://upload.wikimedia.org/wikipedia/commons/3/3&#133;</td><td>Jablonná</td><td></td><td>Jablonná</td><td></td><td>Čeština: Kříž v ohrádce u komunikace z Kamýku na P&#133;</td><td></td><td>image/jpeg</td><td class=vellipsis>&hellip;</td><td>0</td><td>0</td><td>Jablonná település Csehországban, a Příbrami járás&#133;</td><td>Jablonná település Csehországban, a Příbrami járás&#133;</td><td>Jablonná [SEP]</td></tr>\n",
       "    <tr><td class='row_index'>7</td><td>cs</td><td>https://cs.wikipedia.org/wiki/V%C3%A1clav_Vladivoj&#133;</td><td>http://upload.wikimedia.org/wikipedia/commons/7/73&#133;</td><td>Václav Vladivoj Tomek</td><td>Rodina, studium a profesní dráha</td><td>Václav Vladivoj Tomek / Biografie / Rodina, studiu&#133;</td><td>Václav Vladivoj Tomek</td><td>Čeština: Václav Vladivoj Tomek English: Václav Vla&#133;</td><td></td><td>image/jpeg</td><td class=vellipsis>&hellip;</td><td>1</td><td>0</td><td>Václav Vladivoj rytíř Tomek, starším způsobem zápi&#133;</td><td>Narodil se v rodině obuvnického mistra. Na obecní &#133;</td><td>Václav Vladivoj Tomek [SEP] Václav Vladivoj Tomek</td></tr>\n",
       "    <tr><td class='row_index'>8</td><td>ml</td><td>https://ml.wikipedia.org/wiki/%E0%B4%AE%E0%B4%BE%E&#133;</td><td>https://upload.wikimedia.org/wikipedia/commons/a/a&#133;</td><td>മാർപ്പാപ്പാമാരുടെ പട്ടിക</td><td>മൂന്നാം നൂറ്റാണ്ട്</td><td>മാർപ്പാപ്പാമാരുടെ പട്ടിക / കാലക്രമമനുസരിച്ചുള്ള പട&#133;</td><td></td><td>English: Illustration of Pope Anterus</td><td></td><td>image/jpeg</td><td class=vellipsis>&hellip;</td><td>0</td><td>1</td><td>റോമൻ കത്തോലിക്കാ സഭയുടെ പരമാചാര്യനുംപരമ മേലദ്ധ്യക്&#133;</td><td></td><td>മാർപ്പാപ്പാമാരുടെ പട്ടിക [SEP]</td></tr>\n",
       "    <tr><td class='row_index'>9</td><td>ko</td><td>https://ko.wikipedia.org/wiki/%EC%B9%B4%EC%9D%B8%E&#133;</td><td>http://upload.wikimedia.org/wikipedia/commons/6/60&#133;</td><td>카인주</td><td></td><td>카인주</td><td></td><td>English: Kayin state in Myanmar</td><td></td><td>image/png</td><td class=vellipsis>&hellip;</td><td>0</td><td>0</td><td>카인주 또는 카렌주는 미얀마의 주이다. 주도는 파안이다.</td><td>카인주(버마어: ကရင်ပြည်နယ်, Kayin State) 또는 카렌주(Karen St&#133;</td><td>카인주 [SEP]</td></tr>\n",
       "  </tbody>\n",
       "  </table>\n",
       "  <div class='footer'>\n",
       "    <div class='frame_dimensions'>10 rows &times; 18 columns</div>\n",
       "  </div>\n",
       "</div>\n"
      ],
      "text/plain": [
       "<Frame#7fa344b24600 10x18>"
      ]
     },
     "execution_count": 48,
     "metadata": {},
     "output_type": "execute_result"
    }
   ],
   "source": [
    "import datatable as dt\n",
    "train0 = dt.fread('Data/train-00000-of-00005.tsv')\n",
    "train0.head()"
   ]
  },
  {
   "cell_type": "code",
   "execution_count": 55,
   "metadata": {},
   "outputs": [
    {
     "data": {
      "text/plain": [
       "language\n",
       "en          0.146194\n",
       "de          0.090268\n",
       "fr          0.068888\n",
       "es          0.046811\n",
       "ru          0.041328\n",
       "              ...   \n",
       "ia          0.000440\n",
       "ckb         0.000410\n",
       "si          0.000397\n",
       "xmf         0.000397\n",
       "cv          0.000388\n",
       "Length: 108, dtype: float64"
      ]
     },
     "execution_count": 55,
     "metadata": {},
     "output_type": "execute_result"
    }
   ],
   "source": [
    "train0_lan = train0['language'].to_pandas()\n",
    "train0_lan.value_counts(normalize=True)\n"
   ]
  },
  {
   "cell_type": "code",
   "execution_count": 57,
   "metadata": {},
   "outputs": [
    {
     "data": {
      "text/plain": [
       "4900000.000000001"
      ]
     },
     "execution_count": 57,
     "metadata": {},
     "output_type": "execute_result"
    }
   ],
   "source": [
    "0.14 * 7000000 * 5"
   ]
  },
  {
   "cell_type": "markdown",
   "metadata": {},
   "source": [
    "### \"Dirty\" prediction: \n",
    "Using only the URL to create a caption, since the URL already includes information about the image. "
   ]
  },
  {
   "cell_type": "code",
   "execution_count": 80,
   "metadata": {},
   "outputs": [],
   "source": [
    "from urllib.parse import unquote\n",
    "\n",
    "t = test.image_url.loc[2]\n",
    "\n",
    "def convert(t):\n",
    "    t = t.rsplit('/',1)[1]\n",
    "    t = unquote(t)\n",
    "    t = t.replace('_', ' ')\n",
    "    t = t + ' [SEP]'\n",
    "    return(t)"
   ]
  },
  {
   "cell_type": "code",
   "execution_count": 81,
   "metadata": {},
   "outputs": [
    {
     "name": "stdout",
     "output_type": "stream",
     "text": [
      "target: Pariser Kanonen [SEP]\n",
      "prediction: Pariser Kanonen [SEP]\n",
      "\n",
      "target: Republic P-43 Lancer [SEP]\n",
      "prediction: Republic P-43 Lancer [SEP]\n",
      "\n",
      "target: Deer Park, Wisconsin [SEP] Downtown Deer Park\n",
      "prediction: Deer Park, Wisconsin [SEP]\n",
      "\n",
      "target: Vaux-lès-Mouzon [SEP]\n",
      "prediction: Vaux-lès-Mouzon [SEP]\n",
      "\n",
      "target: क्रिसमस टापु [SEP]\n",
      "prediction: क्रिसमस टापु [SEP]\n",
      "\n"
     ]
    }
   ],
   "source": [
    "for i in range(5):\n",
    "    print(f'target: {train0[i,-1]}')\n",
    "    print(f'prediction: {convert(train0[i,1])}')\n",
    "    print()"
   ]
  },
  {
   "cell_type": "code",
   "execution_count": 82,
   "metadata": {},
   "outputs": [],
   "source": [
    "test['prediction'] = test['image_url'].apply(convert)\n"
   ]
  },
  {
   "cell_type": "code",
   "execution_count": 83,
   "metadata": {},
   "outputs": [
    {
     "data": {
      "text/html": [
       "<div>\n",
       "<style scoped>\n",
       "    .dataframe tbody tr th:only-of-type {\n",
       "        vertical-align: middle;\n",
       "    }\n",
       "\n",
       "    .dataframe tbody tr th {\n",
       "        vertical-align: top;\n",
       "    }\n",
       "\n",
       "    .dataframe thead th {\n",
       "        text-align: right;\n",
       "    }\n",
       "</style>\n",
       "<table border=\"1\" class=\"dataframe\">\n",
       "  <thead>\n",
       "    <tr style=\"text-align: right;\">\n",
       "      <th></th>\n",
       "      <th>id</th>\n",
       "      <th>image_url</th>\n",
       "      <th>prediction</th>\n",
       "    </tr>\n",
       "  </thead>\n",
       "  <tbody>\n",
       "    <tr>\n",
       "      <th>0</th>\n",
       "      <td>0</td>\n",
       "      <td>https://upload.wikimedia.org/wikipedia/commons...</td>\n",
       "      <td>Scots Gaelic speakers in the 2011 census.png [...</td>\n",
       "    </tr>\n",
       "    <tr>\n",
       "      <th>1</th>\n",
       "      <td>1</td>\n",
       "      <td>https://upload.wikimedia.org/wikipedia/commons...</td>\n",
       "      <td>Thermopylae ancient coastline large.jpg [SEP]</td>\n",
       "    </tr>\n",
       "    <tr>\n",
       "      <th>2</th>\n",
       "      <td>2</td>\n",
       "      <td>https://upload.wikimedia.org/wikipedia/commons...</td>\n",
       "      <td>Map of New York highlighting Sullivan County.s...</td>\n",
       "    </tr>\n",
       "    <tr>\n",
       "      <th>3</th>\n",
       "      <td>3</td>\n",
       "      <td>https://upload.wikimedia.org/wikipedia/commons...</td>\n",
       "      <td>Kykkos Watermill.jpg [SEP]</td>\n",
       "    </tr>\n",
       "    <tr>\n",
       "      <th>4</th>\n",
       "      <td>4</td>\n",
       "      <td>https://upload.wikimedia.org/wikipedia/commons...</td>\n",
       "      <td>Kansai International Airport03s3s4410.jpg [SEP]</td>\n",
       "    </tr>\n",
       "  </tbody>\n",
       "</table>\n",
       "</div>"
      ],
      "text/plain": [
       "   id                                          image_url  \\\n",
       "0   0  https://upload.wikimedia.org/wikipedia/commons...   \n",
       "1   1  https://upload.wikimedia.org/wikipedia/commons...   \n",
       "2   2  https://upload.wikimedia.org/wikipedia/commons...   \n",
       "3   3  https://upload.wikimedia.org/wikipedia/commons...   \n",
       "4   4  https://upload.wikimedia.org/wikipedia/commons...   \n",
       "\n",
       "                                          prediction  \n",
       "0  Scots Gaelic speakers in the 2011 census.png [...  \n",
       "1      Thermopylae ancient coastline large.jpg [SEP]  \n",
       "2  Map of New York highlighting Sullivan County.s...  \n",
       "3                         Kykkos Watermill.jpg [SEP]  \n",
       "4    Kansai International Airport03s3s4410.jpg [SEP]  "
      ]
     },
     "execution_count": 83,
     "metadata": {},
     "output_type": "execute_result"
    }
   ],
   "source": [
    "test.head()\n"
   ]
  },
  {
   "cell_type": "code",
   "execution_count": 64,
   "metadata": {},
   "outputs": [
    {
     "data": {
      "text/plain": [
       "92366"
      ]
     },
     "execution_count": 64,
     "metadata": {},
     "output_type": "execute_result"
    }
   ],
   "source": [
    "CAPTIONS = captions.caption_title_and_reference_description.values.tolist()\n",
    "len(CAPTIONS)"
   ]
  },
  {
   "cell_type": "code",
   "execution_count": 65,
   "metadata": {},
   "outputs": [],
   "source": [
    "from rapidfuzz import process, fuzz\n"
   ]
  },
  {
   "cell_type": "code",
   "execution_count": 84,
   "metadata": {},
   "outputs": [
    {
     "name": "stdout",
     "output_type": "stream",
     "text": [
      "image_url: Scots Gaelic speakers in the 2011 census.png [SEP]\n",
      "closest captions:\n",
      "São Vicente do Penso [SEP] Escudo\n",
      "Jocs Panamericans de 2011 [SEP] Guadalajara.\n",
      "Bois de pins et chênes de Madrean [SEP] carte\n",
      "Standard time in the United States [SEP] 1913\n",
      "Hebrides [SEP] Geographic distribution of Gaelic speakers in Scotland (2011)\n",
      "************************************************************\n",
      "\n",
      "image_url: Thermopylae ancient coastline large.jpg [SEP]\n",
      "closest captions:\n",
      "Oberlin College [SEP] Logo\n",
      "Departamento de Flores [SEP] Escudo\n",
      "Sekolah Menengah Kebangsaan Selandar [SEP] CNY 4\n",
      "Academia de Ciencias de Cuba [SEP] Sede.\n",
      "Geothermal areas in New Zealand [SEP] Geyser Flat\n",
      "************************************************************\n",
      "\n",
      "image_url: Map of New York highlighting Sullivan County.svg [SEP]\n",
      "closest captions:\n",
      "Breaking Clean [SEP] Map of Montana highlighting Phillips County\n",
      "New York City Subway [SEP] Ein Token\n",
      "Deogyang-gu [SEP] Map of Gyeonggi highlighting Deogyang-gu.\n",
      "Rome, New York [SEP] Location within Oneida County and New York\n",
      "Oneida County, New York [SEP] Oneida County Courthouse\n",
      "************************************************************\n",
      "\n",
      "image_url: Kykkos Watermill.jpg [SEP]\n",
      "closest captions:\n",
      "Kykkos watermill [SEP] Kykkos Watermill\n",
      "Kayseri [SEP] Mantı\n",
      "Klostret Gaming [SEP] Kyrkan\n",
      "Klostertal [SEP] Muttjöchle\n",
      "Kamijo [SEP] Kamijo\n",
      "************************************************************\n",
      "\n",
      "image_url: Kansai International Airport03s3s4410.jpg [SEP]\n",
      "closest captions:\n",
      "Hong Kong International Airport [SEP] Skypier\n",
      "Marshall Islands International Airport [SEP] Welcome\n",
      "Huntsville International Airport [SEP] View of the ramp\n",
      "King Khalid International Airport [SEP] Domestic Departure gate\n",
      "Great Falls International Airport [SEP] KGTF Airport Diagram\n",
      "************************************************************\n",
      "\n",
      "CPU times: user 78.3 ms, sys: 18.1 ms, total: 96.5 ms\n",
      "Wall time: 112 ms\n"
     ]
    }
   ],
   "source": [
    "%%time\n",
    "\n",
    "for i in range(5):\n",
    "    s = test.prediction.loc[i]\n",
    "    print(f'image_url: {s}')\n",
    "    res = process.extract(s, CAPTIONS, scorer=fuzz.ratio, processor=None, limit=5)\n",
    "    print(f'closest captions:')\n",
    "    for c in res:\n",
    "        print(c[0])\n",
    "    print('*'*60)\n",
    "    print()  "
   ]
  },
  {
   "cell_type": "code",
   "execution_count": 68,
   "metadata": {},
   "outputs": [],
   "source": [
    "def find_closest_match(s):\n",
    "    res = process.extract(s, CAPTIONS, scorer=fuzz.ratio, processor=None, limit=5)\n",
    "    res = [x[0] for x in res]\n",
    "    return res"
   ]
  },
  {
   "cell_type": "code",
   "execution_count": 69,
   "metadata": {},
   "outputs": [],
   "source": [
    "from tqdm.auto import tqdm\n",
    "tqdm.pandas()"
   ]
  },
  {
   "cell_type": "code",
   "execution_count": 85,
   "metadata": {},
   "outputs": [
    {
     "data": {
      "application/vnd.jupyter.widget-view+json": {
       "model_id": "6f8712b6e6aa41e4a27e5f91f828baa9",
       "version_major": 2,
       "version_minor": 0
      },
      "text/plain": [
       "  0%|          | 0/92366 [00:00<?, ?it/s]"
      ]
     },
     "metadata": {},
     "output_type": "display_data"
    }
   ],
   "source": [
    "test['caption_title_and_reference_description'] = test['prediction'].progress_apply(find_closest_match)"
   ]
  },
  {
   "cell_type": "code",
   "execution_count": 86,
   "metadata": {},
   "outputs": [
    {
     "data": {
      "text/html": [
       "<div>\n",
       "<style scoped>\n",
       "    .dataframe tbody tr th:only-of-type {\n",
       "        vertical-align: middle;\n",
       "    }\n",
       "\n",
       "    .dataframe tbody tr th {\n",
       "        vertical-align: top;\n",
       "    }\n",
       "\n",
       "    .dataframe thead th {\n",
       "        text-align: right;\n",
       "    }\n",
       "</style>\n",
       "<table border=\"1\" class=\"dataframe\">\n",
       "  <thead>\n",
       "    <tr style=\"text-align: right;\">\n",
       "      <th></th>\n",
       "      <th>id</th>\n",
       "      <th>image_url</th>\n",
       "      <th>prediction</th>\n",
       "      <th>caption_title_and_reference_description</th>\n",
       "    </tr>\n",
       "  </thead>\n",
       "  <tbody>\n",
       "    <tr>\n",
       "      <th>0</th>\n",
       "      <td>0</td>\n",
       "      <td>https://upload.wikimedia.org/wikipedia/commons...</td>\n",
       "      <td>Scots Gaelic speakers in the 2011 census.png [...</td>\n",
       "      <td>[São Vicente do Penso [SEP] Escudo, Jocs Panam...</td>\n",
       "    </tr>\n",
       "    <tr>\n",
       "      <th>1</th>\n",
       "      <td>1</td>\n",
       "      <td>https://upload.wikimedia.org/wikipedia/commons...</td>\n",
       "      <td>Thermopylae ancient coastline large.jpg [SEP]</td>\n",
       "      <td>[Oberlin College [SEP] Logo, Departamento de F...</td>\n",
       "    </tr>\n",
       "    <tr>\n",
       "      <th>2</th>\n",
       "      <td>2</td>\n",
       "      <td>https://upload.wikimedia.org/wikipedia/commons...</td>\n",
       "      <td>Map of New York highlighting Sullivan County.s...</td>\n",
       "      <td>[Breaking Clean [SEP] Map of Montana highlight...</td>\n",
       "    </tr>\n",
       "    <tr>\n",
       "      <th>3</th>\n",
       "      <td>3</td>\n",
       "      <td>https://upload.wikimedia.org/wikipedia/commons...</td>\n",
       "      <td>Kykkos Watermill.jpg [SEP]</td>\n",
       "      <td>[Kykkos watermill [SEP] Kykkos Watermill, Kays...</td>\n",
       "    </tr>\n",
       "    <tr>\n",
       "      <th>4</th>\n",
       "      <td>4</td>\n",
       "      <td>https://upload.wikimedia.org/wikipedia/commons...</td>\n",
       "      <td>Kansai International Airport03s3s4410.jpg [SEP]</td>\n",
       "      <td>[Hong Kong International Airport [SEP] Skypier...</td>\n",
       "    </tr>\n",
       "    <tr>\n",
       "      <th>...</th>\n",
       "      <td>...</td>\n",
       "      <td>...</td>\n",
       "      <td>...</td>\n",
       "      <td>...</td>\n",
       "    </tr>\n",
       "    <tr>\n",
       "      <th>92361</th>\n",
       "      <td>92361</td>\n",
       "      <td>https://upload.wikimedia.org/wikipedia/commons...</td>\n",
       "      <td>Alsterquelle 001.jpg [SEP]</td>\n",
       "      <td>[Elsterheide [SEP] Nardt, Elsterheide vald [SE...</td>\n",
       "    </tr>\n",
       "    <tr>\n",
       "      <th>92362</th>\n",
       "      <td>92362</td>\n",
       "      <td>https://upload.wikimedia.org/wikipedia/commons...</td>\n",
       "      <td>Stavoren 1649 Blaeu.jpg [SEP]</td>\n",
       "      <td>[Stavoren [SEP] Mapo el 1649, Nora Stanton Bar...</td>\n",
       "    </tr>\n",
       "    <tr>\n",
       "      <th>92363</th>\n",
       "      <td>92363</td>\n",
       "      <td>https://upload.wikimedia.org/wikipedia/commons...</td>\n",
       "      <td>Karlovy Vary smírčí kříž Na Milíři 6.jpg [SEP]</td>\n",
       "      <td>[Karolina Lanckorońska [SEP] 1945, Klostret Ga...</td>\n",
       "    </tr>\n",
       "    <tr>\n",
       "      <th>92364</th>\n",
       "      <td>92364</td>\n",
       "      <td>https://upload.wikimedia.org/wikipedia/commons...</td>\n",
       "      <td>Winchester Repeating Arms Company advertisemen...</td>\n",
       "      <td>[Winchester Repeating Arms Company [SEP] Magaz...</td>\n",
       "    </tr>\n",
       "    <tr>\n",
       "      <th>92365</th>\n",
       "      <td>92365</td>\n",
       "      <td>https://upload.wikimedia.org/wikipedia/commons...</td>\n",
       "      <td>Antártida. Década de 1970. 31.JPG [SEP]</td>\n",
       "      <td>[Provincia de San José [SEP] Escudo, Marília [...</td>\n",
       "    </tr>\n",
       "  </tbody>\n",
       "</table>\n",
       "<p>92366 rows × 4 columns</p>\n",
       "</div>"
      ],
      "text/plain": [
       "          id                                          image_url  \\\n",
       "0          0  https://upload.wikimedia.org/wikipedia/commons...   \n",
       "1          1  https://upload.wikimedia.org/wikipedia/commons...   \n",
       "2          2  https://upload.wikimedia.org/wikipedia/commons...   \n",
       "3          3  https://upload.wikimedia.org/wikipedia/commons...   \n",
       "4          4  https://upload.wikimedia.org/wikipedia/commons...   \n",
       "...      ...                                                ...   \n",
       "92361  92361  https://upload.wikimedia.org/wikipedia/commons...   \n",
       "92362  92362  https://upload.wikimedia.org/wikipedia/commons...   \n",
       "92363  92363  https://upload.wikimedia.org/wikipedia/commons...   \n",
       "92364  92364  https://upload.wikimedia.org/wikipedia/commons...   \n",
       "92365  92365  https://upload.wikimedia.org/wikipedia/commons...   \n",
       "\n",
       "                                              prediction  \\\n",
       "0      Scots Gaelic speakers in the 2011 census.png [...   \n",
       "1          Thermopylae ancient coastline large.jpg [SEP]   \n",
       "2      Map of New York highlighting Sullivan County.s...   \n",
       "3                             Kykkos Watermill.jpg [SEP]   \n",
       "4        Kansai International Airport03s3s4410.jpg [SEP]   \n",
       "...                                                  ...   \n",
       "92361                         Alsterquelle 001.jpg [SEP]   \n",
       "92362                      Stavoren 1649 Blaeu.jpg [SEP]   \n",
       "92363     Karlovy Vary smírčí kříž Na Milíři 6.jpg [SEP]   \n",
       "92364  Winchester Repeating Arms Company advertisemen...   \n",
       "92365            Antártida. Década de 1970. 31.JPG [SEP]   \n",
       "\n",
       "                 caption_title_and_reference_description  \n",
       "0      [São Vicente do Penso [SEP] Escudo, Jocs Panam...  \n",
       "1      [Oberlin College [SEP] Logo, Departamento de F...  \n",
       "2      [Breaking Clean [SEP] Map of Montana highlight...  \n",
       "3      [Kykkos watermill [SEP] Kykkos Watermill, Kays...  \n",
       "4      [Hong Kong International Airport [SEP] Skypier...  \n",
       "...                                                  ...  \n",
       "92361  [Elsterheide [SEP] Nardt, Elsterheide vald [SE...  \n",
       "92362  [Stavoren [SEP] Mapo el 1649, Nora Stanton Bar...  \n",
       "92363  [Karolina Lanckorońska [SEP] 1945, Klostret Ga...  \n",
       "92364  [Winchester Repeating Arms Company [SEP] Magaz...  \n",
       "92365  [Provincia de San José [SEP] Escudo, Marília [...  \n",
       "\n",
       "[92366 rows x 4 columns]"
      ]
     },
     "execution_count": 86,
     "metadata": {},
     "output_type": "execute_result"
    }
   ],
   "source": [
    "test"
   ]
  },
  {
   "cell_type": "code",
   "execution_count": 73,
   "metadata": {},
   "outputs": [
    {
     "data": {
      "text/plain": [
       "0          0\n",
       "1          1\n",
       "2          2\n",
       "3          3\n",
       "4          4\n",
       "        ... \n",
       "8947    8947\n",
       "8948    8948\n",
       "8949    8949\n",
       "8950    8950\n",
       "8951    8951\n",
       "Name: id, Length: 8952, dtype: int64"
      ]
     },
     "execution_count": 73,
     "metadata": {},
     "output_type": "execute_result"
    }
   ],
   "source": [
    "#test['id'] = test0.index\n",
    "#test0['id'] "
   ]
  },
  {
   "cell_type": "code",
   "execution_count": 87,
   "metadata": {},
   "outputs": [
    {
     "data": {
      "text/html": [
       "<div>\n",
       "<style scoped>\n",
       "    .dataframe tbody tr th:only-of-type {\n",
       "        vertical-align: middle;\n",
       "    }\n",
       "\n",
       "    .dataframe tbody tr th {\n",
       "        vertical-align: top;\n",
       "    }\n",
       "\n",
       "    .dataframe thead th {\n",
       "        text-align: right;\n",
       "    }\n",
       "</style>\n",
       "<table border=\"1\" class=\"dataframe\">\n",
       "  <thead>\n",
       "    <tr style=\"text-align: right;\">\n",
       "      <th></th>\n",
       "      <th>id</th>\n",
       "      <th>caption_title_and_reference_description</th>\n",
       "    </tr>\n",
       "  </thead>\n",
       "  <tbody>\n",
       "    <tr>\n",
       "      <th>0</th>\n",
       "      <td>0</td>\n",
       "      <td>São Vicente do Penso [SEP] Escudo</td>\n",
       "    </tr>\n",
       "    <tr>\n",
       "      <th>0</th>\n",
       "      <td>0</td>\n",
       "      <td>Jocs Panamericans de 2011 [SEP] Guadalajara.</td>\n",
       "    </tr>\n",
       "    <tr>\n",
       "      <th>0</th>\n",
       "      <td>0</td>\n",
       "      <td>Bois de pins et chênes de Madrean [SEP] carte</td>\n",
       "    </tr>\n",
       "    <tr>\n",
       "      <th>0</th>\n",
       "      <td>0</td>\n",
       "      <td>Standard time in the United States [SEP] 1913</td>\n",
       "    </tr>\n",
       "    <tr>\n",
       "      <th>0</th>\n",
       "      <td>0</td>\n",
       "      <td>Hebrides [SEP] Geographic distribution of Gael...</td>\n",
       "    </tr>\n",
       "  </tbody>\n",
       "</table>\n",
       "</div>"
      ],
      "text/plain": [
       "   id            caption_title_and_reference_description\n",
       "0   0                  São Vicente do Penso [SEP] Escudo\n",
       "0   0       Jocs Panamericans de 2011 [SEP] Guadalajara.\n",
       "0   0      Bois de pins et chênes de Madrean [SEP] carte\n",
       "0   0      Standard time in the United States [SEP] 1913\n",
       "0   0  Hebrides [SEP] Geographic distribution of Gael..."
      ]
     },
     "execution_count": 87,
     "metadata": {},
     "output_type": "execute_result"
    }
   ],
   "source": [
    "sub = test[['id', 'caption_title_and_reference_description']]\n",
    "sub = sub.explode('caption_title_and_reference_description')\n",
    "sub.head()\n"
   ]
  },
  {
   "cell_type": "code",
   "execution_count": 88,
   "metadata": {},
   "outputs": [
    {
     "data": {
      "text/html": [
       "<div>\n",
       "<style scoped>\n",
       "    .dataframe tbody tr th:only-of-type {\n",
       "        vertical-align: middle;\n",
       "    }\n",
       "\n",
       "    .dataframe tbody tr th {\n",
       "        vertical-align: top;\n",
       "    }\n",
       "\n",
       "    .dataframe thead th {\n",
       "        text-align: right;\n",
       "    }\n",
       "</style>\n",
       "<table border=\"1\" class=\"dataframe\">\n",
       "  <thead>\n",
       "    <tr style=\"text-align: right;\">\n",
       "      <th></th>\n",
       "      <th>id</th>\n",
       "      <th>caption_title_and_reference_description</th>\n",
       "    </tr>\n",
       "  </thead>\n",
       "  <tbody>\n",
       "    <tr>\n",
       "      <th>92365</th>\n",
       "      <td>92365</td>\n",
       "      <td>Provincia de San José [SEP] Escudo</td>\n",
       "    </tr>\n",
       "    <tr>\n",
       "      <th>92365</th>\n",
       "      <td>92365</td>\n",
       "      <td>Marília [SEP] Marília (década de 1960).</td>\n",
       "    </tr>\n",
       "    <tr>\n",
       "      <th>92365</th>\n",
       "      <td>92365</td>\n",
       "      <td>Marília [SEP] Marília (década de 1960).</td>\n",
       "    </tr>\n",
       "    <tr>\n",
       "      <th>92365</th>\n",
       "      <td>92365</td>\n",
       "      <td>Angliai csata [SEP] Bf 109</td>\n",
       "    </tr>\n",
       "    <tr>\n",
       "      <th>92365</th>\n",
       "      <td>92365</td>\n",
       "      <td>Eleccións xerais de España de 1931 [SEP] Votac...</td>\n",
       "    </tr>\n",
       "  </tbody>\n",
       "</table>\n",
       "</div>"
      ],
      "text/plain": [
       "          id            caption_title_and_reference_description\n",
       "92365  92365                 Provincia de San José [SEP] Escudo\n",
       "92365  92365            Marília [SEP] Marília (década de 1960).\n",
       "92365  92365            Marília [SEP] Marília (década de 1960).\n",
       "92365  92365                         Angliai csata [SEP] Bf 109\n",
       "92365  92365  Eleccións xerais de España de 1931 [SEP] Votac..."
      ]
     },
     "execution_count": 88,
     "metadata": {},
     "output_type": "execute_result"
    }
   ],
   "source": [
    "sub.tail()\n"
   ]
  },
  {
   "cell_type": "code",
   "execution_count": 76,
   "metadata": {},
   "outputs": [
    {
     "data": {
      "text/plain": [
       "(44760, 2)"
      ]
     },
     "execution_count": 76,
     "metadata": {},
     "output_type": "execute_result"
    }
   ],
   "source": [
    "sub.shape"
   ]
  },
  {
   "cell_type": "code",
   "execution_count": 89,
   "metadata": {},
   "outputs": [],
   "source": [
    "sub.to_csv('submission.csv', index=False)\n"
   ]
  },
  {
   "cell_type": "markdown",
   "metadata": {},
   "source": [
    "We've now been able to score above 0.0000 on the leaderboard. To be honest, I'm not sure if using page_url is expected by the host so I asked that question on the forum. For sure, the more challenging and interesting aspect is matching the captions directly with images, and we'll try to tackle that next :)"
   ]
  },
  {
   "cell_type": "code",
   "execution_count": null,
   "metadata": {},
   "outputs": [],
   "source": []
  }
 ],
 "metadata": {
  "kernelspec": {
   "display_name": "Python 3",
   "language": "python",
   "name": "python3"
  },
  "language_info": {
   "codemirror_mode": {
    "name": "ipython",
    "version": 3
   },
   "file_extension": ".py",
   "mimetype": "text/x-python",
   "name": "python",
   "nbconvert_exporter": "python",
   "pygments_lexer": "ipython3",
   "version": "3.8.8"
  }
 },
 "nbformat": 4,
 "nbformat_minor": 4
}
